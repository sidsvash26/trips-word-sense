{
 "cells": [
  {
   "cell_type": "markdown",
   "metadata": {},
   "source": [
    "## Demo Notebook"
   ]
  },
  {
   "cell_type": "markdown",
   "metadata": {},
   "source": [
    "This notebook describes how to use multiple features of this module"
   ]
  },
  {
   "cell_type": "markdown",
   "metadata": {},
   "source": [
    "#### Load libraries\n"
   ]
  },
  {
   "cell_type": "code",
   "execution_count": 1,
   "metadata": {},
   "outputs": [
    {
     "name": "stderr",
     "output_type": "stream",
     "text": [
      "2019-04-23 04:20:05,723 : pytrips : INFO : Loading ontology\n",
      "2019-04-23 04:20:05,857 : pytrips : INFO : Loaded ontology\n",
      "2019-04-23 04:20:05,858 : pytrips : INFO : Loading lexicon\n",
      "2019-04-23 04:20:06,141 : pytrips : INFO : Loaded lexicon\n",
      "2019-04-23 04:20:09,158 : pytrips.helpers : INFO : no synset found for distinct%5:00:00::\n",
      "2019-04-23 04:20:09,162 : pytrips.helpers : INFO : no synset found for distinct%5:00:00::\n",
      "2019-04-23 04:20:09,524 : pytrips.helpers : INFO : no synset found for absolute%3:00:00:inalienable:00\n",
      "2019-04-23 04:20:09,527 : pytrips.helpers : INFO : no synset found for absolute%3:00:00:inalienable:00\n",
      "2019-04-23 04:20:09,732 : pytrips.helpers : INFO : no synset found for be%2:42:012::\n",
      "2019-04-23 04:20:09,737 : pytrips.helpers : INFO : no synset found for be%2:42:012::\n",
      "2019-04-23 04:20:09,839 : pytrips.helpers : INFO : no synset found for favourite%3:00:00:popular:00\n",
      "2019-04-23 04:20:09,841 : pytrips.helpers : INFO : no synset found for favourite%3:00:00:loved:00\n",
      "2019-04-23 04:20:09,843 : pytrips.helpers : INFO : no synset found for favourite%3:00:00:popular:00\n",
      "2019-04-23 04:20:09,844 : pytrips.helpers : INFO : no synset found for favourite%3:00:00:loved:00\n",
      "2019-04-23 04:20:09,940 : pytrips.helpers : INFO : no synset found for flavor%2:35:00::\n",
      "2019-04-23 04:20:09,942 : pytrips.helpers : INFO : no synset found for flavor%2:35:00::\n",
      "2019-04-23 04:20:10,122 : pytrips.helpers : INFO : no synset found for ideal%3:00:00:perfect:00\n",
      "2019-04-23 04:20:10,126 : pytrips.helpers : INFO : no synset found for ideal%3:00:00:perfect:00\n",
      "2019-04-23 04:20:10,509 : pytrips.helpers : INFO : no synset found for immoral%3:00:00:wrong:01\n",
      "2019-04-23 04:20:10,514 : pytrips.helpers : INFO : no synset found for immoral%3:00:00:wrong:01\n",
      "2019-04-23 04:20:11,867 : pytrips.helpers : INFO : no synset found for another%3:00:00::\n",
      "2019-04-23 04:20:11,871 : pytrips.helpers : INFO : no synset found for another%3:00:00::\n",
      "2019-04-23 04:20:12,002 : pytrips.helpers : INFO : no synset found for nauseous%3:00:00:ill:01\n",
      "2019-04-23 04:20:12,004 : pytrips.helpers : INFO : no synset found for nauseated%3:00:00:ill:01\n",
      "2019-04-23 04:20:12,006 : pytrips.helpers : INFO : no synset found for queasy%3:00:00:ill:01\n",
      "2019-04-23 04:20:12,008 : pytrips.helpers : INFO : no synset found for sickish%3:00:00:ill:01\n",
      "2019-04-23 04:20:12,011 : pytrips.helpers : INFO : no synset found for nauseous%3:00:00:ill:01\n",
      "2019-04-23 04:20:12,013 : pytrips.helpers : INFO : no synset found for nauseated%3:00:00:ill:01\n",
      "2019-04-23 04:20:12,014 : pytrips.helpers : INFO : no synset found for queasy%3:00:00:ill:01\n",
      "2019-04-23 04:20:12,016 : pytrips.helpers : INFO : no synset found for sickish%3:00:00:ill:01\n",
      "2019-04-23 04:20:12,845 : pytrips.helpers : INFO : no synset found for corresponding%5:00:00::\n",
      "2019-04-23 04:20:12,851 : pytrips.helpers : INFO : no synset found for corresponding%5:00:00::\n",
      "2019-04-23 04:20:13,443 : pytrips.helpers : INFO : no synset found for technology%1:06:00::\n",
      "2019-04-23 04:20:13,445 : pytrips.helpers : INFO : no synset found for technology%1:06:00::\n"
     ]
    }
   ],
   "source": [
    "## IMS Model Path\n",
    "from pyims import PyIMS\n",
    "path_to_ims =  \"../ims/\"\n",
    "wsd_ims = PyIMS(path_to_ims, \"models-MUN-SC-wn30\")\n",
    "\n",
    "## Other libraries\n",
    "from trips_senses import *\n",
    "from IPython.core.display import display"
   ]
  },
  {
   "cell_type": "markdown",
   "metadata": {},
   "source": [
    "## 1. Using IMS"
   ]
  },
  {
   "cell_type": "code",
   "execution_count": 2,
   "metadata": {},
   "outputs": [],
   "source": [
    "sent =  \"The car hit the bus.\""
   ]
  },
  {
   "cell_type": "markdown",
   "metadata": {},
   "source": [
    "### 1.1 Word-Net distribution"
   ]
  },
  {
   "cell_type": "code",
   "execution_count": 3,
   "metadata": {},
   "outputs": [
    {
     "name": "stdout",
     "output_type": "stream",
     "text": [
      "WSD WordNet distribution:\n"
     ]
    },
    {
     "data": {
      "text/plain": [
       "[['The', [('U', 1.0)]],\n",
       " ['car',\n",
       "  [('car%1:06:00::', 0.5466232021349758),\n",
       "   ('car%1:06:01::', 0.22865154826512915),\n",
       "   ('cable_car%1:06:00::', 0.22472524959989498)]],\n",
       " ['hit',\n",
       "  [('hit%2:35:01::', 0.12496523905244077),\n",
       "   ('hit%2:35:00::', 0.1115759660842826),\n",
       "   ('hit%2:35:05::', 0.09402662637602924),\n",
       "   ('hit%2:35:03::', 0.08916552095889284),\n",
       "   ('reach%2:38:01::', 0.08597815116758135),\n",
       "   ('hit%2:39:00::', 0.0851639589801747),\n",
       "   ('strike%2:33:00::', 0.08347737165909269),\n",
       "   ('shoot%2:33:01::', 0.08328311721363159),\n",
       "   ('hit%2:33:03::', 0.08233473527972301),\n",
       "   ('stumble%2:40:10::', 0.08082972559672569),\n",
       "   ('score%2:33:00::', 0.07919958763142537)]],\n",
       " ['the', [('U', 1.0)]],\n",
       " ['bus', [('bus%1:06:00::', 1.0)]],\n",
       " ['.', [('U', 1.0)]]]"
      ]
     },
     "metadata": {},
     "output_type": "display_data"
    }
   ],
   "source": [
    "print(\"WSD WordNet distribution:\")\n",
    "display(sent_to_wn_senses(sent, system=\"ims\", ims_object=wsd_ims))"
   ]
  },
  {
   "cell_type": "markdown",
   "metadata": {},
   "source": [
    "### 1.2 TRIPS distribution"
   ]
  },
  {
   "cell_type": "markdown",
   "metadata": {},
   "source": [
    "#### 1.2.1  TRIPS distribution - One-to-one mapping from WN to TRIPS - Raw probabilities"
   ]
  },
  {
   "cell_type": "code",
   "execution_count": 4,
   "metadata": {},
   "outputs": [
    {
     "name": "stdout",
     "output_type": "stream",
     "text": [
      "WSD TRIPS distribution: (one-to-one mapping raw probabilities) :\n"
     ]
    },
    {
     "data": {
      "text/plain": [
       "[['The', [['UNK1', 1.0]]],\n",
       " ['car',\n",
       "  [[ont::land-vehicle, 0.10932464042699516],\n",
       "   [ont::land-vehicle, 0.10932464042699516],\n",
       "   [ont::land-vehicle, 0.10932464042699516],\n",
       "   [ont::land-vehicle, 0.10932464042699516],\n",
       "   [ont::land-vehicle, 0.10932464042699516],\n",
       "   [ont::land-vehicle, 0.22865154826512915],\n",
       "   [ont::cell-compartment, 0.22472524959989498]]],\n",
       " ['hit',\n",
       "  [[ont::collide, 0.03124130976311019],\n",
       "   [ont::collide, 0.03124130976311019],\n",
       "   [ont::collide, 0.03124130976311019],\n",
       "   [ont::hitting, 0.03124130976311019],\n",
       "   [ont::touch, 0.1115759660842826],\n",
       "   [ont::change, 0.09402662637602924],\n",
       "   [ont::hitting, 0.08916552095889284],\n",
       "   [ont::arrive, 0.08597815116758135],\n",
       "   [ont::affect-experiencer, 0.0851639589801747],\n",
       "   [ont::attack, 0.08347737165909269],\n",
       "   [ont::evoke-injury, 0.08328311721363159],\n",
       "   [ont::complete, 0.08233473527972301],\n",
       "   [ont::acquire, 0.08082972559672569],\n",
       "   [ont::acquire, 0.07919958763142537]]],\n",
       " ['the', [['UNK1', 1.0]]],\n",
       " ['bus', [[ont::vehicle, 1.0]]],\n",
       " ['.', [['UNK1', 1.0]]]]"
      ]
     },
     "metadata": {},
     "output_type": "display_data"
    }
   ],
   "source": [
    "print(\"WSD TRIPS distribution: (one-to-one mapping raw probabilities) :\")\n",
    "display(sent_to_trips_senses(sent, system=\"ims\", \n",
    "                                        ims_object=wsd_ims , \n",
    "                                        prob=\"raw\"))"
   ]
  },
  {
   "cell_type": "markdown",
   "metadata": {},
   "source": [
    "#### 1.2.2 TRIPS distribution - Probabilities summed up for multiple entries of the same Trips-type"
   ]
  },
  {
   "cell_type": "code",
   "execution_count": 5,
   "metadata": {},
   "outputs": [
    {
     "name": "stdout",
     "output_type": "stream",
     "text": [
      "WSD TRIPS distribution: (probabilities summed up for multiple TRIPS senses) :\n"
     ]
    },
    {
     "data": {
      "text/plain": [
       "[['The', [('UNK1', 1.0)]],\n",
       " ['car',\n",
       "  [(ont::land-vehicle, 0.775274750400105),\n",
       "   (ont::cell-compartment, 0.22472524959989498)]],\n",
       " ['hit',\n",
       "  [(ont::acquire, 0.16002931322815106),\n",
       "   (ont::hitting, 0.12040683072200303),\n",
       "   (ont::touch, 0.1115759660842826),\n",
       "   (ont::change, 0.09402662637602924),\n",
       "   (ont::collide, 0.09372392928933057),\n",
       "   (ont::arrive, 0.08597815116758135),\n",
       "   (ont::affect-experiencer, 0.0851639589801747),\n",
       "   (ont::attack, 0.08347737165909269),\n",
       "   (ont::evoke-injury, 0.08328311721363159),\n",
       "   (ont::complete, 0.08233473527972301)]],\n",
       " ['the', [('UNK1', 1.0)]],\n",
       " ['bus', [(ont::vehicle, 1.0)]],\n",
       " ['.', [('UNK1', 1.0)]]]"
      ]
     },
     "metadata": {},
     "output_type": "display_data"
    }
   ],
   "source": [
    "print(\"WSD TRIPS distribution: (probabilities summed up for multiple TRIPS senses) :\")\n",
    "display(sent_to_trips_senses(sent, system=\"ims\", \n",
    "                                        ims_object=wsd_ims , \n",
    "                                        prob=\"combine\", \n",
    "                                        order=\"prob\", \n",
    "                                        param=\"sum\"))"
   ]
  },
  {
   "cell_type": "markdown",
   "metadata": {},
   "source": [
    "#### 1.2.3 TRIPS distribution - Max Probability is taken for multiple entries of the same Trips-type"
   ]
  },
  {
   "cell_type": "code",
   "execution_count": 6,
   "metadata": {
    "scrolled": true
   },
   "outputs": [
    {
     "name": "stdout",
     "output_type": "stream",
     "text": [
      "WSD TRIPS distribution: (probabilities summed up for multiple TRIPS senses) :\n"
     ]
    },
    {
     "data": {
      "text/plain": [
       "[['The', [('UNK1', 1.0)]],\n",
       " ['car',\n",
       "  [(ont::land-vehicle, 0.22865154826512915),\n",
       "   (ont::cell-compartment, 0.22472524959989498)]],\n",
       " ['hit',\n",
       "  [(ont::touch, 0.1115759660842826),\n",
       "   (ont::change, 0.09402662637602924),\n",
       "   (ont::hitting, 0.08916552095889284),\n",
       "   (ont::arrive, 0.08597815116758135),\n",
       "   (ont::affect-experiencer, 0.0851639589801747),\n",
       "   (ont::attack, 0.08347737165909269),\n",
       "   (ont::evoke-injury, 0.08328311721363159),\n",
       "   (ont::complete, 0.08233473527972301),\n",
       "   (ont::acquire, 0.08082972559672569),\n",
       "   (ont::collide, 0.03124130976311019)]],\n",
       " ['the', [('UNK1', 1.0)]],\n",
       " ['bus', [(ont::vehicle, 1.0)]],\n",
       " ['.', [('UNK1', 1.0)]]]"
      ]
     },
     "metadata": {},
     "output_type": "display_data"
    }
   ],
   "source": [
    "print(\"WSD TRIPS distribution: (probabilities summed up for multiple TRIPS senses) :\")\n",
    "display(sent_to_trips_senses(sent, system=\"ims\", \n",
    "                                        ims_object=wsd_ims , \n",
    "                                        prob=\"combine\", \n",
    "                                        order=\"prob\", \n",
    "                                        param=\"max\"))"
   ]
  },
  {
   "cell_type": "markdown",
   "metadata": {},
   "source": [
    "## 2. Using SupWSD"
   ]
  },
  {
   "cell_type": "markdown",
   "metadata": {},
   "source": [
    "#### SupWSD API Key"
   ]
  },
  {
   "cell_type": "code",
   "execution_count": 7,
   "metadata": {},
   "outputs": [],
   "source": [
    "sup_key = \"#######\" #Enter the API key obtained from registration (https://supwsd.net/supwsd/register.jsp)"
   ]
  },
  {
   "cell_type": "markdown",
   "metadata": {},
   "source": [
    "### 2.1 Word-Net distribution"
   ]
  },
  {
   "cell_type": "code",
   "execution_count": 8,
   "metadata": {},
   "outputs": [
    {
     "name": "stdout",
     "output_type": "stream",
     "text": [
      "WSD WordNet distribution:\n"
     ]
    },
    {
     "data": {
      "text/plain": [
       "[['The', [('U', 1.0)]],\n",
       " ['car',\n",
       "  [('car%1:06:00::', 0.595950239483418),\n",
       "   ('car%1:06:01::', 0.40404976051658203)]],\n",
       " ['hit',\n",
       "  [('hit%2:35:01::', 0.16557789898544484),\n",
       "   ('hit%2:35:05::', 0.10663242087033634),\n",
       "   ('hit%2:35:03::', 0.09902089758040047),\n",
       "   ('hit%2:39:00::', 0.0959103849337613),\n",
       "   ('hit%2:38:00::', 0.09303835525240342),\n",
       "   ('hit%2:33:01::', 0.09073476226532658),\n",
       "   ('hit%2:33:00::', 0.08988978241769471),\n",
       "   ('hit%2:35:00::', 0.08830424178832888),\n",
       "   ('hit%2:33:02::', 0.08591498851181274),\n",
       "   ('hit%2:40:05::', 0.0849762673944906)]],\n",
       " ['the', [('U', 1.0)]],\n",
       " ['bus', [('bus%1:06:00::', 1.0)]],\n",
       " ['.', [('U', 1.0)]]]"
      ]
     },
     "metadata": {},
     "output_type": "display_data"
    }
   ],
   "source": [
    "print(\"WSD WordNet distribution:\")\n",
    "display(sent_to_wn_senses(sent, system=\"supwsd\", supwsd_apikey=sup_key))"
   ]
  },
  {
   "cell_type": "markdown",
   "metadata": {},
   "source": [
    "### 2.2 TRIPS distribution"
   ]
  },
  {
   "cell_type": "markdown",
   "metadata": {},
   "source": [
    "#### 2.2.1  TRIPS distribution - One-to-one mapping from WN to TRIPS - Raw probabilities"
   ]
  },
  {
   "cell_type": "code",
   "execution_count": 9,
   "metadata": {},
   "outputs": [
    {
     "name": "stdout",
     "output_type": "stream",
     "text": [
      "WSD TRIPS distribution: (one-to-one mapping raw probabilities) :\n"
     ]
    },
    {
     "data": {
      "text/plain": [
       "[['The', [['UNK1', 1.0]]],\n",
       " ['car',\n",
       "  [[ont::land-vehicle, 0.1191900478966836],\n",
       "   [ont::land-vehicle, 0.1191900478966836],\n",
       "   [ont::land-vehicle, 0.1191900478966836],\n",
       "   [ont::land-vehicle, 0.1191900478966836],\n",
       "   [ont::land-vehicle, 0.1191900478966836],\n",
       "   [ont::land-vehicle, 0.40404976051658203]]],\n",
       " ['hit',\n",
       "  [[ont::collide, 0.04139447474636121],\n",
       "   [ont::collide, 0.04139447474636121],\n",
       "   [ont::collide, 0.04139447474636121],\n",
       "   [ont::hitting, 0.04139447474636121],\n",
       "   [ont::change, 0.10663242087033634],\n",
       "   [ont::hitting, 0.09902089758040047],\n",
       "   [ont::affect-experiencer, 0.0959103849337613],\n",
       "   [ont::arrive, 0.09303835525240342],\n",
       "   [ont::evoke-injury, 0.09073476226532658],\n",
       "   [ont::attack, 0.08988978241769471],\n",
       "   [ont::touch, 0.08830424178832888],\n",
       "   [ont::acquire, 0.08591498851181274],\n",
       "   [ont::acquire, 0.0849762673944906]]],\n",
       " ['the', [['UNK1', 1.0]]],\n",
       " ['bus', [[ont::vehicle, 1.0]]],\n",
       " ['.', [['UNK1', 1.0]]]]"
      ]
     },
     "metadata": {},
     "output_type": "display_data"
    }
   ],
   "source": [
    "print(\"WSD TRIPS distribution: (one-to-one mapping raw probabilities) :\")\n",
    "display(sent_to_trips_senses(sent, system=\"supwsd\", \n",
    "                                     supwsd_apikey=sup_key, \n",
    "                                        prob=\"raw\"))"
   ]
  },
  {
   "cell_type": "markdown",
   "metadata": {},
   "source": [
    "#### 2.2.2 TRIPS distribution - Probabilities summed up for multiple entries of the same Trips-type"
   ]
  },
  {
   "cell_type": "code",
   "execution_count": 10,
   "metadata": {},
   "outputs": [
    {
     "name": "stdout",
     "output_type": "stream",
     "text": [
      "WSD TRIPS distribution: (probabilities summed up for multiple TRIPS senses) :\n"
     ]
    },
    {
     "data": {
      "text/plain": [
       "[['The', [('UNK1', 1.0)]],\n",
       " ['car', [(ont::land-vehicle, 1.0)]],\n",
       " ['hit',\n",
       "  [(ont::acquire, 0.17089125590630333),\n",
       "   (ont::hitting, 0.14041537232676168),\n",
       "   (ont::collide, 0.12418342423908363),\n",
       "   (ont::change, 0.10663242087033634),\n",
       "   (ont::affect-experiencer, 0.0959103849337613),\n",
       "   (ont::arrive, 0.09303835525240342),\n",
       "   (ont::evoke-injury, 0.09073476226532658),\n",
       "   (ont::attack, 0.08988978241769471),\n",
       "   (ont::touch, 0.08830424178832888)]],\n",
       " ['the', [('UNK1', 1.0)]],\n",
       " ['bus', [(ont::vehicle, 1.0)]],\n",
       " ['.', [('UNK1', 1.0)]]]"
      ]
     },
     "metadata": {},
     "output_type": "display_data"
    }
   ],
   "source": [
    "print(\"WSD TRIPS distribution: (probabilities summed up for multiple TRIPS senses) :\")\n",
    "display(sent_to_trips_senses(sent, system=\"supwsd\", \n",
    "                                     supwsd_apikey=sup_key, \n",
    "                                        prob=\"combine\", \n",
    "                                        order=\"prob\", \n",
    "                                        param=\"sum\"))"
   ]
  },
  {
   "cell_type": "markdown",
   "metadata": {},
   "source": [
    "#### 2.2.3 TRIPS distribution - Max Probability is taken for multiple entries of the same Trips-type"
   ]
  },
  {
   "cell_type": "code",
   "execution_count": 11,
   "metadata": {
    "scrolled": true
   },
   "outputs": [
    {
     "name": "stdout",
     "output_type": "stream",
     "text": [
      "WSD TRIPS distribution: (probabilities summed up for multiple TRIPS senses) :\n"
     ]
    },
    {
     "data": {
      "text/plain": [
       "[['The', [('UNK1', 1.0)]],\n",
       " ['car', [(ont::land-vehicle, 0.40404976051658203)]],\n",
       " ['hit',\n",
       "  [(ont::change, 0.10663242087033634),\n",
       "   (ont::hitting, 0.09902089758040047),\n",
       "   (ont::affect-experiencer, 0.0959103849337613),\n",
       "   (ont::arrive, 0.09303835525240342),\n",
       "   (ont::evoke-injury, 0.09073476226532658),\n",
       "   (ont::attack, 0.08988978241769471),\n",
       "   (ont::touch, 0.08830424178832888),\n",
       "   (ont::acquire, 0.08591498851181274),\n",
       "   (ont::collide, 0.04139447474636121)]],\n",
       " ['the', [('UNK1', 1.0)]],\n",
       " ['bus', [(ont::vehicle, 1.0)]],\n",
       " ['.', [('UNK1', 1.0)]]]"
      ]
     },
     "metadata": {},
     "output_type": "display_data"
    }
   ],
   "source": [
    "print(\"WSD TRIPS distribution: (probabilities summed up for multiple TRIPS senses) :\")\n",
    "display(sent_to_trips_senses(sent, system=\"supwsd\", \n",
    "                                     supwsd_apikey=sup_key,  \n",
    "                                        prob=\"combine\", \n",
    "                                        order=\"prob\", \n",
    "                                        param=\"max\"))"
   ]
  }
 ],
 "metadata": {
  "kernelspec": {
   "display_name": "Python 3",
   "language": "python",
   "name": "python3"
  },
  "language_info": {
   "codemirror_mode": {
    "name": "ipython",
    "version": 3
   },
   "file_extension": ".py",
   "mimetype": "text/x-python",
   "name": "python",
   "nbconvert_exporter": "python",
   "pygments_lexer": "ipython3",
   "version": "3.7.1"
  }
 },
 "nbformat": 4,
 "nbformat_minor": 2
}
