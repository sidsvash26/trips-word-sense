{
 "cells": [
  {
   "cell_type": "markdown",
   "metadata": {},
   "source": [
    "## Example Run"
   ]
  },
  {
   "cell_type": "code",
   "execution_count": 1,
   "metadata": {},
   "outputs": [],
   "source": [
    "from trips_senses import *"
   ]
  },
  {
   "cell_type": "code",
   "execution_count": 2,
   "metadata": {},
   "outputs": [],
   "source": [
    "texts = [\"I fed the ducks at the bank.\", \n",
    "         \"I found a dollar at the bank.\",\n",
    "         \"The bat hit the ball.\",\n",
    "        \"The bat ate the fruit.\",\n",
    "         \"Bats sleep in the afternoon.\",\n",
    "         \"The bat was sleeping on a tree.\",\n",
    "         \"The bat slept in the afternoon.\",\n",
    "        \"Sachin hit the ball with the bat.\",\n",
    "        \"The artist drew a picture.\",\n",
    "        ]"
   ]
  },
  {
   "cell_type": "markdown",
   "metadata": {},
   "source": [
    "## Sentence 1"
   ]
  },
  {
   "cell_type": "code",
   "execution_count": 3,
   "metadata": {},
   "outputs": [
    {
     "name": "stdout",
     "output_type": "stream",
     "text": [
      "I fed the ducks at the bank.\n"
     ]
    }
   ],
   "source": [
    "idx = 0\n",
    "print(texts[idx])"
   ]
  },
  {
   "cell_type": "code",
   "execution_count": 4,
   "metadata": {},
   "outputs": [
    {
     "data": {
      "text/plain": [
       "[[('UNK1', 1.0)],\n",
       " [(ont::giving, 0.2940061537465365),\n",
       "  ('UNK2', 0.15048087661081805),\n",
       "  (ont::feeding, 0.14840617729419017),\n",
       "  (ont::put, 0.14026828113726836),\n",
       "  (ont::supply, 0.13502928239793455),\n",
       "  (ont::consume, 0.1318092288132523)],\n",
       " [('UNK1', 1.0)],\n",
       " [(ont::bird, 1.0)],\n",
       " [('UNK1', 1.0)],\n",
       " [('UNK1', 1.0)],\n",
       " [(ont::geo-formation, 0.2496757666445315),\n",
       "  (ont::assets, 0.16599228517138676),\n",
       "  (ont::collection, 0.163815720200356),\n",
       "  (ont::mountain, 0.16239457540478708),\n",
       "  (ont::organization-abstr, 0.12906082628946927),\n",
       "  (ont::organization, 0.12906082628946927)],\n",
       " [('UNK1', 1.0)]]"
      ]
     },
     "execution_count": 4,
     "metadata": {},
     "output_type": "execute_result"
    }
   ],
   "source": [
    "sent_to_trip_senses(texts[idx], order=\"prob\")"
   ]
  },
  {
   "cell_type": "code",
   "execution_count": 5,
   "metadata": {},
   "outputs": [
    {
     "data": {
      "text/plain": [
       "[[('UNK1', 1.0)],\n",
       " [(ont::giving, 0.2940061537465365),\n",
       "  ('UNK2', 0.15048087661081805),\n",
       "  (ont::feeding, 0.14840617729419017),\n",
       "  (ont::put, 0.14026828113726836),\n",
       "  (ont::supply, 0.13502928239793455),\n",
       "  (ont::consume, 0.1318092288132523)],\n",
       " [('UNK1', 1.0)],\n",
       " [(ont::bird, 1.0)],\n",
       " [('UNK1', 1.0)],\n",
       " [('UNK1', 1.0)],\n",
       " [(ont::organization-abstr, 0.12906082628946927),\n",
       "  (ont::organization, 0.12906082628946927),\n",
       "  (ont::geo-formation, 0.2496757666445315),\n",
       "  (ont::assets, 0.16599228517138676),\n",
       "  (ont::collection, 0.163815720200356),\n",
       "  (ont::mountain, 0.16239457540478708)],\n",
       " [('UNK1', 1.0)]]"
      ]
     },
     "execution_count": 5,
     "metadata": {},
     "output_type": "execute_result"
    }
   ],
   "source": [
    "sent_to_trip_senses(texts[idx], order=\"wn_order\")"
   ]
  },
  {
   "cell_type": "code",
   "execution_count": 6,
   "metadata": {},
   "outputs": [
    {
     "data": {
      "text/plain": [
       "[[['UNK1', 1.0]],\n",
       " [[ont::giving, 0.16248411582676783],\n",
       "  ['UNK2', 0.15048087661081805],\n",
       "  [ont::feeding, 0.14840617729419017],\n",
       "  [ont::put, 0.14026828113726836],\n",
       "  [ont::supply, 0.13502928239793455],\n",
       "  [ont::consume, 0.1318092288132523],\n",
       "  [ont::giving, 0.13152203791976866]],\n",
       " [['UNK1', 1.0]],\n",
       " [[ont::bird, 1.0]],\n",
       " [['UNK1', 1.0]],\n",
       " [['UNK1', 1.0]],\n",
       " [[ont::organization-abstr, 0.12906082628946927],\n",
       "  [ont::organization, 0.12906082628946927],\n",
       "  [ont::geo-formation, 0.2496757666445315],\n",
       "  [ont::assets, 0.16599228517138676],\n",
       "  [ont::collection, 0.163815720200356],\n",
       "  [ont::mountain, 0.16239457540478708]],\n",
       " [['UNK1', 1.0]]]"
      ]
     },
     "execution_count": 6,
     "metadata": {},
     "output_type": "execute_result"
    }
   ],
   "source": [
    "sent_to_trip_senses(texts[idx], prob=\"raw\")"
   ]
  },
  {
   "cell_type": "code",
   "execution_count": 7,
   "metadata": {},
   "outputs": [
    {
     "data": {
      "text/plain": [
       "[[['U', 1.0]],\n",
       " [['feed%2:34:04::', 0.16248411582676783],\n",
       "  ['feed%2:41:00::', 0.15048087661081805],\n",
       "  ['feed%2:34:01::', 0.14840617729419017],\n",
       "  ['feed%2:30:01::', 0.14026828113726836],\n",
       "  ['feed%2:34:03::', 0.13502928239793455],\n",
       "  ['feed%2:34:00::', 0.1318092288132523],\n",
       "  ['feed%2:34:02::', 0.13152203791976866]],\n",
       " [['U', 1.0]],\n",
       " [['duck%1:05:00::', 1.0]],\n",
       " [['U', 1.0]],\n",
       " [['U', 1.0]],\n",
       " [['bank%1:14:00::', 0.25812165257893854],\n",
       "  ['bank%1:17:01::', 0.2496757666445315],\n",
       "  ['bank%1:21:00::', 0.16599228517138676],\n",
       "  ['bank%1:14:01::', 0.163815720200356],\n",
       "  ['bank%1:17:00::', 0.16239457540478708]],\n",
       " [['U', 1.0]]]"
      ]
     },
     "execution_count": 7,
     "metadata": {},
     "output_type": "execute_result"
    }
   ],
   "source": [
    "sent_to_wn_senses(texts[idx])"
   ]
  },
  {
   "cell_type": "markdown",
   "metadata": {},
   "source": [
    "## Sentence 2"
   ]
  },
  {
   "cell_type": "code",
   "execution_count": 8,
   "metadata": {},
   "outputs": [
    {
     "name": "stdout",
     "output_type": "stream",
     "text": [
      "I found a dollar at the bank.\n"
     ]
    }
   ],
   "source": [
    "idx = 1\n",
    "print(texts[idx])"
   ]
  },
  {
   "cell_type": "code",
   "execution_count": 9,
   "metadata": {},
   "outputs": [
    {
     "data": {
      "text/plain": [
       "[[('UNK1', 1.0)],\n",
       " [(ont::find, 0.2493822504004959),\n",
       "  (ont::determine, 0.18909301069243492),\n",
       "  (ont::becoming-aware, 0.15561547600147904),\n",
       "  (ont::change, 0.13489555911132983),\n",
       "  (ont::create, 0.07711291422019557),\n",
       "  (ont::declare-performative, 0.06683910270634695),\n",
       "  (ont::acquire, 0.06425181613787354),\n",
       "  (ont::retrieve, 0.062809870729844)],\n",
       " [(ont::length-unit, 0.5), (ont::measure-unit, 0.5)],\n",
       " [(ont::money-unit, 1.0)],\n",
       " [('UNK1', 1.0)],\n",
       " [('UNK1', 1.0)],\n",
       " [(ont::geo-formation, 0.24357443996067188),\n",
       "  (ont::assets, 0.17131974792185284),\n",
       "  (ont::mountain, 0.1630285466633088),\n",
       "  (ont::collection, 0.1595507775805302),\n",
       "  (ont::organization-abstr, 0.1312632439368182),\n",
       "  (ont::organization, 0.1312632439368182)],\n",
       " [('UNK1', 1.0)]]"
      ]
     },
     "execution_count": 9,
     "metadata": {},
     "output_type": "execute_result"
    }
   ],
   "source": [
    "sent_to_trip_senses(texts[idx], order=\"prob\")"
   ]
  },
  {
   "cell_type": "code",
   "execution_count": 10,
   "metadata": {},
   "outputs": [
    {
     "data": {
      "text/plain": [
       "[[('UNK1', 1.0)],\n",
       " [(ont::find, 0.2493822504004959),\n",
       "  (ont::becoming-aware, 0.15561547600147904),\n",
       "  (ont::create, 0.07711291422019557),\n",
       "  (ont::determine, 0.18909301069243492),\n",
       "  (ont::change, 0.13489555911132983),\n",
       "  (ont::declare-performative, 0.06683910270634695),\n",
       "  (ont::acquire, 0.06425181613787354),\n",
       "  (ont::retrieve, 0.062809870729844)],\n",
       " [(ont::length-unit, 0.5), (ont::measure-unit, 0.5)],\n",
       " [(ont::money-unit, 1.0)],\n",
       " [('UNK1', 1.0)],\n",
       " [('UNK1', 1.0)],\n",
       " [(ont::organization-abstr, 0.1312632439368182),\n",
       "  (ont::organization, 0.1312632439368182),\n",
       "  (ont::geo-formation, 0.24357443996067188),\n",
       "  (ont::assets, 0.17131974792185284),\n",
       "  (ont::mountain, 0.1630285466633088),\n",
       "  (ont::collection, 0.1595507775805302)],\n",
       " [('UNK1', 1.0)]]"
      ]
     },
     "execution_count": 10,
     "metadata": {},
     "output_type": "execute_result"
    }
   ],
   "source": [
    "sent_to_trip_senses(texts[idx], order=\"wn_order\")"
   ]
  },
  {
   "cell_type": "code",
   "execution_count": 11,
   "metadata": {},
   "outputs": [
    {
     "data": {
      "text/plain": [
       "[[['UNK1', 1.0]],\n",
       " [[ont::find, 0.11252629596132782],\n",
       "  [ont::becoming-aware, 0.093793569390116],\n",
       "  [ont::create, 0.07711291422019557],\n",
       "  [ont::determine, 0.07498846684609106],\n",
       "  [ont::change, 0.07099293452790684],\n",
       "  [ont::find, 0.07041686662793427],\n",
       "  [ont::declare-performative, 0.06683910270634695],\n",
       "  [ont::find, 0.06643908781123382],\n",
       "  [ont::acquire, 0.06425181613787354],\n",
       "  [ont::change, 0.06390262458342301],\n",
       "  [ont::retrieve, 0.062809870729844],\n",
       "  [ont::becoming-aware, 0.061821906611363046],\n",
       "  [ont::determine, 0.058547246626848466],\n",
       "  [ont::determine, 0.0555572972194954]],\n",
       " [[ont::length-unit, 0.5], [ont::measure-unit, 0.5]],\n",
       " [[ont::money-unit, 0.5356839843108542],\n",
       "  [ont::money-unit, 0.46431601568914593]],\n",
       " [['UNK1', 1.0]],\n",
       " [['UNK1', 1.0]],\n",
       " [[ont::organization-abstr, 0.1312632439368182],\n",
       "  [ont::organization, 0.1312632439368182],\n",
       "  [ont::geo-formation, 0.24357443996067188],\n",
       "  [ont::assets, 0.17131974792185284],\n",
       "  [ont::mountain, 0.1630285466633088],\n",
       "  [ont::collection, 0.1595507775805302]],\n",
       " [['UNK1', 1.0]]]"
      ]
     },
     "execution_count": 11,
     "metadata": {},
     "output_type": "execute_result"
    }
   ],
   "source": [
    "sent_to_trip_senses(texts[idx], prob=\"raw\")"
   ]
  },
  {
   "cell_type": "code",
   "execution_count": 12,
   "metadata": {
    "scrolled": true
   },
   "outputs": [
    {
     "data": {
      "text/plain": [
       "[[['U', 1.0]],\n",
       " [['find%2:40:02::', 0.11252629596132782],\n",
       "  ['find%2:39:02::', 0.093793569390116],\n",
       "  ['find%2:36:00::', 0.07711291422019557],\n",
       "  ['find%2:31:10::', 0.07498846684609106],\n",
       "  ['find%2:39:01::', 0.07099293452790684],\n",
       "  ['find%2:40:01::', 0.07041686662793427],\n",
       "  ['find%2:32:01::', 0.06683910270634695],\n",
       "  ['find%2:40:00::', 0.06643908781123382],\n",
       "  ['find%2:40:03::', 0.06425181613787354],\n",
       "  ['find%2:30:00::', 0.06390262458342301],\n",
       "  ['find%2:40:15::', 0.062809870729844],\n",
       "  ['find%2:39:05::', 0.061821906611363046],\n",
       "  ['find%2:31:09::', 0.058547246626848466],\n",
       "  ['find%2:32:00::', 0.0555572972194954]],\n",
       " [['a%1:23:01::', 1.0]],\n",
       " [['dollar%1:23:00::', 0.5356839843108542],\n",
       "  ['dollar%1:21:00::', 0.46431601568914593]],\n",
       " [['U', 1.0]],\n",
       " [['U', 1.0]],\n",
       " [['bank%1:14:00::', 0.2625264878736364],\n",
       "  ['bank%1:17:01::', 0.24357443996067188],\n",
       "  ['bank%1:21:00::', 0.17131974792185284],\n",
       "  ['bank%1:17:00::', 0.1630285466633088],\n",
       "  ['bank%1:14:01::', 0.1595507775805302]],\n",
       " [['U', 1.0]]]"
      ]
     },
     "execution_count": 12,
     "metadata": {},
     "output_type": "execute_result"
    }
   ],
   "source": [
    "sent_to_wn_senses(texts[idx])"
   ]
  },
  {
   "cell_type": "markdown",
   "metadata": {},
   "source": [
    "## Sentence 3"
   ]
  },
  {
   "cell_type": "code",
   "execution_count": 13,
   "metadata": {},
   "outputs": [
    {
     "name": "stdout",
     "output_type": "stream",
     "text": [
      "The bat hit the ball.\n"
     ]
    }
   ],
   "source": [
    "idx = 2\n",
    "print(texts[idx])"
   ]
  },
  {
   "cell_type": "code",
   "execution_count": 14,
   "metadata": {},
   "outputs": [
    {
     "data": {
      "text/plain": [
       "[[('UNK1', 1.0)],\n",
       " [(ont::action-defined-by-game, 0.5014023349119671),\n",
       "  (ont::mammal, 0.4985976650880329)],\n",
       " [(ont::acquire, 0.2023693718727044),\n",
       "  (ont::hitting, 0.15517123565960814),\n",
       "  (ont::touch, 0.11870180982393207),\n",
       "  (ont::arrive, 0.0871737039339426),\n",
       "  (ont::change, 0.08713613004602451),\n",
       "  (ont::evoke-injury, 0.08519802162218179),\n",
       "  (ont::attack, 0.08346415289017813),\n",
       "  (ont::affect-experiencer, 0.08221377294438581),\n",
       "  (ont::collide, 0.05678192074221724),\n",
       "  (ont::complete, 0.04178988046482536)],\n",
       " [('UNK1', 1.0)],\n",
       " [(ont::equipment, 0.30135488978526215),\n",
       "  (ont::domain, 0.14262153004385772),\n",
       "  (ont::manufactured-object, 0.1395055610659146),\n",
       "  (ont::weapon, 0.13372151076339683),\n",
       "  (ont::body-part, 0.13332119080414417),\n",
       "  (ont::social-group, 0.0747376587687122),\n",
       "  (ont::social-group-abstr, 0.0747376587687122)],\n",
       " [('UNK1', 1.0)]]"
      ]
     },
     "execution_count": 14,
     "metadata": {},
     "output_type": "execute_result"
    }
   ],
   "source": [
    "sent_to_trip_senses(texts[idx], order=\"prob\")"
   ]
  },
  {
   "cell_type": "code",
   "execution_count": 15,
   "metadata": {},
   "outputs": [
    {
     "data": {
      "text/plain": [
       "[[('UNK1', 1.0)],\n",
       " [(ont::action-defined-by-game, 0.5014023349119671),\n",
       "  (ont::mammal, 0.4985976650880329)],\n",
       " [(ont::touch, 0.11870180982393207),\n",
       "  (ont::hitting, 0.15517123565960814),\n",
       "  (ont::collide, 0.05678192074221724),\n",
       "  (ont::arrive, 0.0871737039339426),\n",
       "  (ont::change, 0.08713613004602451),\n",
       "  (ont::evoke-injury, 0.08519802162218179),\n",
       "  (ont::acquire, 0.2023693718727044),\n",
       "  (ont::complete, 0.04178988046482536),\n",
       "  (ont::attack, 0.08346415289017813),\n",
       "  (ont::affect-experiencer, 0.08221377294438581)],\n",
       " [('UNK1', 1.0)],\n",
       " [(ont::equipment, 0.30135488978526215),\n",
       "  (ont::social-group, 0.0747376587687122),\n",
       "  (ont::social-group-abstr, 0.0747376587687122),\n",
       "  (ont::domain, 0.14262153004385772),\n",
       "  (ont::manufactured-object, 0.1395055610659146),\n",
       "  (ont::weapon, 0.13372151076339683),\n",
       "  (ont::body-part, 0.13332119080414417)],\n",
       " [('UNK1', 1.0)]]"
      ]
     },
     "execution_count": 15,
     "metadata": {},
     "output_type": "execute_result"
    }
   ],
   "source": [
    "sent_to_trip_senses(texts[idx], order=\"wn_order\")"
   ]
  },
  {
   "cell_type": "code",
   "execution_count": 16,
   "metadata": {},
   "outputs": [
    {
     "data": {
      "text/plain": [
       "[[['UNK1', 1.0]],\n",
       " [[ont::action-defined-by-game, 0.5014023349119671],\n",
       "  [ont::mammal, 0.4985976650880329]],\n",
       " [[ont::touch, 0.11870180982393207],\n",
       "  [ont::hitting, 0.05678192074221724],\n",
       "  [ont::collide, 0.05678192074221724],\n",
       "  [ont::hitting, 0.09838931491739089],\n",
       "  [ont::arrive, 0.0871737039339426],\n",
       "  [ont::change, 0.08713613004602451],\n",
       "  [ont::evoke-injury, 0.08519802162218179],\n",
       "  [ont::acquire, 0.04178988046482536],\n",
       "  [ont::complete, 0.04178988046482536],\n",
       "  [ont::attack, 0.08346415289017813],\n",
       "  [ont::affect-experiencer, 0.08221377294438581],\n",
       "  [ont::acquire, 0.08071075712922829],\n",
       "  [ont::acquire, 0.07986873427865075]],\n",
       " [['UNK1', 1.0]],\n",
       " [[ont::equipment, 0.30135488978526215],\n",
       "  [ont::social-group, 0.0747376587687122],\n",
       "  [ont::social-group-abstr, 0.0747376587687122],\n",
       "  [ont::domain, 0.14262153004385772],\n",
       "  [ont::manufactured-object, 0.1395055610659146],\n",
       "  [ont::weapon, 0.13372151076339683],\n",
       "  [ont::body-part, 0.13332119080414417]],\n",
       " [['UNK1', 1.0]]]"
      ]
     },
     "execution_count": 16,
     "metadata": {},
     "output_type": "execute_result"
    }
   ],
   "source": [
    "sent_to_trip_senses(texts[idx], prob=\"raw\")"
   ]
  },
  {
   "cell_type": "code",
   "execution_count": 17,
   "metadata": {
    "scrolled": true
   },
   "outputs": [
    {
     "data": {
      "text/plain": [
       "[[['U', 1.0]],\n",
       " [['bat%1:04:00::', 0.5014023349119671],\n",
       "  ['bat%1:05:00::', 0.4985976650880329]],\n",
       " [['hit%2:35:00::', 0.11870180982393207],\n",
       "  ['hit%2:35:01::', 0.11356384148443448],\n",
       "  ['hit%2:35:03::', 0.09838931491739089],\n",
       "  ['hit%2:38:00::', 0.0871737039339426],\n",
       "  ['hit%2:35:05::', 0.08713613004602451],\n",
       "  ['hit%2:33:01::', 0.08519802162218179],\n",
       "  ['hit%2:33:03::', 0.08357976092965072],\n",
       "  ['hit%2:33:00::', 0.08346415289017813],\n",
       "  ['hit%2:39:00::', 0.08221377294438581],\n",
       "  ['hit%2:40:05::', 0.08071075712922829],\n",
       "  ['hit%2:33:02::', 0.07986873427865075]],\n",
       " [['U', 1.0]],\n",
       " [['ball%1:06:01::', 0.30135488978526215],\n",
       "  ['ball%1:14:00::', 0.1494753175374244],\n",
       "  ['ball%1:25:00::', 0.14262153004385772],\n",
       "  ['ball%1:06:02::', 0.1395055610659146],\n",
       "  ['ball%1:06:03::', 0.13372151076339683],\n",
       "  ['ball%1:08:01::', 0.13332119080414417]],\n",
       " [['U', 1.0]]]"
      ]
     },
     "execution_count": 17,
     "metadata": {},
     "output_type": "execute_result"
    }
   ],
   "source": [
    "sent_to_wn_senses(texts[idx])"
   ]
  },
  {
   "cell_type": "markdown",
   "metadata": {},
   "source": [
    "## Sentence 4"
   ]
  },
  {
   "cell_type": "code",
   "execution_count": 18,
   "metadata": {},
   "outputs": [
    {
     "name": "stdout",
     "output_type": "stream",
     "text": [
      "The bat ate the fruit.\n"
     ]
    }
   ],
   "source": [
    "idx = 3\n",
    "print(texts[idx])"
   ]
  },
  {
   "cell_type": "code",
   "execution_count": 19,
   "metadata": {},
   "outputs": [
    {
     "data": {
      "text/plain": [
       "[[('UNK1', 1.0)],\n",
       " [(ont::action-defined-by-game, 0.5000690775672137),\n",
       "  (ont::mammal, 0.49993092243278614)],\n",
       " [(ont::consume, 1.0)],\n",
       " [('UNK1', 1.0)],\n",
       " [(ont::plant-part, 0.39379334270330063),\n",
       "  (ont::manufactured-object, 0.31075240618818695),\n",
       "  (ont::occurring, 0.2954542511085125)],\n",
       " [('UNK1', 1.0)]]"
      ]
     },
     "execution_count": 19,
     "metadata": {},
     "output_type": "execute_result"
    }
   ],
   "source": [
    "sent_to_trip_senses(texts[idx], order=\"prob\")"
   ]
  },
  {
   "cell_type": "code",
   "execution_count": 20,
   "metadata": {},
   "outputs": [
    {
     "data": {
      "text/plain": [
       "[[('UNK1', 1.0)],\n",
       " [(ont::action-defined-by-game, 0.5000690775672137),\n",
       "  (ont::mammal, 0.49993092243278614)],\n",
       " [(ont::consume, 1.0)],\n",
       " [('UNK1', 1.0)],\n",
       " [(ont::plant-part, 0.39379334270330063),\n",
       "  (ont::manufactured-object, 0.31075240618818695),\n",
       "  (ont::occurring, 0.2954542511085125)],\n",
       " [('UNK1', 1.0)]]"
      ]
     },
     "execution_count": 20,
     "metadata": {},
     "output_type": "execute_result"
    }
   ],
   "source": [
    "sent_to_trip_senses(texts[idx], order=\"wn_order\")"
   ]
  },
  {
   "cell_type": "code",
   "execution_count": 21,
   "metadata": {},
   "outputs": [
    {
     "data": {
      "text/plain": [
       "[[['UNK1', 1.0]],\n",
       " [[ont::action-defined-by-game, 0.5000690775672137],\n",
       "  [ont::mammal, 0.49993092243278614]],\n",
       " [[ont::consume, 0.35449436184497773],\n",
       "  [ont::consume, 0.3513395679532578],\n",
       "  [ont::consume, 0.2941660702017644]],\n",
       " [['UNK1', 1.0]],\n",
       " [[ont::plant-part, 0.39379334270330063],\n",
       "  [ont::manufactured-object, 0.31075240618818695],\n",
       "  [ont::occurring, 0.2954542511085125]],\n",
       " [['UNK1', 1.0]]]"
      ]
     },
     "execution_count": 21,
     "metadata": {},
     "output_type": "execute_result"
    }
   ],
   "source": [
    "sent_to_trip_senses(texts[idx], prob=\"raw\")"
   ]
  },
  {
   "cell_type": "code",
   "execution_count": 22,
   "metadata": {},
   "outputs": [
    {
     "data": {
      "text/plain": [
       "[[['U', 1.0]],\n",
       " [['bat%1:04:00::', 0.5000690775672137],\n",
       "  ['bat%1:05:00::', 0.49993092243278614]],\n",
       " [['eat%2:34:01::', 0.35449436184497773],\n",
       "  ['eat%2:34:00::', 0.3513395679532578],\n",
       "  ['eat%2:34:02::', 0.2941660702017644]],\n",
       " [['U', 1.0]],\n",
       " [['fruit%1:20:00::', 0.39379334270330063],\n",
       "  ['fruit%1:06:00::', 0.31075240618818695],\n",
       "  ['fruit%1:11:00::', 0.2954542511085125]],\n",
       " [['U', 1.0]]]"
      ]
     },
     "execution_count": 22,
     "metadata": {},
     "output_type": "execute_result"
    }
   ],
   "source": [
    "sent_to_wn_senses(texts[idx])"
   ]
  },
  {
   "cell_type": "markdown",
   "metadata": {},
   "source": [
    "## Sentence 5"
   ]
  },
  {
   "cell_type": "code",
   "execution_count": 23,
   "metadata": {},
   "outputs": [
    {
     "name": "stdout",
     "output_type": "stream",
     "text": [
      "Bats sleep in the afternoon.\n"
     ]
    }
   ],
   "source": [
    "idx = 4\n",
    "print(texts[idx])"
   ]
  },
  {
   "cell_type": "code",
   "execution_count": 24,
   "metadata": {},
   "outputs": [
    {
     "data": {
      "text/plain": [
       "[[(ont::mammal, 0.5025490820457088),\n",
       "  (ont::action-defined-by-game, 0.4974509179542912)],\n",
       " [(ont::status, 1.0)],\n",
       " [('UNK2', 1.0)],\n",
       " [('UNK1', 1.0)],\n",
       " [(ont::day-stage, 0.5902282350704642), (ont::content, 0.4097717649295358)],\n",
       " [('UNK1', 1.0)]]"
      ]
     },
     "execution_count": 24,
     "metadata": {},
     "output_type": "execute_result"
    }
   ],
   "source": [
    "sent_to_trip_senses(texts[idx], order=\"prob\")"
   ]
  },
  {
   "cell_type": "code",
   "execution_count": 25,
   "metadata": {},
   "outputs": [
    {
     "data": {
      "text/plain": [
       "[[(ont::mammal, 0.5025490820457088),\n",
       "  (ont::action-defined-by-game, 0.4974509179542912)],\n",
       " [(ont::status, 1.0)],\n",
       " [('UNK2', 1.0)],\n",
       " [('UNK1', 1.0)],\n",
       " [(ont::day-stage, 0.5902282350704642), (ont::content, 0.4097717649295358)],\n",
       " [('UNK1', 1.0)]]"
      ]
     },
     "execution_count": 25,
     "metadata": {},
     "output_type": "execute_result"
    }
   ],
   "source": [
    "sent_to_trip_senses(texts[idx], order=\"wn_order\")"
   ]
  },
  {
   "cell_type": "code",
   "execution_count": 26,
   "metadata": {},
   "outputs": [
    {
     "data": {
      "text/plain": [
       "[[[ont::mammal, 0.5025490820457088],\n",
       "  [ont::action-defined-by-game, 0.4974509179542912]],\n",
       " [[ont::status, 1.0]],\n",
       " [['UNK2', 1.0]],\n",
       " [['UNK1', 1.0]],\n",
       " [[ont::day-stage, 0.5902282350704642], [ont::content, 0.4097717649295358]],\n",
       " [['UNK1', 1.0]]]"
      ]
     },
     "execution_count": 26,
     "metadata": {},
     "output_type": "execute_result"
    }
   ],
   "source": [
    "sent_to_trip_senses(texts[idx], prob=\"raw\")"
   ]
  },
  {
   "cell_type": "code",
   "execution_count": 27,
   "metadata": {},
   "outputs": [
    {
     "data": {
      "text/plain": [
       "[[['bat%1:05:00::', 0.5025490820457088],\n",
       "  ['bat%1:04:00::', 0.4974509179542912]],\n",
       " [['sleep%1:26:00::', 1.0]],\n",
       " [['in%4:02:01::', 1.0]],\n",
       " [['U', 1.0]],\n",
       " [['afternoon%1:28:00::', 0.5902282350704642],\n",
       "  ['afternoon%1:10:00::', 0.4097717649295358]],\n",
       " [['U', 1.0]]]"
      ]
     },
     "execution_count": 27,
     "metadata": {},
     "output_type": "execute_result"
    }
   ],
   "source": [
    "sent_to_wn_senses(texts[idx])"
   ]
  },
  {
   "cell_type": "markdown",
   "metadata": {},
   "source": [
    "## Sentence 6"
   ]
  },
  {
   "cell_type": "code",
   "execution_count": 28,
   "metadata": {},
   "outputs": [
    {
     "name": "stdout",
     "output_type": "stream",
     "text": [
      "The bat was sleeping on a tree.\n"
     ]
    }
   ],
   "source": [
    "idx = 5\n",
    "print(texts[idx])"
   ]
  },
  {
   "cell_type": "code",
   "execution_count": 29,
   "metadata": {},
   "outputs": [
    {
     "data": {
      "text/plain": [
       "[[('UNK1', 1.0)],\n",
       " [(ont::mammal, 0.5012019055841174),\n",
       "  (ont::action-defined-by-game, 0.4987980944158826)],\n",
       " [(ont::be, 0.30299757466080046),\n",
       "  (ont::have-property, 0.2612987899265607),\n",
       "  (ont::exists, 0.21587916832802667),\n",
       "  (ont::costs, 0.07993282486151723),\n",
       "  (ont::take-time, 0.0768928357280372),\n",
       "  (ont::represent, 0.06299880649505771)],\n",
       " [(ont::bodily-process, 1.0)],\n",
       " [('UNK2', 1.0)],\n",
       " [(ont::length-unit, 0.5), (ont::measure-unit, 0.5)],\n",
       " [(ont::plant, 1.0)],\n",
       " [('UNK1', 1.0)]]"
      ]
     },
     "execution_count": 29,
     "metadata": {},
     "output_type": "execute_result"
    }
   ],
   "source": [
    "sent_to_trip_senses(texts[idx], order=\"prob\")"
   ]
  },
  {
   "cell_type": "code",
   "execution_count": 30,
   "metadata": {},
   "outputs": [
    {
     "data": {
      "text/plain": [
       "[[('UNK1', 1.0)],\n",
       " [(ont::mammal, 0.5012019055841174),\n",
       "  (ont::action-defined-by-game, 0.4987980944158826)],\n",
       " [(ont::have-property, 0.2612987899265607),\n",
       "  (ont::be, 0.30299757466080046),\n",
       "  (ont::exists, 0.21587916832802667),\n",
       "  (ont::costs, 0.07993282486151723),\n",
       "  (ont::take-time, 0.0768928357280372),\n",
       "  (ont::represent, 0.06299880649505771)],\n",
       " [(ont::bodily-process, 1.0)],\n",
       " [('UNK2', 1.0)],\n",
       " [(ont::length-unit, 0.5), (ont::measure-unit, 0.5)],\n",
       " [(ont::plant, 1.0)],\n",
       " [('UNK1', 1.0)]]"
      ]
     },
     "execution_count": 30,
     "metadata": {},
     "output_type": "execute_result"
    }
   ],
   "source": [
    "sent_to_trip_senses(texts[idx], order=\"wn_order\")"
   ]
  },
  {
   "cell_type": "code",
   "execution_count": 31,
   "metadata": {},
   "outputs": [
    {
     "data": {
      "text/plain": [
       "[[['UNK1', 1.0]],\n",
       " [[ont::mammal, 0.5012019055841174],\n",
       "  [ont::action-defined-by-game, 0.4987980944158826]],\n",
       " [[ont::have-property, 0.153432175317218],\n",
       "  [ont::have-property, 0.10786661460934267],\n",
       "  [ont::be, 0.08833384389063302],\n",
       "  [ont::exists, 0.08278112852482603],\n",
       "  [ont::costs, 0.07993282486151723],\n",
       "  [ont::exists, 0.07895619652382449],\n",
       "  [ont::be, 0.07798821523337415],\n",
       "  [ont::take-time, 0.0768928357280372],\n",
       "  [ont::be, 0.07411242912666355],\n",
       "  [ont::represent, 0.06299880649505771],\n",
       "  [ont::be, 0.06256308641012975],\n",
       "  [ont::exists, 0.05414184327937614]],\n",
       " [[ont::bodily-process, 1.0]],\n",
       " [['UNK2', 0.3792849521397992],\n",
       "  ['UNK2', 0.31098554180956806],\n",
       "  ['UNK2', 0.30972950605063276]],\n",
       " [[ont::length-unit, 0.5], [ont::measure-unit, 0.5]],\n",
       " [[ont::plant, 1.0]],\n",
       " [['UNK1', 1.0]]]"
      ]
     },
     "execution_count": 31,
     "metadata": {},
     "output_type": "execute_result"
    }
   ],
   "source": [
    "sent_to_trip_senses(texts[idx], prob=\"raw\")"
   ]
  },
  {
   "cell_type": "code",
   "execution_count": 32,
   "metadata": {},
   "outputs": [
    {
     "data": {
      "text/plain": [
       "[[['U', 1.0]],\n",
       " [['bat%1:05:00::', 0.5012019055841174],\n",
       "  ['bat%1:04:00::', 0.4987980944158826]],\n",
       " [['be%2:42:03::', 0.153432175317218],\n",
       "  ['be%2:42:05::', 0.10786661460934267],\n",
       "  ['be%2:42:06::', 0.08833384389063302],\n",
       "  ['be%2:42:04::', 0.08278112852482603],\n",
       "  ['be%2:42:09::', 0.07993282486151723],\n",
       "  ['be%2:42:01::', 0.07895619652382449],\n",
       "  ['be%2:42:02::', 0.07798821523337415],\n",
       "  ['be%2:40:00::', 0.0768928357280372],\n",
       "  ['be%2:42:07::', 0.07411242912666355],\n",
       "  ['be%2:42:08::', 0.06299880649505771],\n",
       "  ['be%2:41:00::', 0.06256308641012975],\n",
       "  ['be%2:42:00::', 0.05414184327937614]],\n",
       " [['sleep%2:29:00::', 1.0]],\n",
       " [['on%4:02:00::', 0.3792849521397992],\n",
       "  ['on%4:02:02::', 0.31098554180956806],\n",
       "  ['on%4:02:01::', 0.30972950605063276]],\n",
       " [['a%1:23:01::', 1.0]],\n",
       " [['tree%1:20:00::', 1.0]],\n",
       " [['U', 1.0]]]"
      ]
     },
     "execution_count": 32,
     "metadata": {},
     "output_type": "execute_result"
    }
   ],
   "source": [
    "sent_to_wn_senses(texts[idx])"
   ]
  },
  {
   "cell_type": "markdown",
   "metadata": {},
   "source": [
    "## Sentence 7"
   ]
  },
  {
   "cell_type": "code",
   "execution_count": 33,
   "metadata": {},
   "outputs": [
    {
     "name": "stdout",
     "output_type": "stream",
     "text": [
      "The bat slept in the afternoon.Sachin hit the ball with the bat.\n"
     ]
    }
   ],
   "source": [
    "idx = 6\n",
    "print(texts[idx])"
   ]
  },
  {
   "cell_type": "code",
   "execution_count": 34,
   "metadata": {},
   "outputs": [
    {
     "data": {
      "text/plain": [
       "[[('UNK1', 1.0)],\n",
       " [(ont::action-defined-by-game, 0.5014023349119671),\n",
       "  (ont::mammal, 0.4985976650880329)],\n",
       " [(ont::bodily-process, 1.0)],\n",
       " [('UNK1', 1.0)],\n",
       " [(ont::day-stage, 0.5690906716877085), (ont::content, 0.43090932831229145)],\n",
       " [('UNK1', 1.0)],\n",
       " [(ont::acquire, 0.20501728234631655),\n",
       "  (ont::hitting, 0.14824917783681388),\n",
       "  (ont::touch, 0.12386526837854704),\n",
       "  (ont::arrive, 0.08985759484899453),\n",
       "  (ont::evoke-injury, 0.08802520464276506),\n",
       "  (ont::attack, 0.08555660590245649),\n",
       "  (ont::change, 0.08465990894673192),\n",
       "  (ont::affect-experiencer, 0.0832435068472006),\n",
       "  (ont::collide, 0.04971382725155243),\n",
       "  (ont::complete, 0.04181162299862136)],\n",
       " [('UNK1', 1.0)],\n",
       " [(ont::equipment, 0.2828547187506274),\n",
       "  (ont::domain, 0.1490510269485595),\n",
       "  (ont::manufactured-object, 0.14468891169700923),\n",
       "  (ont::weapon, 0.14141119000116947),\n",
       "  (ont::body-part, 0.13908892341809334),\n",
       "  (ont::social-group, 0.07145261459227058),\n",
       "  (ont::social-group-abstr, 0.07145261459227058)],\n",
       " [('UNK1', 1.0)],\n",
       " [('UNK1', 1.0)],\n",
       " [(ont::action-defined-by-game, 0.5014023349119671),\n",
       "  (ont::mammal, 0.4985976650880329)],\n",
       " [('UNK1', 1.0)]]"
      ]
     },
     "execution_count": 34,
     "metadata": {},
     "output_type": "execute_result"
    }
   ],
   "source": [
    "sent_to_trip_senses(texts[idx], order=\"prob\")"
   ]
  },
  {
   "cell_type": "code",
   "execution_count": 35,
   "metadata": {},
   "outputs": [
    {
     "data": {
      "text/plain": [
       "[[('UNK1', 1.0)],\n",
       " [(ont::action-defined-by-game, 0.5014023349119671),\n",
       "  (ont::mammal, 0.4985976650880329)],\n",
       " [(ont::bodily-process, 1.0)],\n",
       " [('UNK1', 1.0)],\n",
       " [(ont::day-stage, 0.5690906716877085), (ont::content, 0.43090932831229145)],\n",
       " [('UNK1', 1.0)],\n",
       " [(ont::touch, 0.12386526837854704),\n",
       "  (ont::hitting, 0.14824917783681388),\n",
       "  (ont::collide, 0.04971382725155243),\n",
       "  (ont::arrive, 0.08985759484899453),\n",
       "  (ont::evoke-injury, 0.08802520464276506),\n",
       "  (ont::attack, 0.08555660590245649),\n",
       "  (ont::acquire, 0.20501728234631655),\n",
       "  (ont::change, 0.08465990894673192),\n",
       "  (ont::complete, 0.04181162299862136),\n",
       "  (ont::affect-experiencer, 0.0832435068472006)],\n",
       " [('UNK1', 1.0)],\n",
       " [(ont::equipment, 0.2828547187506274),\n",
       "  (ont::domain, 0.1490510269485595),\n",
       "  (ont::manufactured-object, 0.14468891169700923),\n",
       "  (ont::social-group, 0.07145261459227058),\n",
       "  (ont::social-group-abstr, 0.07145261459227058),\n",
       "  (ont::weapon, 0.14141119000116947),\n",
       "  (ont::body-part, 0.13908892341809334)],\n",
       " [('UNK1', 1.0)],\n",
       " [('UNK1', 1.0)],\n",
       " [(ont::action-defined-by-game, 0.5014023349119671),\n",
       "  (ont::mammal, 0.4985976650880329)],\n",
       " [('UNK1', 1.0)]]"
      ]
     },
     "execution_count": 35,
     "metadata": {},
     "output_type": "execute_result"
    }
   ],
   "source": [
    "sent_to_trip_senses(texts[idx], order=\"wn_order\")"
   ]
  },
  {
   "cell_type": "code",
   "execution_count": 36,
   "metadata": {},
   "outputs": [
    {
     "data": {
      "text/plain": [
       "[[['UNK1', 1.0]],\n",
       " [[ont::action-defined-by-game, 0.5014023349119671],\n",
       "  [ont::mammal, 0.4985976650880329]],\n",
       " [[ont::bodily-process, 1.0]],\n",
       " [['UNK1', 1.0]],\n",
       " [[ont::day-stage, 0.5690906716877085], [ont::content, 0.43090932831229145]],\n",
       " [['UNK1', 1.0]],\n",
       " [[ont::touch, 0.12386526837854704],\n",
       "  [ont::hitting, 0.04971382725155243],\n",
       "  [ont::collide, 0.04971382725155243],\n",
       "  [ont::hitting, 0.09853535058526146],\n",
       "  [ont::arrive, 0.08985759484899453],\n",
       "  [ont::evoke-injury, 0.08802520464276506],\n",
       "  [ont::attack, 0.08555660590245649],\n",
       "  [ont::acquire, 0.08479959434737938],\n",
       "  [ont::change, 0.08465990894673192],\n",
       "  [ont::acquire, 0.04181162299862136],\n",
       "  [ont::complete, 0.04181162299862136],\n",
       "  [ont::affect-experiencer, 0.0832435068472006],\n",
       "  [ont::acquire, 0.07840606500031584]],\n",
       " [['UNK1', 1.0]],\n",
       " [[ont::equipment, 0.2828547187506274],\n",
       "  [ont::domain, 0.1490510269485595],\n",
       "  [ont::manufactured-object, 0.14468891169700923],\n",
       "  [ont::social-group, 0.07145261459227058],\n",
       "  [ont::social-group-abstr, 0.07145261459227058],\n",
       "  [ont::weapon, 0.14141119000116947],\n",
       "  [ont::body-part, 0.13908892341809334]],\n",
       " [['UNK1', 1.0]],\n",
       " [['UNK1', 1.0]],\n",
       " [[ont::action-defined-by-game, 0.5014023349119671],\n",
       "  [ont::mammal, 0.4985976650880329]],\n",
       " [['UNK1', 1.0]]]"
      ]
     },
     "execution_count": 36,
     "metadata": {},
     "output_type": "execute_result"
    }
   ],
   "source": [
    "sent_to_trip_senses(texts[idx], prob=\"raw\")"
   ]
  },
  {
   "cell_type": "code",
   "execution_count": 37,
   "metadata": {},
   "outputs": [
    {
     "data": {
      "text/plain": [
       "[[['U', 1.0]],\n",
       " [['bat%1:04:00::', 0.5014023349119671],\n",
       "  ['bat%1:05:00::', 0.4985976650880329]],\n",
       " [['sleep_in%2:29:00::', 1.0]],\n",
       " [['U', 1.0]],\n",
       " [['afternoon%1:28:00::', 0.5690906716877085],\n",
       "  ['afternoon%1:10:00::', 0.43090932831229145]],\n",
       " [['U', 1.0]],\n",
       " [['hit%2:35:00::', 0.12386526837854704],\n",
       "  ['hit%2:35:01::', 0.09942765450310485],\n",
       "  ['hit%2:35:03::', 0.09853535058526146],\n",
       "  ['hit%2:38:00::', 0.08985759484899453],\n",
       "  ['hit%2:33:01::', 0.08802520464276506],\n",
       "  ['hit%2:33:00::', 0.08555660590245649],\n",
       "  ['hit%2:40:05::', 0.08479959434737938],\n",
       "  ['hit%2:35:05::', 0.08465990894673192],\n",
       "  ['hit%2:33:03::', 0.08362324599724272],\n",
       "  ['hit%2:39:00::', 0.0832435068472006],\n",
       "  ['hit%2:33:02::', 0.07840606500031584]],\n",
       " [['U', 1.0]],\n",
       " [['ball%1:06:01::', 0.2828547187506274],\n",
       "  ['ball%1:25:00::', 0.1490510269485595],\n",
       "  ['ball%1:06:02::', 0.14468891169700923],\n",
       "  ['ball%1:14:00::', 0.14290522918454115],\n",
       "  ['ball%1:06:03::', 0.14141119000116947],\n",
       "  ['ball%1:08:01::', 0.13908892341809334]],\n",
       " [['U', 1.0]],\n",
       " [['U', 1.0]],\n",
       " [['bat%1:04:00::', 0.5014023349119671],\n",
       "  ['bat%1:05:00::', 0.4985976650880329]],\n",
       " [['U', 1.0]]]"
      ]
     },
     "execution_count": 37,
     "metadata": {},
     "output_type": "execute_result"
    }
   ],
   "source": [
    "sent_to_wn_senses(texts[idx])"
   ]
  },
  {
   "cell_type": "markdown",
   "metadata": {},
   "source": [
    "## Sentence 8"
   ]
  },
  {
   "cell_type": "code",
   "execution_count": 38,
   "metadata": {},
   "outputs": [
    {
     "name": "stdout",
     "output_type": "stream",
     "text": [
      "The artist drew a picture.\n"
     ]
    }
   ],
   "source": [
    "idx = 7\n",
    "print(texts[idx])"
   ]
  },
  {
   "cell_type": "code",
   "execution_count": 39,
   "metadata": {},
   "outputs": [
    {
     "data": {
      "text/plain": [
       "[[('UNK1', 1.0)],\n",
       " [(ont::person, 1.0)],\n",
       " [(ont::cause-come-from, 0.18785077432375782),\n",
       "  (ont::change, 0.10010431941650709),\n",
       "  (ont::move, 0.09775970695081021),\n",
       "  (ont::attract, 0.05376244853571489),\n",
       "  (ont::encodes-message, 0.05073200027528546),\n",
       "  (ont::pull, 0.04952297165073083),\n",
       "  (ont::breathe, 0.04944299767687362),\n",
       "  (ont::activity-event, 0.04731194863432196),\n",
       "  (ont::describe, 0.046756143955030305),\n",
       "  (ont::evoke-emotion, 0.045711958425403),\n",
       "  (ont::write, 0.0455182628167511),\n",
       "  (ont::select, 0.04534496853866509),\n",
       "  (ont::close, 0.045303276002896097),\n",
       "  (ont::create, 0.04318911317581378),\n",
       "  (ont::acquire, 0.04168625562965196),\n",
       "  (ont::cause-produce-reproduce, 0.025001426995893406),\n",
       "  (ont::cause-effect, 0.025001426995893406)],\n",
       " [(ont::length-unit, 0.5), (ont::measure-unit, 0.5)],\n",
       " [(ont::information-function-object, 0.2148918093942145),\n",
       "  (ont::image, 0.18225059548067293),\n",
       "  (ont::status, 0.1728465405080833),\n",
       "  (ont::manufactured-object, 0.1662520216041608),\n",
       "  (ont::assert, 0.10151718488537421),\n",
       "  (ont::mental-object, 0.054633063999206234),\n",
       "  (ont::knowledge-belief, 0.054633063999206234),\n",
       "  (ont::event-defined-by-activity, 0.05297572012908173)],\n",
       " [('UNK1', 1.0)]]"
      ]
     },
     "execution_count": 39,
     "metadata": {},
     "output_type": "execute_result"
    }
   ],
   "source": [
    "sent_to_trip_senses(texts[idx], order=\"prob\")"
   ]
  },
  {
   "cell_type": "code",
   "execution_count": 40,
   "metadata": {},
   "outputs": [
    {
     "data": {
      "text/plain": [
       "[[('UNK1', 1.0)],\n",
       " [(ont::person, 1.0)],\n",
       " [(ont::change, 0.10010431941650709),\n",
       "  (ont::attract, 0.05376244853571489),\n",
       "  (ont::cause-come-from, 0.18785077432375782),\n",
       "  (ont::encodes-message, 0.05073200027528546),\n",
       "  (ont::move, 0.09775970695081021),\n",
       "  (ont::cause-produce-reproduce, 0.025001426995893406),\n",
       "  (ont::cause-effect, 0.025001426995893406),\n",
       "  (ont::pull, 0.04952297165073083),\n",
       "  (ont::breathe, 0.04944299767687362),\n",
       "  (ont::activity-event, 0.04731194863432196),\n",
       "  (ont::describe, 0.046756143955030305),\n",
       "  (ont::evoke-emotion, 0.045711958425403),\n",
       "  (ont::write, 0.0455182628167511),\n",
       "  (ont::select, 0.04534496853866509),\n",
       "  (ont::close, 0.045303276002896097),\n",
       "  (ont::create, 0.04318911317581378),\n",
       "  (ont::acquire, 0.04168625562965196)],\n",
       " [(ont::length-unit, 0.5), (ont::measure-unit, 0.5)],\n",
       " [(ont::image, 0.18225059548067293),\n",
       "  (ont::status, 0.1728465405080833),\n",
       "  (ont::manufactured-object, 0.1662520216041608),\n",
       "  (ont::information-function-object, 0.2148918093942145),\n",
       "  (ont::mental-object, 0.054633063999206234),\n",
       "  (ont::knowledge-belief, 0.054633063999206234),\n",
       "  (ont::event-defined-by-activity, 0.05297572012908173),\n",
       "  (ont::assert, 0.10151718488537421)],\n",
       " [('UNK1', 1.0)]]"
      ]
     },
     "execution_count": 40,
     "metadata": {},
     "output_type": "execute_result"
    }
   ],
   "source": [
    "sent_to_trip_senses(texts[idx], order=\"wn_order\")"
   ]
  },
  {
   "cell_type": "code",
   "execution_count": 41,
   "metadata": {},
   "outputs": [
    {
     "data": {
      "text/plain": [
       "[[['UNK1', 1.0]],\n",
       " [[ont::person, 1.0]],\n",
       " [[ont::change, 0.05421191599010336],\n",
       "  [ont::attract, 0.05376244853571489],\n",
       "  [ont::cause-come-from, 0.0513477130020073],\n",
       "  [ont::encodes-message, 0.05073200027528546],\n",
       "  [ont::move, 0.05010779562380296],\n",
       "  [ont::cause-produce-reproduce, 0.025001426995893406],\n",
       "  [ont::cause-effect, 0.025001426995893406],\n",
       "  [ont::pull, 0.04952297165073083],\n",
       "  [ont::breathe, 0.04944299767687362],\n",
       "  [ont::move, 0.04765191132700725],\n",
       "  [ont::activity-event, 0.04731194863432196],\n",
       "  [ont::cause-come-from, 0.04691932926779355],\n",
       "  [ont::describe, 0.046756143955030305],\n",
       "  [ont::change, 0.04589240342640373],\n",
       "  [ont::evoke-emotion, 0.045711958425403],\n",
       "  [ont::cause-come-from, 0.04560320343442546],\n",
       "  [ont::write, 0.0455182628167511],\n",
       "  [ont::select, 0.04534496853866509],\n",
       "  [ont::close, 0.045303276002896097],\n",
       "  [ont::cause-come-from, 0.043980528619531535],\n",
       "  [ont::create, 0.04318911317581378],\n",
       "  [ont::acquire, 0.04168625562965196]],\n",
       " [[ont::length-unit, 0.5], [ont::measure-unit, 0.5]],\n",
       " [[ont::image, 0.18225059548067293],\n",
       "  [ont::status, 0.1728465405080833],\n",
       "  [ont::manufactured-object, 0.11327630147507907],\n",
       "  [ont::information-function-object, 0.10974273820467209],\n",
       "  [ont::mental-object, 0.054633063999206234],\n",
       "  [ont::knowledge-belief, 0.054633063999206234],\n",
       "  [ont::event-defined-by-activity, 0.05297572012908173],\n",
       "  [ont::manufactured-object, 0.05297572012908173],\n",
       "  [ont::information-function-object, 0.10514907118954242],\n",
       "  [ont::assert, 0.10151718488537421]],\n",
       " [['UNK1', 1.0]]]"
      ]
     },
     "execution_count": 41,
     "metadata": {},
     "output_type": "execute_result"
    }
   ],
   "source": [
    "sent_to_trip_senses(texts[idx], prob=\"raw\")"
   ]
  },
  {
   "cell_type": "code",
   "execution_count": 42,
   "metadata": {},
   "outputs": [
    {
     "data": {
      "text/plain": [
       "[[['U', 1.0]],\n",
       " [['artist%1:18:00::', 1.0]],\n",
       " [['draw%2:35:01::', 0.05421191599010336],\n",
       "  ['draw%2:35:06::', 0.05376244853571489],\n",
       "  ['draw%2:38:01::', 0.0513477130020073],\n",
       "  ['draw%2:36:00::', 0.05073200027528546],\n",
       "  ['draw%2:33:01::', 0.05010779562380296],\n",
       "  ['draw%2:36:01::', 0.05000285399178681],\n",
       "  ['draw%2:35:03::', 0.04952297165073083],\n",
       "  ['draw%2:34:01::', 0.04944299767687362],\n",
       "  ['draw%2:38:02::', 0.04765191132700725],\n",
       "  ['draw%2:36:02::', 0.04731194863432196],\n",
       "  ['draw%2:38:07::', 0.04691932926779355],\n",
       "  ['draw%2:32:00::', 0.046756143955030305],\n",
       "  ['draw%2:30:14::', 0.04589240342640373],\n",
       "  ['draw%2:37:01::', 0.045711958425403],\n",
       "  ['draw%2:38:00::', 0.04560320343442546],\n",
       "  ['draw%2:36:07::', 0.0455182628167511],\n",
       "  ['draw%2:31:13::', 0.04534496853866509],\n",
       "  ['draw%2:35:02::', 0.045303276002896097],\n",
       "  ['draw%2:40:01::', 0.043980528619531535],\n",
       "  ['draw%2:31:00::', 0.04318911317581378],\n",
       "  ['draw%2:40:00::', 0.04168625562965196]],\n",
       " [['a%1:23:01::', 1.0]],\n",
       " [['picture%1:06:00::', 0.18225059548067293],\n",
       "  ['picture%1:26:00::', 0.1728465405080833],\n",
       "  ['picture%1:06:01::', 0.11327630147507907],\n",
       "  ['picture%1:10:00::', 0.10974273820467209],\n",
       "  ['picture%1:09:00::', 0.10926612799841247],\n",
       "  ['picture%1:10:02::', 0.10595144025816346],\n",
       "  ['picture%1:10:01::', 0.10514907118954242],\n",
       "  ['picture%1:10:03::', 0.10151718488537421]],\n",
       " [['U', 1.0]]]"
      ]
     },
     "execution_count": 42,
     "metadata": {},
     "output_type": "execute_result"
    }
   ],
   "source": [
    "sent_to_wn_senses(texts[idx])"
   ]
  },
  {
   "cell_type": "code",
   "execution_count": null,
   "metadata": {},
   "outputs": [],
   "source": []
  },
  {
   "cell_type": "code",
   "execution_count": null,
   "metadata": {},
   "outputs": [],
   "source": []
  }
 ],
 "metadata": {
  "kernelspec": {
   "display_name": "Python 3",
   "language": "python",
   "name": "python3"
  },
  "language_info": {
   "codemirror_mode": {
    "name": "ipython",
    "version": 3
   },
   "file_extension": ".py",
   "mimetype": "text/x-python",
   "name": "python",
   "nbconvert_exporter": "python",
   "pygments_lexer": "ipython3",
   "version": "3.6.5"
  }
 },
 "nbformat": 4,
 "nbformat_minor": 2
}
