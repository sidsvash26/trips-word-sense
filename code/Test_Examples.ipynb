{
 "cells": [
  {
   "cell_type": "markdown",
   "metadata": {},
   "source": [
    "## Demo Notebook"
   ]
  },
  {
   "cell_type": "markdown",
   "metadata": {},
   "source": [
    "#### Define IMS directory:\n"
   ]
  },
  {
   "cell_type": "code",
   "execution_count": 9,
   "metadata": {},
   "outputs": [],
   "source": [
    "#### IMS directories - downloaded from: https://www.comp.nus.edu.sg/~nlp/software.html\n",
    "#### sudo chmod 755 testPlain.bash   ## might need to run this from terminal to make it work!!\n",
    "\n",
    "from pyims import PyIMS\n",
    "home_dir = \"/Users\"\n",
    "path_to_ims = \"/Users/rik/projects/spring2019/tripswsd/sid/ims/\"\n",
    "wsd_ims = PyIMS(path_to_ims, \"models-MUN-SC-wn30\")"
   ]
  },
  {
   "cell_type": "markdown",
   "metadata": {},
   "source": [
    "#### Load Pytrips"
   ]
  },
  {
   "cell_type": "code",
   "execution_count": 10,
   "metadata": {},
   "outputs": [],
   "source": [
    "from trips_senses import *\n",
    "from IPython.core.display import display"
   ]
  },
  {
   "cell_type": "code",
   "execution_count": 11,
   "metadata": {},
   "outputs": [],
   "source": [
    " "
   ]
  },
  {
   "cell_type": "markdown",
   "metadata": {},
   "source": [
    "## Sentence 1"
   ]
  },
  {
   "cell_type": "code",
   "execution_count": 12,
   "metadata": {},
   "outputs": [
    {
     "name": "stdout",
     "output_type": "stream",
     "text": [
      "Despite everything, I like this sentence.\n"
     ]
    }
   ],
   "source": [
    "idx = 0\n",
    "print(texts[idx])"
   ]
  },
  {
   "cell_type": "markdown",
   "metadata": {},
   "source": [
    "#### WordNet distribution"
   ]
  },
  {
   "cell_type": "code",
   "execution_count": 13,
   "metadata": {},
   "outputs": [
    {
     "name": "stdout",
     "output_type": "stream",
     "text": [
      "WSD WordNet distribution:\n"
     ]
    },
    {
     "data": {
      "text/plain": [
       "[[('U', 1.0)],\n",
       " [('U', 1.0)],\n",
       " [('U', 1.0)],\n",
       " [('U', 1.0)],\n",
       " [('like%2:31:00::', 0.20273723794588772),\n",
       "  ('like%2:37:04::', 0.2297725168475518),\n",
       "  ('like%2:37:05::', 0.36728876277563893),\n",
       "  ('wish%2:37:02::', 0.2002014824309216)],\n",
       " [('U', 1.0)],\n",
       " [('conviction%1:04:00::', 0.2799267566411993),\n",
       "  ('sentence%1:10:00::', 0.4425681119503028),\n",
       "  ('prison_term%1:28:00::', 0.277505131408498)],\n",
       " [('U', 1.0)]]"
      ]
     },
     "metadata": {},
     "output_type": "display_data"
    }
   ],
   "source": [
    "print(\"WSD WordNet distribution:\")\n",
    "display(sent_to_wn_senses(texts[idx], system=\"ims\", ims_object=wsd_ims))"
   ]
  },
  {
   "cell_type": "markdown",
   "metadata": {},
   "source": [
    "#### TRIPS distribution - One-to-one mapping from WN to TRIPS - Raw probabilities"
   ]
  },
  {
   "cell_type": "code",
   "execution_count": 6,
   "metadata": {},
   "outputs": [
    {
     "name": "stdout",
     "output_type": "stream",
     "text": [
      "WSD TRIPS distribution: (one-to-one mapping raw probabilities) :\n"
     ]
    },
    {
     "data": {
      "text/plain": [
       "[[['UNK1', 1.0]],\n",
       " [[ont::land-vehicle, 0.10932464042699516],\n",
       "  [ont::land-vehicle, 0.10932464042699516],\n",
       "  [ont::land-vehicle, 0.10932464042699516],\n",
       "  [ont::land-vehicle, 0.10932464042699516],\n",
       "  [ont::land-vehicle, 0.10932464042699516],\n",
       "  [ont::land-vehicle, 0.22865154826512915],\n",
       "  [ont::cell-compartment, 0.22472524959989498]],\n",
       " [[ont::collide, 0.03124130976311019],\n",
       "  [ont::collide, 0.03124130976311019],\n",
       "  [ont::collide, 0.03124130976311019],\n",
       "  [ont::hitting, 0.03124130976311019],\n",
       "  [ont::arrive, 0.08597815116758135],\n",
       "  [ont::hitting, 0.08916552095889284],\n",
       "  [ont::acquire, 0.07919958763142537],\n",
       "  [ont::touch, 0.1115759660842826],\n",
       "  [ont::change, 0.09402662637602924],\n",
       "  [ont::acquire, 0.08082972559672569],\n",
       "  [ont::attack, 0.08347737165909269],\n",
       "  [ont::evoke-injury, 0.08328311721363159],\n",
       "  [ont::affect-experiencer, 0.0851639589801747],\n",
       "  [ont::complete, 0.08233473527972301]],\n",
       " [['UNK1', 1.0]],\n",
       " [[ont::vehicle, 1.0]],\n",
       " [['UNK1', 1.0]]]"
      ]
     },
     "metadata": {},
     "output_type": "display_data"
    }
   ],
   "source": [
    "print(\"WSD TRIPS distribution: (one-to-one mapping raw probabilities) :\")\n",
    "display(sent_to_trip_senses(texts[idx], system=\"ims\", \n",
    "                                        ims_object=wsd_ims , \n",
    "                                        prob=\"raw\"))"
   ]
  },
  {
   "cell_type": "markdown",
   "metadata": {},
   "source": [
    "#### TRIPS distribution - Probabilities summed up for multiple entries of the same Trips-type"
   ]
  },
  {
   "cell_type": "code",
   "execution_count": 7,
   "metadata": {},
   "outputs": [
    {
     "name": "stdout",
     "output_type": "stream",
     "text": [
      "WSD TRIPS distribution: (probabilities summed up for multiple TRIPS senses) :\n"
     ]
    },
    {
     "data": {
      "text/plain": [
       "[[('UNK1', 1.0)],\n",
       " [(ont::land-vehicle, 0.775274750400105),\n",
       "  (ont::cell-compartment, 0.22472524959989498)],\n",
       " [(ont::acquire, 0.16002931322815106),\n",
       "  (ont::hitting, 0.12040683072200303),\n",
       "  (ont::touch, 0.1115759660842826),\n",
       "  (ont::change, 0.09402662637602924),\n",
       "  (ont::collide, 0.09372392928933057),\n",
       "  (ont::arrive, 0.08597815116758135),\n",
       "  (ont::affect-experiencer, 0.0851639589801747),\n",
       "  (ont::attack, 0.08347737165909269),\n",
       "  (ont::evoke-injury, 0.08328311721363159),\n",
       "  (ont::complete, 0.08233473527972301)],\n",
       " [('UNK1', 1.0)],\n",
       " [(ont::vehicle, 1.0)],\n",
       " [('UNK1', 1.0)]]"
      ]
     },
     "metadata": {},
     "output_type": "display_data"
    }
   ],
   "source": [
    "print(\"WSD TRIPS distribution: (probabilities summed up for multiple TRIPS senses) :\")\n",
    "display(sent_to_trip_senses(texts[idx], system=\"ims\", \n",
    "                                        ims_object=wsd_ims , \n",
    "                                        prob=\"combine\", \n",
    "                                        order=\"prob\", \n",
    "                                        param=\"sum\"))"
   ]
  },
  {
   "cell_type": "markdown",
   "metadata": {},
   "source": [
    "#### TRIPS distribution - Max Probability is taken for multiple entries of the same Trips-type"
   ]
  },
  {
   "cell_type": "code",
   "execution_count": 8,
   "metadata": {},
   "outputs": [
    {
     "name": "stdout",
     "output_type": "stream",
     "text": [
      "WSD TRIPS distribution: (probabilities summed up for multiple TRIPS senses) :\n"
     ]
    },
    {
     "data": {
      "text/plain": [
       "[[('UNK1', 1.0)],\n",
       " [(ont::land-vehicle, 0.22865154826512915),\n",
       "  (ont::cell-compartment, 0.22472524959989498)],\n",
       " [(ont::touch, 0.1115759660842826),\n",
       "  (ont::change, 0.09402662637602924),\n",
       "  (ont::hitting, 0.08916552095889284),\n",
       "  (ont::arrive, 0.08597815116758135),\n",
       "  (ont::affect-experiencer, 0.0851639589801747),\n",
       "  (ont::attack, 0.08347737165909269),\n",
       "  (ont::evoke-injury, 0.08328311721363159),\n",
       "  (ont::complete, 0.08233473527972301),\n",
       "  (ont::acquire, 0.08082972559672569),\n",
       "  (ont::collide, 0.03124130976311019)],\n",
       " [('UNK1', 1.0)],\n",
       " [(ont::vehicle, 1.0)],\n",
       " [('UNK1', 1.0)]]"
      ]
     },
     "metadata": {},
     "output_type": "display_data"
    }
   ],
   "source": [
    "print(\"WSD TRIPS distribution: (probabilities summed up for multiple TRIPS senses) :\")\n",
    "display(sent_to_trip_senses(texts[idx], system=\"ims\", \n",
    "                                        ims_object=wsd_ims , \n",
    "                                        prob=\"combine\", \n",
    "                                        order=\"prob\", \n",
    "                                        param=\"max\"))"
   ]
  },
  {
   "cell_type": "markdown",
   "metadata": {},
   "source": [
    "#### To use SupWSD, use the 'system' parameter as below: (Currently SupWSD server is down!!! )"
   ]
  },
  {
   "cell_type": "code",
   "execution_count": null,
   "metadata": {},
   "outputs": [],
   "source": [
    "print(\"WSD WordNet distribution:\")\n",
    "display(sent_to_wn_senses(texts[idx], system=\"supwsd\"))"
   ]
  },
  {
   "cell_type": "code",
   "execution_count": null,
   "metadata": {},
   "outputs": [],
   "source": []
  },
  {
   "cell_type": "code",
   "execution_count": null,
   "metadata": {},
   "outputs": [],
   "source": []
  },
  {
   "cell_type": "markdown",
   "metadata": {},
   "source": [
    "## Sentence 2"
   ]
  },
  {
   "cell_type": "code",
   "execution_count": null,
   "metadata": {},
   "outputs": [],
   "source": [
    "idx = 1\n",
    "print(texts[idx])"
   ]
  },
  {
   "cell_type": "code",
   "execution_count": null,
   "metadata": {},
   "outputs": [],
   "source": [
    "print(\"SupWSD output:\")\n",
    "display(sent_to_wn_senses(texts[idx]))"
   ]
  },
  {
   "cell_type": "code",
   "execution_count": null,
   "metadata": {},
   "outputs": [],
   "source": [
    "print(\"TRIPS one-to-one map (raw):\")\n",
    "display(sent_to_trip_senses(texts[idx], prob=\"raw\"))"
   ]
  },
  {
   "cell_type": "code",
   "execution_count": null,
   "metadata": {},
   "outputs": [],
   "source": [
    "print(\"TRIPS one-to-one map (summed up - wn order):\")\n",
    "display(sent_to_trip_senses(texts[idx], prob=\"combine\", order=\"wn_order\", param=\"sum\"))"
   ]
  },
  {
   "cell_type": "code",
   "execution_count": null,
   "metadata": {},
   "outputs": [],
   "source": [
    "print(\"TRIPS one-to-one map (summed up - prob ordered):\")\n",
    "display(sent_to_trip_senses(texts[idx], prob=\"combine\", order=\"prob\", param=\"sum\"))"
   ]
  },
  {
   "cell_type": "code",
   "execution_count": null,
   "metadata": {},
   "outputs": [],
   "source": [
    "print(\"TRIPS one-to-one map (maxed up - prob ordered):\")\n",
    "display(sent_to_trip_senses(texts[idx], prob=\"combine\", order=\"prob\", param=\"max\"))"
   ]
  },
  {
   "cell_type": "code",
   "execution_count": null,
   "metadata": {},
   "outputs": [],
   "source": []
  },
  {
   "cell_type": "markdown",
   "metadata": {},
   "source": [
    "## Sentence 3"
   ]
  },
  {
   "cell_type": "code",
   "execution_count": null,
   "metadata": {},
   "outputs": [],
   "source": [
    "idx = 2\n",
    "print(texts[idx])"
   ]
  },
  {
   "cell_type": "code",
   "execution_count": null,
   "metadata": {},
   "outputs": [],
   "source": [
    "print(\"SupWSD output:\")\n",
    "display(sent_to_wn_senses(texts[idx]))"
   ]
  },
  {
   "cell_type": "code",
   "execution_count": null,
   "metadata": {},
   "outputs": [],
   "source": [
    "print(\"TRIPS one-to-one map (raw):\")\n",
    "display(sent_to_trip_senses(texts[idx], prob=\"raw\"))"
   ]
  },
  {
   "cell_type": "code",
   "execution_count": null,
   "metadata": {},
   "outputs": [],
   "source": [
    "print(\"TRIPS one-to-one map (summed up - wn order):\")\n",
    "display(sent_to_trip_senses(texts[idx], prob=\"combine\", order=\"wn_order\", param=\"sum\"))"
   ]
  },
  {
   "cell_type": "code",
   "execution_count": null,
   "metadata": {},
   "outputs": [],
   "source": [
    "print(\"TRIPS map (summed up - prob ordered):\")\n",
    "display(sent_to_trip_senses(texts[idx], prob=\"combine\", order=\"prob\", param=\"sum\"))"
   ]
  },
  {
   "cell_type": "code",
   "execution_count": null,
   "metadata": {},
   "outputs": [],
   "source": [
    "print(\"TRIPS map (maxed up - prob ordered):\")\n",
    "display(sent_to_trip_senses(texts[idx], prob=\"combine\", order=\"prob\", param=\"max\"))"
   ]
  },
  {
   "cell_type": "markdown",
   "metadata": {},
   "source": [
    "## Sentence 4"
   ]
  },
  {
   "cell_type": "code",
   "execution_count": null,
   "metadata": {},
   "outputs": [],
   "source": [
    "idx = 3\n",
    "print(texts[idx])"
   ]
  },
  {
   "cell_type": "code",
   "execution_count": null,
   "metadata": {},
   "outputs": [],
   "source": [
    "print(\"SupWSD output:\")\n",
    "display(sent_to_wn_senses(texts[idx]))"
   ]
  },
  {
   "cell_type": "code",
   "execution_count": null,
   "metadata": {},
   "outputs": [],
   "source": [
    "print(\"TRIPS one-to-one map (raw):\")\n",
    "display(sent_to_trip_senses(texts[idx], prob=\"raw\"))"
   ]
  },
  {
   "cell_type": "code",
   "execution_count": null,
   "metadata": {},
   "outputs": [],
   "source": [
    "print(\"TRIPS map (summed up - wn order):\")\n",
    "display(sent_to_trip_senses(texts[idx], prob=\"combine\", order=\"wn_order\", param=\"sum\"))"
   ]
  },
  {
   "cell_type": "code",
   "execution_count": null,
   "metadata": {},
   "outputs": [],
   "source": [
    "print(\"TRIPS map (summed up - prob ordered):\")\n",
    "display(sent_to_trip_senses(texts[idx], prob=\"combine\", order=\"prob\", param=\"sum\"))"
   ]
  },
  {
   "cell_type": "code",
   "execution_count": null,
   "metadata": {},
   "outputs": [],
   "source": [
    "print(\"TRIPS map (maxed up - prob ordered):\")\n",
    "display(sent_to_trip_senses(texts[idx], prob=\"combine\", order=\"prob\", param=\"max\"))"
   ]
  },
  {
   "cell_type": "markdown",
   "metadata": {},
   "source": [
    "## Sentence 5"
   ]
  },
  {
   "cell_type": "code",
   "execution_count": null,
   "metadata": {},
   "outputs": [],
   "source": [
    "idx = 4\n",
    "print(texts[idx])"
   ]
  },
  {
   "cell_type": "code",
   "execution_count": null,
   "metadata": {},
   "outputs": [],
   "source": [
    "print(\"SupWSD output:\")\n",
    "display(sent_to_wn_senses(texts[idx]))"
   ]
  },
  {
   "cell_type": "code",
   "execution_count": null,
   "metadata": {},
   "outputs": [],
   "source": [
    "print(\"TRIPS one-to-one map (raw):\")\n",
    "display(sent_to_trip_senses(texts[idx], prob=\"raw\"))"
   ]
  },
  {
   "cell_type": "code",
   "execution_count": null,
   "metadata": {},
   "outputs": [],
   "source": [
    "print(\"TRIPS one-to-one map (summed up - wn order):\")\n",
    "display(sent_to_trip_senses(texts[idx], prob=\"combine\", order=\"wn_order\", param=\"sum\"))"
   ]
  },
  {
   "cell_type": "code",
   "execution_count": null,
   "metadata": {},
   "outputs": [],
   "source": [
    "print(\"TRIPS one-to-one map (summed up - prob ordered):\")\n",
    "display(sent_to_trip_senses(texts[idx], prob=\"combine\", order=\"prob\", param=\"sum\"))"
   ]
  },
  {
   "cell_type": "code",
   "execution_count": null,
   "metadata": {},
   "outputs": [],
   "source": [
    "print(\"TRIPS one-to-one map (maxed up - prob ordered):\")\n",
    "display(sent_to_trip_senses(texts[idx], prob=\"combine\", order=\"prob\", param=\"max\"))"
   ]
  },
  {
   "cell_type": "markdown",
   "metadata": {},
   "source": [
    "## Sentence 6"
   ]
  },
  {
   "cell_type": "code",
   "execution_count": null,
   "metadata": {},
   "outputs": [],
   "source": [
    "idx = 5\n",
    "print(texts[idx])"
   ]
  },
  {
   "cell_type": "code",
   "execution_count": null,
   "metadata": {},
   "outputs": [],
   "source": [
    "print(\"SupWSD output:\")\n",
    "display(sent_to_wn_senses(texts[idx]))"
   ]
  },
  {
   "cell_type": "code",
   "execution_count": null,
   "metadata": {},
   "outputs": [],
   "source": [
    "print(\"TRIPS one-to-one map (raw):\")\n",
    "display(sent_to_trip_senses(texts[idx], prob=\"raw\"))"
   ]
  },
  {
   "cell_type": "code",
   "execution_count": null,
   "metadata": {},
   "outputs": [],
   "source": [
    "print(\"TRIPS one-to-one map (summed up - wn order):\")\n",
    "display(sent_to_trip_senses(texts[idx], prob=\"combine\", order=\"wn_order\", param=\"sum\"))"
   ]
  },
  {
   "cell_type": "code",
   "execution_count": null,
   "metadata": {},
   "outputs": [],
   "source": [
    "print(\"TRIPS one-to-one map (summed up - prob ordered):\")\n",
    "display(sent_to_trip_senses(texts[idx], prob=\"combine\", order=\"prob\", param=\"sum\"))"
   ]
  },
  {
   "cell_type": "code",
   "execution_count": null,
   "metadata": {},
   "outputs": [],
   "source": [
    "print(\"TRIPS one-to-one map (maxed up - prob ordered):\")\n",
    "display(sent_to_trip_senses(texts[idx], prob=\"combine\", order=\"prob\", param=\"max\"))"
   ]
  },
  {
   "cell_type": "markdown",
   "metadata": {},
   "source": [
    "## Sentence 7"
   ]
  },
  {
   "cell_type": "code",
   "execution_count": null,
   "metadata": {},
   "outputs": [],
   "source": [
    "idx = 6\n",
    "print(texts[idx])"
   ]
  },
  {
   "cell_type": "code",
   "execution_count": null,
   "metadata": {},
   "outputs": [],
   "source": [
    "print(\"SupWSD output:\")\n",
    "display(sent_to_wn_senses(texts[idx]))"
   ]
  },
  {
   "cell_type": "code",
   "execution_count": null,
   "metadata": {},
   "outputs": [],
   "source": [
    "print(\"TRIPS one-to-one map (raw):\")\n",
    "display(sent_to_trip_senses(texts[idx], prob=\"raw\"))"
   ]
  },
  {
   "cell_type": "code",
   "execution_count": null,
   "metadata": {},
   "outputs": [],
   "source": [
    "print(\"TRIPS one-to-one map (summed up - wn order):\")\n",
    "display(sent_to_trip_senses(texts[idx], prob=\"combine\", order=\"wn_order\", param=\"sum\"))"
   ]
  },
  {
   "cell_type": "code",
   "execution_count": null,
   "metadata": {},
   "outputs": [],
   "source": [
    "print(\"TRIPS one-to-one map (summed up - prob ordered):\")\n",
    "display(sent_to_trip_senses(texts[idx], prob=\"combine\", order=\"prob\", param=\"sum\"))"
   ]
  },
  {
   "cell_type": "code",
   "execution_count": null,
   "metadata": {},
   "outputs": [],
   "source": [
    "print(\"TRIPS one-to-one map (maxed up - prob ordered):\")\n",
    "display(sent_to_trip_senses(texts[idx], prob=\"combine\", order=\"prob\", param=\"max\"))"
   ]
  },
  {
   "cell_type": "markdown",
   "metadata": {},
   "source": [
    "## Sentence 8"
   ]
  },
  {
   "cell_type": "code",
   "execution_count": null,
   "metadata": {},
   "outputs": [],
   "source": [
    "idx = 7\n",
    "print(texts[idx])"
   ]
  },
  {
   "cell_type": "code",
   "execution_count": null,
   "metadata": {},
   "outputs": [],
   "source": [
    "print(\"SupWSD output:\")\n",
    "display(sent_to_wn_senses(texts[idx]))"
   ]
  },
  {
   "cell_type": "code",
   "execution_count": null,
   "metadata": {},
   "outputs": [],
   "source": [
    "print(\"TRIPS one-to-one map (raw):\")\n",
    "display(sent_to_trip_senses(texts[idx], prob=\"raw\"))"
   ]
  },
  {
   "cell_type": "code",
   "execution_count": null,
   "metadata": {},
   "outputs": [],
   "source": [
    "print(\"TRIPS one-to-one map (summed up - wn order):\")\n",
    "display(sent_to_trip_senses(texts[idx], prob=\"combine\", order=\"wn_order\", param=\"sum\"))"
   ]
  },
  {
   "cell_type": "code",
   "execution_count": null,
   "metadata": {},
   "outputs": [],
   "source": [
    "print(\"TRIPS one-to-one map (summed up - prob ordered):\")\n",
    "display(sent_to_trip_senses(texts[idx], prob=\"combine\", order=\"prob\", param=\"sum\"))"
   ]
  },
  {
   "cell_type": "code",
   "execution_count": null,
   "metadata": {},
   "outputs": [],
   "source": [
    "print(\"TRIPS one-to-one map (maxed up - prob ordered):\")\n",
    "display(sent_to_trip_senses(texts[idx], prob=\"combine\", order=\"prob\", param=\"max\"))"
   ]
  },
  {
   "cell_type": "markdown",
   "metadata": {},
   "source": [
    "## Rough example check"
   ]
  },
  {
   "cell_type": "code",
   "execution_count": null,
   "metadata": {},
   "outputs": [],
   "source": [
    "texts = [\"I found a fish at the bank\"]"
   ]
  },
  {
   "cell_type": "code",
   "execution_count": null,
   "metadata": {},
   "outputs": [],
   "source": [
    "idx = -1\n",
    "print(texts[idx])"
   ]
  },
  {
   "cell_type": "code",
   "execution_count": null,
   "metadata": {},
   "outputs": [],
   "source": [
    "print(\"SupWSD output:\")\n",
    "display(sent_to_wn_senses(texts[idx]))"
   ]
  },
  {
   "cell_type": "code",
   "execution_count": null,
   "metadata": {},
   "outputs": [],
   "source": [
    "print(\"TRIPS one-to-one map (raw):\")\n",
    "display(sent_to_trip_senses(texts[idx], prob=\"raw\"))"
   ]
  },
  {
   "cell_type": "code",
   "execution_count": null,
   "metadata": {},
   "outputs": [],
   "source": [
    "print(\"TRIPS one-to-one map (summed up - wn order):\")\n",
    "display(sent_to_trip_senses(texts[idx], prob=\"combine\", order=\"wn_order\", param=\"sum\"))"
   ]
  },
  {
   "cell_type": "code",
   "execution_count": null,
   "metadata": {},
   "outputs": [],
   "source": [
    "print(\"TRIPS one-to-one map (summed up - prob ordered):\")\n",
    "display(sent_to_trip_senses(texts[idx], prob=\"combine\", order=\"prob\", param=\"sum\"))"
   ]
  },
  {
   "cell_type": "code",
   "execution_count": null,
   "metadata": {},
   "outputs": [],
   "source": [
    "print(\"TRIPS one-to-one map (maxed up - prob ordered):\")\n",
    "display(sent_to_trip_senses(texts[idx], prob=\"combine\", order=\"prob\", param=\"max\"))"
   ]
  },
  {
   "cell_type": "code",
   "execution_count": null,
   "metadata": {},
   "outputs": [],
   "source": []
  }
 ],
 "metadata": {
  "kernelspec": {
   "display_name": "Python 3",
   "language": "python",
   "name": "python3"
  },
  "language_info": {
   "codemirror_mode": {
    "name": "ipython",
    "version": 3
   },
   "file_extension": ".py",
   "mimetype": "text/x-python",
   "name": "python",
   "nbconvert_exporter": "python",
   "pygments_lexer": "ipython3",
   "version": "3.5.5"
  }
 },
 "nbformat": 4,
 "nbformat_minor": 2
}
