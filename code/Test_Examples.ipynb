{
 "cells": [
  {
   "cell_type": "markdown",
   "metadata": {},
   "source": [
    "## Example Run"
   ]
  },
  {
   "cell_type": "code",
   "execution_count": 1,
   "metadata": {},
   "outputs": [],
   "source": [
    "from trips_senses import *\n",
    "from IPython.core.display import display"
   ]
  },
  {
   "cell_type": "code",
   "execution_count": 49,
   "metadata": {},
   "outputs": [],
   "source": [
    "texts = [\"I hear bass sounds\",\n",
    "         \"They liked grilled bass.\",\n",
    "        \"I found a boat at the bank.\", \n",
    "         \"I found a dollar at the bank.\",\n",
    "         \"I found a fish at the bank.\",\n",
    "         \"The bat hit the ball.\",\n",
    "        \"The bat ate the fruit.\",\n",
    "         \"Bats sleep in the afternoon.\",\n",
    "         \"The bat was sleeping on a tree.\",\n",
    "         \"The bat slept in the afternoon.\",\n",
    "        \"Sachin hit the ball with the bat.\",\n",
    "        \"The artist drew a picture.\"]"
   ]
  },
  {
   "cell_type": "markdown",
   "metadata": {},
   "source": [
    "## Sentence 1"
   ]
  },
  {
   "cell_type": "code",
   "execution_count": 3,
   "metadata": {},
   "outputs": [
    {
     "name": "stdout",
     "output_type": "stream",
     "text": [
      "I hear bass sounds\n"
     ]
    }
   ],
   "source": [
    "idx = 0\n",
    "print(texts[idx])"
   ]
  },
  {
   "cell_type": "code",
   "execution_count": 8,
   "metadata": {},
   "outputs": [
    {
     "name": "stdout",
     "output_type": "stream",
     "text": [
      "SupWSD output:\n"
     ]
    },
    {
     "data": {
      "text/plain": [
       "[[['U', 1.0]],\n",
       " [['hear%2:39:00::', 0.3846681937904316],\n",
       "  ['hear%2:31:00::', 0.2823914059266716],\n",
       "  ['hear%2:39:01::', 0.2040721303284942],\n",
       "  ['hear%2:41:00::', 0.12886826995440265]],\n",
       " [['bass%1:10:01::', 0.5057398111985619],\n",
       "  ['bass%1:07:01::', 0.49426018880143807]],\n",
       " [['sound%1:19:00::', 0.1984729163799247],\n",
       "  ['sound%1:09:00::', 0.16582334407059637],\n",
       "  ['sound%1:07:00::', 0.1643494635609621],\n",
       "  ['sound%1:11:00::', 0.1625233823881099],\n",
       "  ['sound%1:10:00::', 0.15656367012132835],\n",
       "  ['sound%1:10:01::', 0.15226722347907873]]]"
      ]
     },
     "metadata": {},
     "output_type": "display_data"
    }
   ],
   "source": [
    "print(\"SupWSD output:\")\n",
    "display(sent_to_wn_senses(texts[idx]))"
   ]
  },
  {
   "cell_type": "code",
   "execution_count": 13,
   "metadata": {},
   "outputs": [
    {
     "name": "stdout",
     "output_type": "stream",
     "text": [
      "TRIPS one-to-one map (raw):\n"
     ]
    },
    {
     "data": {
      "text/plain": [
       "[[['UNK1', 1.0]],\n",
       " [[ont::becoming-aware, 0.3846681937904316],\n",
       "  [ont::determine, 0.2823914059266716],\n",
       "  [ont::becoming-aware, 0.2040721303284942],\n",
       "  [ont::scrutiny, 0.12886826995440265]],\n",
       " [[ont::music, 0.5057398111985619], [ont::pitch, 0.49426018880143807]],\n",
       " [[ont::perceivable-sound-property, 0.1984729163799247],\n",
       "  [ont::perceivable-sound-property, 0.16582334407059637],\n",
       "  [ont::perceivable-sound-property, 0.1643494635609621],\n",
       "  [ont::perceivable-sound-property, 0.1625233823881099],\n",
       "  [ont::audio, 0.15656367012132835],\n",
       "  [ont::linguistic-object, 0.15226722347907873]]]"
      ]
     },
     "metadata": {},
     "output_type": "display_data"
    }
   ],
   "source": [
    "print(\"TRIPS one-to-one map (raw):\")\n",
    "display(sent_to_trip_senses(texts[idx], prob=\"raw\"))"
   ]
  },
  {
   "cell_type": "code",
   "execution_count": 14,
   "metadata": {},
   "outputs": [
    {
     "name": "stdout",
     "output_type": "stream",
     "text": [
      "TRIPS one-to-one map (summed up - wn order):\n"
     ]
    },
    {
     "data": {
      "text/plain": [
       "[[('UNK1', 1.0)],\n",
       " [(ont::becoming-aware, 0.5887403241189257),\n",
       "  (ont::determine, 0.2823914059266716),\n",
       "  (ont::scrutiny, 0.12886826995440265)],\n",
       " [(ont::music, 0.5057398111985619), (ont::pitch, 0.49426018880143807)],\n",
       " [(ont::perceivable-sound-property, 0.6911691063995932),\n",
       "  (ont::audio, 0.15656367012132835),\n",
       "  (ont::linguistic-object, 0.15226722347907873)]]"
      ]
     },
     "metadata": {},
     "output_type": "display_data"
    }
   ],
   "source": [
    "print(\"TRIPS one-to-one map (summed up - wn order):\")\n",
    "display(sent_to_trip_senses(texts[idx], prob=\"combine\", order=\"wn_order\", param=\"sum\"))"
   ]
  },
  {
   "cell_type": "code",
   "execution_count": 17,
   "metadata": {},
   "outputs": [
    {
     "name": "stdout",
     "output_type": "stream",
     "text": [
      "TRIPS one-to-one map (summed up - prob ordered):\n"
     ]
    },
    {
     "data": {
      "text/plain": [
       "[[('UNK1', 1.0)],\n",
       " [(ont::becoming-aware, 0.5887403241189257),\n",
       "  (ont::determine, 0.2823914059266716),\n",
       "  (ont::scrutiny, 0.12886826995440265)],\n",
       " [(ont::music, 0.5057398111985619), (ont::pitch, 0.49426018880143807)],\n",
       " [(ont::perceivable-sound-property, 0.6911691063995932),\n",
       "  (ont::audio, 0.15656367012132835),\n",
       "  (ont::linguistic-object, 0.15226722347907873)]]"
      ]
     },
     "metadata": {},
     "output_type": "display_data"
    }
   ],
   "source": [
    "print(\"TRIPS one-to-one map (summed up - prob ordered):\")\n",
    "display(sent_to_trip_senses(texts[idx], prob=\"combine\", order=\"prob\", param=\"sum\"))"
   ]
  },
  {
   "cell_type": "code",
   "execution_count": 18,
   "metadata": {},
   "outputs": [
    {
     "name": "stdout",
     "output_type": "stream",
     "text": [
      "TRIPS one-to-one map (maxed up - prob ordered):\n"
     ]
    },
    {
     "data": {
      "text/plain": [
       "[[('UNK1', 1.0)],\n",
       " [(ont::becoming-aware, 0.3846681937904316),\n",
       "  (ont::determine, 0.2823914059266716),\n",
       "  (ont::scrutiny, 0.12886826995440265)],\n",
       " [(ont::music, 0.5057398111985619), (ont::pitch, 0.49426018880143807)],\n",
       " [(ont::perceivable-sound-property, 0.1984729163799247),\n",
       "  (ont::audio, 0.15656367012132835),\n",
       "  (ont::linguistic-object, 0.15226722347907873)]]"
      ]
     },
     "metadata": {},
     "output_type": "display_data"
    }
   ],
   "source": [
    "print(\"TRIPS one-to-one map (maxed up - prob ordered):\")\n",
    "display(sent_to_trip_senses(texts[idx], prob=\"combine\", order=\"prob\", param=\"max\"))"
   ]
  },
  {
   "cell_type": "markdown",
   "metadata": {},
   "source": [
    "## Sentence 2"
   ]
  },
  {
   "cell_type": "code",
   "execution_count": 19,
   "metadata": {},
   "outputs": [
    {
     "name": "stdout",
     "output_type": "stream",
     "text": [
      "They liked grilled bass.\n"
     ]
    }
   ],
   "source": [
    "idx = 1\n",
    "print(texts[idx])"
   ]
  },
  {
   "cell_type": "code",
   "execution_count": 20,
   "metadata": {},
   "outputs": [
    {
     "name": "stdout",
     "output_type": "stream",
     "text": [
      "SupWSD output:\n"
     ]
    },
    {
     "data": {
      "text/plain": [
       "[[['U', 1.0]],\n",
       " [['like%2:37:05::', 0.3155740161892696],\n",
       "  ['like%2:37:04::', 0.20309684254289262],\n",
       "  ['like%2:31:00::', 0.16473033661444209],\n",
       "  ['like%2:37:06::', 0.16403783830631283],\n",
       "  ['like%2:37:01::', 0.15256096634708285]],\n",
       " [['U', 1.0]],\n",
       " [['bass%1:07:01::', 0.5026724098167304],\n",
       "  ['bass%1:10:01::', 0.49732759018326955]],\n",
       " [['U', 1.0]]]"
      ]
     },
     "metadata": {},
     "output_type": "display_data"
    }
   ],
   "source": [
    "print(\"SupWSD output:\")\n",
    "display(sent_to_wn_senses(texts[idx]))"
   ]
  },
  {
   "cell_type": "code",
   "execution_count": 22,
   "metadata": {},
   "outputs": [
    {
     "name": "stdout",
     "output_type": "stream",
     "text": [
      "TRIPS one-to-one map (raw):\n"
     ]
    },
    {
     "data": {
      "text/plain": [
       "[[['UNK1', 1.0]],\n",
       " [[ont::experiencer-emotion, 0.3155740161892696],\n",
       "  [ont::appreciate, 0.20309684254289262],\n",
       "  [ont::categorization, 0.08236516830722104],\n",
       "  [ont::belief-ascription, 0.08236516830722104],\n",
       "  [ont::want, 0.16403783830631283],\n",
       "  [ont::want, 0.15256096634708285]],\n",
       " [['UNK1', 1.0]],\n",
       " [[ont::pitch, 0.5026724098167304], [ont::music, 0.49732759018326955]],\n",
       " [['UNK1', 1.0]]]"
      ]
     },
     "metadata": {},
     "output_type": "display_data"
    }
   ],
   "source": [
    "print(\"TRIPS one-to-one map (raw):\")\n",
    "display(sent_to_trip_senses(texts[idx], prob=\"raw\"))"
   ]
  },
  {
   "cell_type": "code",
   "execution_count": 23,
   "metadata": {},
   "outputs": [
    {
     "name": "stdout",
     "output_type": "stream",
     "text": [
      "TRIPS one-to-one map (summed up - wn order):\n"
     ]
    },
    {
     "data": {
      "text/plain": [
       "[[('UNK1', 1.0)],\n",
       " [(ont::experiencer-emotion, 0.3155740161892696),\n",
       "  (ont::appreciate, 0.20309684254289262),\n",
       "  (ont::categorization, 0.08236516830722104),\n",
       "  (ont::belief-ascription, 0.08236516830722104),\n",
       "  (ont::want, 0.3165988046533957)],\n",
       " [('UNK1', 1.0)],\n",
       " [(ont::pitch, 0.5026724098167304), (ont::music, 0.49732759018326955)],\n",
       " [('UNK1', 1.0)]]"
      ]
     },
     "metadata": {},
     "output_type": "display_data"
    }
   ],
   "source": [
    "print(\"TRIPS one-to-one map (summed up - wn order):\")\n",
    "display(sent_to_trip_senses(texts[idx], prob=\"combine\", order=\"wn_order\", param=\"sum\"))"
   ]
  },
  {
   "cell_type": "code",
   "execution_count": 24,
   "metadata": {},
   "outputs": [
    {
     "name": "stdout",
     "output_type": "stream",
     "text": [
      "TRIPS one-to-one map (summed up - prob ordered):\n"
     ]
    },
    {
     "data": {
      "text/plain": [
       "[[('UNK1', 1.0)],\n",
       " [(ont::want, 0.3165988046533957),\n",
       "  (ont::experiencer-emotion, 0.3155740161892696),\n",
       "  (ont::appreciate, 0.20309684254289262),\n",
       "  (ont::categorization, 0.08236516830722104),\n",
       "  (ont::belief-ascription, 0.08236516830722104)],\n",
       " [('UNK1', 1.0)],\n",
       " [(ont::pitch, 0.5026724098167304), (ont::music, 0.49732759018326955)],\n",
       " [('UNK1', 1.0)]]"
      ]
     },
     "metadata": {},
     "output_type": "display_data"
    }
   ],
   "source": [
    "print(\"TRIPS one-to-one map (summed up - prob ordered):\")\n",
    "display(sent_to_trip_senses(texts[idx], prob=\"combine\", order=\"prob\", param=\"sum\"))"
   ]
  },
  {
   "cell_type": "code",
   "execution_count": 25,
   "metadata": {},
   "outputs": [
    {
     "name": "stdout",
     "output_type": "stream",
     "text": [
      "TRIPS one-to-one map (maxed up - prob ordered):\n"
     ]
    },
    {
     "data": {
      "text/plain": [
       "[[('UNK1', 1.0)],\n",
       " [(ont::experiencer-emotion, 0.3155740161892696),\n",
       "  (ont::appreciate, 0.20309684254289262),\n",
       "  (ont::want, 0.16403783830631283),\n",
       "  (ont::categorization, 0.08236516830722104),\n",
       "  (ont::belief-ascription, 0.08236516830722104)],\n",
       " [('UNK1', 1.0)],\n",
       " [(ont::pitch, 0.5026724098167304), (ont::music, 0.49732759018326955)],\n",
       " [('UNK1', 1.0)]]"
      ]
     },
     "metadata": {},
     "output_type": "display_data"
    }
   ],
   "source": [
    "print(\"TRIPS one-to-one map (maxed up - prob ordered):\")\n",
    "display(sent_to_trip_senses(texts[idx], prob=\"combine\", order=\"prob\", param=\"max\"))"
   ]
  },
  {
   "cell_type": "code",
   "execution_count": null,
   "metadata": {},
   "outputs": [],
   "source": []
  },
  {
   "cell_type": "markdown",
   "metadata": {},
   "source": [
    "## Sentence 3"
   ]
  },
  {
   "cell_type": "code",
   "execution_count": 26,
   "metadata": {},
   "outputs": [
    {
     "name": "stdout",
     "output_type": "stream",
     "text": [
      "I found a boat at the bank.\n"
     ]
    }
   ],
   "source": [
    "idx = 2\n",
    "print(texts[idx])"
   ]
  },
  {
   "cell_type": "code",
   "execution_count": 27,
   "metadata": {},
   "outputs": [
    {
     "name": "stdout",
     "output_type": "stream",
     "text": [
      "SupWSD output:\n"
     ]
    },
    {
     "data": {
      "text/plain": [
       "[[['U', 1.0]],\n",
       " [['find%2:40:02::', 0.11245358444171903],\n",
       "  ['find%2:39:02::', 0.09690496349411738],\n",
       "  ['find%2:36:00::', 0.07990775813608615],\n",
       "  ['find%2:31:10::', 0.07813654956048953],\n",
       "  ['find%2:40:01::', 0.07039471741201588],\n",
       "  ['find%2:39:01::', 0.0686572644455198],\n",
       "  ['find%2:32:01::', 0.06684088829847223],\n",
       "  ['find%2:40:00::', 0.0667261504395044],\n",
       "  ['find%2:30:00::', 0.06583258627497113],\n",
       "  ['find%2:40:03::', 0.06404349644115634],\n",
       "  ['find%2:40:15::', 0.06246407272024665],\n",
       "  ['find%2:39:05::', 0.061321828079277184],\n",
       "  ['find%2:31:09::', 0.05784066834488721],\n",
       "  ['find%2:32:00::', 0.04847547191153714]],\n",
       " [['a%1:23:01::', 1.0]],\n",
       " [['boat%1:06:00::', 1.0]],\n",
       " [['U', 1.0]],\n",
       " [['U', 1.0]],\n",
       " [['bank%1:17:01::', 0.25479920680573653],\n",
       "  ['bank%1:14:00::', 0.25101364867353254],\n",
       "  ['bank%1:21:00::', 0.1705654240774585],\n",
       "  ['bank%1:17:00::', 0.16348259882408828],\n",
       "  ['bank%1:14:01::', 0.16013912161918406]],\n",
       " [['U', 1.0]]]"
      ]
     },
     "metadata": {},
     "output_type": "display_data"
    }
   ],
   "source": [
    "print(\"SupWSD output:\")\n",
    "display(sent_to_wn_senses(texts[idx]))"
   ]
  },
  {
   "cell_type": "code",
   "execution_count": 30,
   "metadata": {},
   "outputs": [
    {
     "name": "stdout",
     "output_type": "stream",
     "text": [
      "TRIPS one-to-one map (raw):\n"
     ]
    },
    {
     "data": {
      "text/plain": [
       "[[['UNK1', 1.0]],\n",
       " [[ont::find, 0.11245358444171903],\n",
       "  [ont::becoming-aware, 0.09690496349411738],\n",
       "  [ont::create, 0.07990775813608615],\n",
       "  [ont::determine, 0.07813654956048953],\n",
       "  [ont::find, 0.07039471741201588],\n",
       "  [ont::change, 0.0686572644455198],\n",
       "  [ont::declare-performative, 0.06684088829847223],\n",
       "  [ont::find, 0.0667261504395044],\n",
       "  [ont::change, 0.06583258627497113],\n",
       "  [ont::acquire, 0.06404349644115634],\n",
       "  [ont::retrieve, 0.06246407272024665],\n",
       "  [ont::becoming-aware, 0.061321828079277184],\n",
       "  [ont::determine, 0.05784066834488721],\n",
       "  [ont::determine, 0.04847547191153714]],\n",
       " [[ont::length-unit, 0.5], [ont::measure-unit, 0.5]],\n",
       " [[ont::vehicle, 1.0]],\n",
       " [['UNK1', 1.0]],\n",
       " [['UNK1', 1.0]],\n",
       " [[ont::geo-formation, 0.25479920680573653],\n",
       "  [ont::organization, 0.12550682433676627],\n",
       "  [ont::organization-abstr, 0.12550682433676627],\n",
       "  [ont::assets, 0.1705654240774585],\n",
       "  [ont::mountain, 0.16348259882408828],\n",
       "  [ont::collection, 0.16013912161918406]],\n",
       " [['UNK1', 1.0]]]"
      ]
     },
     "metadata": {},
     "output_type": "display_data"
    }
   ],
   "source": [
    "print(\"TRIPS one-to-one map (raw):\")\n",
    "display(sent_to_trip_senses(texts[idx], prob=\"raw\"))"
   ]
  },
  {
   "cell_type": "code",
   "execution_count": 32,
   "metadata": {},
   "outputs": [
    {
     "name": "stdout",
     "output_type": "stream",
     "text": [
      "TRIPS one-to-one map (summed up - wn order):\n"
     ]
    },
    {
     "data": {
      "text/plain": [
       "[[('UNK1', 1.0)],\n",
       " [(ont::find, 0.24957445229323932),\n",
       "  (ont::becoming-aware, 0.15822679157339456),\n",
       "  (ont::create, 0.07990775813608615),\n",
       "  (ont::determine, 0.18445268981691387),\n",
       "  (ont::change, 0.1344898507204909),\n",
       "  (ont::declare-performative, 0.06684088829847223),\n",
       "  (ont::acquire, 0.06404349644115634),\n",
       "  (ont::retrieve, 0.06246407272024665)],\n",
       " [(ont::length-unit, 0.5), (ont::measure-unit, 0.5)],\n",
       " [(ont::vehicle, 1.0)],\n",
       " [('UNK1', 1.0)],\n",
       " [('UNK1', 1.0)],\n",
       " [(ont::geo-formation, 0.25479920680573653),\n",
       "  (ont::organization, 0.12550682433676627),\n",
       "  (ont::organization-abstr, 0.12550682433676627),\n",
       "  (ont::assets, 0.1705654240774585),\n",
       "  (ont::mountain, 0.16348259882408828),\n",
       "  (ont::collection, 0.16013912161918406)],\n",
       " [('UNK1', 1.0)]]"
      ]
     },
     "metadata": {},
     "output_type": "display_data"
    }
   ],
   "source": [
    "print(\"TRIPS one-to-one map (summed up - wn order):\")\n",
    "display(sent_to_trip_senses(texts[idx], prob=\"combine\", order=\"wn_order\", param=\"sum\"))"
   ]
  },
  {
   "cell_type": "code",
   "execution_count": 34,
   "metadata": {},
   "outputs": [
    {
     "name": "stdout",
     "output_type": "stream",
     "text": [
      "TRIPS map (summed up - prob ordered):\n"
     ]
    },
    {
     "data": {
      "text/plain": [
       "[[('UNK1', 1.0)],\n",
       " [(ont::find, 0.24957445229323932),\n",
       "  (ont::determine, 0.18445268981691387),\n",
       "  (ont::becoming-aware, 0.15822679157339456),\n",
       "  (ont::change, 0.1344898507204909),\n",
       "  (ont::create, 0.07990775813608615),\n",
       "  (ont::declare-performative, 0.06684088829847223),\n",
       "  (ont::acquire, 0.06404349644115634),\n",
       "  (ont::retrieve, 0.06246407272024665)],\n",
       " [(ont::length-unit, 0.5), (ont::measure-unit, 0.5)],\n",
       " [(ont::vehicle, 1.0)],\n",
       " [('UNK1', 1.0)],\n",
       " [('UNK1', 1.0)],\n",
       " [(ont::geo-formation, 0.25479920680573653),\n",
       "  (ont::assets, 0.1705654240774585),\n",
       "  (ont::mountain, 0.16348259882408828),\n",
       "  (ont::collection, 0.16013912161918406),\n",
       "  (ont::organization, 0.12550682433676627),\n",
       "  (ont::organization-abstr, 0.12550682433676627)],\n",
       " [('UNK1', 1.0)]]"
      ]
     },
     "metadata": {},
     "output_type": "display_data"
    }
   ],
   "source": [
    "print(\"TRIPS map (summed up - prob ordered):\")\n",
    "display(sent_to_trip_senses(texts[idx], prob=\"combine\", order=\"prob\", param=\"sum\"))"
   ]
  },
  {
   "cell_type": "code",
   "execution_count": 35,
   "metadata": {},
   "outputs": [
    {
     "name": "stdout",
     "output_type": "stream",
     "text": [
      "TRIPS map (maxed up - prob ordered):\n"
     ]
    },
    {
     "data": {
      "text/plain": [
       "[[('UNK1', 1.0)],\n",
       " [(ont::find, 0.11245358444171903),\n",
       "  (ont::becoming-aware, 0.09690496349411738),\n",
       "  (ont::create, 0.07990775813608615),\n",
       "  (ont::determine, 0.07813654956048953),\n",
       "  (ont::change, 0.0686572644455198),\n",
       "  (ont::declare-performative, 0.06684088829847223),\n",
       "  (ont::acquire, 0.06404349644115634),\n",
       "  (ont::retrieve, 0.06246407272024665)],\n",
       " [(ont::length-unit, 0.5), (ont::measure-unit, 0.5)],\n",
       " [(ont::vehicle, 1.0)],\n",
       " [('UNK1', 1.0)],\n",
       " [('UNK1', 1.0)],\n",
       " [(ont::geo-formation, 0.25479920680573653),\n",
       "  (ont::assets, 0.1705654240774585),\n",
       "  (ont::mountain, 0.16348259882408828),\n",
       "  (ont::collection, 0.16013912161918406),\n",
       "  (ont::organization, 0.12550682433676627),\n",
       "  (ont::organization-abstr, 0.12550682433676627)],\n",
       " [('UNK1', 1.0)]]"
      ]
     },
     "metadata": {},
     "output_type": "display_data"
    }
   ],
   "source": [
    "print(\"TRIPS map (maxed up - prob ordered):\")\n",
    "display(sent_to_trip_senses(texts[idx], prob=\"combine\", order=\"prob\", param=\"max\"))"
   ]
  },
  {
   "cell_type": "markdown",
   "metadata": {},
   "source": [
    "## Sentence 4"
   ]
  },
  {
   "cell_type": "code",
   "execution_count": 36,
   "metadata": {},
   "outputs": [
    {
     "name": "stdout",
     "output_type": "stream",
     "text": [
      "I found a dollar at the bank.\n"
     ]
    }
   ],
   "source": [
    "idx = 3\n",
    "print(texts[idx])"
   ]
  },
  {
   "cell_type": "code",
   "execution_count": 40,
   "metadata": {},
   "outputs": [
    {
     "name": "stdout",
     "output_type": "stream",
     "text": [
      "SupWSD output:\n"
     ]
    },
    {
     "data": {
      "text/plain": [
       "[[['U', 1.0]],\n",
       " [['find%2:40:02::', 0.11252629596132782],\n",
       "  ['find%2:39:02::', 0.093793569390116],\n",
       "  ['find%2:36:00::', 0.07711291422019557],\n",
       "  ['find%2:31:10::', 0.07498846684609106],\n",
       "  ['find%2:39:01::', 0.07099293452790684],\n",
       "  ['find%2:40:01::', 0.07041686662793427],\n",
       "  ['find%2:32:01::', 0.06683910270634695],\n",
       "  ['find%2:40:00::', 0.06643908781123382],\n",
       "  ['find%2:40:03::', 0.06425181613787354],\n",
       "  ['find%2:30:00::', 0.06390262458342301],\n",
       "  ['find%2:40:15::', 0.062809870729844],\n",
       "  ['find%2:39:05::', 0.061821906611363046],\n",
       "  ['find%2:31:09::', 0.058547246626848466],\n",
       "  ['find%2:32:00::', 0.0555572972194954]],\n",
       " [['a%1:23:01::', 1.0]],\n",
       " [['dollar%1:23:00::', 0.5356839843108542],\n",
       "  ['dollar%1:21:00::', 0.46431601568914593]],\n",
       " [['U', 1.0]],\n",
       " [['U', 1.0]],\n",
       " [['bank%1:14:00::', 0.2625264878736364],\n",
       "  ['bank%1:17:01::', 0.24357443996067188],\n",
       "  ['bank%1:21:00::', 0.17131974792185284],\n",
       "  ['bank%1:17:00::', 0.1630285466633088],\n",
       "  ['bank%1:14:01::', 0.1595507775805302]],\n",
       " [['U', 1.0]]]"
      ]
     },
     "metadata": {},
     "output_type": "display_data"
    }
   ],
   "source": [
    "print(\"SupWSD output:\")\n",
    "display(sent_to_wn_senses(texts[idx]))"
   ]
  },
  {
   "cell_type": "code",
   "execution_count": 41,
   "metadata": {},
   "outputs": [
    {
     "name": "stdout",
     "output_type": "stream",
     "text": [
      "TRIPS one-to-one map (raw):\n"
     ]
    },
    {
     "data": {
      "text/plain": [
       "[[['UNK1', 1.0]],\n",
       " [[ont::find, 0.11252629596132782],\n",
       "  [ont::becoming-aware, 0.093793569390116],\n",
       "  [ont::create, 0.07711291422019557],\n",
       "  [ont::determine, 0.07498846684609106],\n",
       "  [ont::change, 0.07099293452790684],\n",
       "  [ont::find, 0.07041686662793427],\n",
       "  [ont::declare-performative, 0.06683910270634695],\n",
       "  [ont::find, 0.06643908781123382],\n",
       "  [ont::acquire, 0.06425181613787354],\n",
       "  [ont::change, 0.06390262458342301],\n",
       "  [ont::retrieve, 0.062809870729844],\n",
       "  [ont::becoming-aware, 0.061821906611363046],\n",
       "  [ont::determine, 0.058547246626848466],\n",
       "  [ont::determine, 0.0555572972194954]],\n",
       " [[ont::length-unit, 0.5], [ont::measure-unit, 0.5]],\n",
       " [[ont::money-unit, 0.5356839843108542],\n",
       "  [ont::money-unit, 0.46431601568914593]],\n",
       " [['UNK1', 1.0]],\n",
       " [['UNK1', 1.0]],\n",
       " [[ont::organization, 0.1312632439368182],\n",
       "  [ont::organization-abstr, 0.1312632439368182],\n",
       "  [ont::geo-formation, 0.24357443996067188],\n",
       "  [ont::assets, 0.17131974792185284],\n",
       "  [ont::mountain, 0.1630285466633088],\n",
       "  [ont::collection, 0.1595507775805302]],\n",
       " [['UNK1', 1.0]]]"
      ]
     },
     "metadata": {},
     "output_type": "display_data"
    }
   ],
   "source": [
    "print(\"TRIPS one-to-one map (raw):\")\n",
    "display(sent_to_trip_senses(texts[idx], prob=\"raw\"))"
   ]
  },
  {
   "cell_type": "code",
   "execution_count": 43,
   "metadata": {},
   "outputs": [
    {
     "name": "stdout",
     "output_type": "stream",
     "text": [
      "TRIPS map (summed up - wn order):\n"
     ]
    },
    {
     "data": {
      "text/plain": [
       "[[('UNK1', 1.0)],\n",
       " [(ont::find, 0.2493822504004959),\n",
       "  (ont::becoming-aware, 0.15561547600147904),\n",
       "  (ont::create, 0.07711291422019557),\n",
       "  (ont::determine, 0.18909301069243492),\n",
       "  (ont::change, 0.13489555911132983),\n",
       "  (ont::declare-performative, 0.06683910270634695),\n",
       "  (ont::acquire, 0.06425181613787354),\n",
       "  (ont::retrieve, 0.062809870729844)],\n",
       " [(ont::length-unit, 0.5), (ont::measure-unit, 0.5)],\n",
       " [(ont::money-unit, 1.0)],\n",
       " [('UNK1', 1.0)],\n",
       " [('UNK1', 1.0)],\n",
       " [(ont::organization, 0.1312632439368182),\n",
       "  (ont::organization-abstr, 0.1312632439368182),\n",
       "  (ont::geo-formation, 0.24357443996067188),\n",
       "  (ont::assets, 0.17131974792185284),\n",
       "  (ont::mountain, 0.1630285466633088),\n",
       "  (ont::collection, 0.1595507775805302)],\n",
       " [('UNK1', 1.0)]]"
      ]
     },
     "metadata": {},
     "output_type": "display_data"
    }
   ],
   "source": [
    "print(\"TRIPS map (summed up - wn order):\")\n",
    "display(sent_to_trip_senses(texts[idx], prob=\"combine\", order=\"wn_order\", param=\"sum\"))"
   ]
  },
  {
   "cell_type": "code",
   "execution_count": 44,
   "metadata": {},
   "outputs": [
    {
     "name": "stdout",
     "output_type": "stream",
     "text": [
      "TRIPS map (summed up - prob ordered):\n"
     ]
    },
    {
     "data": {
      "text/plain": [
       "[[('UNK1', 1.0)],\n",
       " [(ont::find, 0.2493822504004959),\n",
       "  (ont::determine, 0.18909301069243492),\n",
       "  (ont::becoming-aware, 0.15561547600147904),\n",
       "  (ont::change, 0.13489555911132983),\n",
       "  (ont::create, 0.07711291422019557),\n",
       "  (ont::declare-performative, 0.06683910270634695),\n",
       "  (ont::acquire, 0.06425181613787354),\n",
       "  (ont::retrieve, 0.062809870729844)],\n",
       " [(ont::length-unit, 0.5), (ont::measure-unit, 0.5)],\n",
       " [(ont::money-unit, 1.0)],\n",
       " [('UNK1', 1.0)],\n",
       " [('UNK1', 1.0)],\n",
       " [(ont::geo-formation, 0.24357443996067188),\n",
       "  (ont::assets, 0.17131974792185284),\n",
       "  (ont::mountain, 0.1630285466633088),\n",
       "  (ont::collection, 0.1595507775805302),\n",
       "  (ont::organization, 0.1312632439368182),\n",
       "  (ont::organization-abstr, 0.1312632439368182)],\n",
       " [('UNK1', 1.0)]]"
      ]
     },
     "metadata": {},
     "output_type": "display_data"
    }
   ],
   "source": [
    "print(\"TRIPS map (summed up - prob ordered):\")\n",
    "display(sent_to_trip_senses(texts[idx], prob=\"combine\", order=\"prob\", param=\"sum\"))"
   ]
  },
  {
   "cell_type": "code",
   "execution_count": 47,
   "metadata": {},
   "outputs": [
    {
     "name": "stdout",
     "output_type": "stream",
     "text": [
      "TRIPS map (maxed up - prob ordered):\n"
     ]
    },
    {
     "data": {
      "text/plain": [
       "[[('UNK1', 1.0)],\n",
       " [(ont::find, 0.11252629596132782),\n",
       "  (ont::becoming-aware, 0.093793569390116),\n",
       "  (ont::create, 0.07711291422019557),\n",
       "  (ont::determine, 0.07498846684609106),\n",
       "  (ont::change, 0.07099293452790684),\n",
       "  (ont::declare-performative, 0.06683910270634695),\n",
       "  (ont::acquire, 0.06425181613787354),\n",
       "  (ont::retrieve, 0.062809870729844)],\n",
       " [(ont::length-unit, 0.5), (ont::measure-unit, 0.5)],\n",
       " [(ont::money-unit, 0.5356839843108542)],\n",
       " [('UNK1', 1.0)],\n",
       " [('UNK1', 1.0)],\n",
       " [(ont::geo-formation, 0.24357443996067188),\n",
       "  (ont::assets, 0.17131974792185284),\n",
       "  (ont::mountain, 0.1630285466633088),\n",
       "  (ont::collection, 0.1595507775805302),\n",
       "  (ont::organization, 0.1312632439368182),\n",
       "  (ont::organization-abstr, 0.1312632439368182)],\n",
       " [('UNK1', 1.0)]]"
      ]
     },
     "metadata": {},
     "output_type": "display_data"
    }
   ],
   "source": [
    "print(\"TRIPS map (maxed up - prob ordered):\")\n",
    "display(sent_to_trip_senses(texts[idx], prob=\"combine\", order=\"prob\", param=\"max\"))"
   ]
  },
  {
   "cell_type": "markdown",
   "metadata": {},
   "source": [
    "## Sentence 5"
   ]
  },
  {
   "cell_type": "code",
   "execution_count": 50,
   "metadata": {},
   "outputs": [
    {
     "name": "stdout",
     "output_type": "stream",
     "text": [
      "I found a fish at the bank.\n"
     ]
    }
   ],
   "source": [
    "idx = 4\n",
    "print(texts[idx])"
   ]
  },
  {
   "cell_type": "code",
   "execution_count": 51,
   "metadata": {},
   "outputs": [
    {
     "name": "stdout",
     "output_type": "stream",
     "text": [
      "SupWSD output:\n"
     ]
    },
    {
     "data": {
      "text/plain": [
       "[[['U', 1.0]],\n",
       " [['find%2:40:02::', 0.12037732058162075],\n",
       "  ['find%2:39:02::', 0.09142627949891703],\n",
       "  ['find%2:31:10::', 0.07779746517971231],\n",
       "  ['find%2:36:00::', 0.07672314939454411],\n",
       "  ['find%2:40:01::', 0.07108483775915939],\n",
       "  ['find%2:32:01::', 0.06835660088154114],\n",
       "  ['find%2:40:00::', 0.06603439878983358],\n",
       "  ['find%2:39:01::', 0.06570897762257964],\n",
       "  ['find%2:40:03::', 0.06418351052483179],\n",
       "  ['find%2:30:00::', 0.06369674256682739],\n",
       "  ['find%2:40:15::', 0.06234595027365043],\n",
       "  ['find%2:39:05::', 0.061310107246195955],\n",
       "  ['find%2:31:09::', 0.058084231241336895],\n",
       "  ['find%2:32:00::', 0.05287042843924971]],\n",
       " [['a%1:23:01::', 1.0]],\n",
       " [['fish%1:13:00::', 0.33811578020417415],\n",
       "  ['fish%1:05:00::', 0.3343519541547918],\n",
       "  ['fish%1:18:00::', 0.32753226564103394]],\n",
       " [['U', 1.0]],\n",
       " [['U', 1.0]],\n",
       " [['bank%1:14:00::', 0.25566627380672174],\n",
       "  ['bank%1:17:01::', 0.24767454701348718],\n",
       "  ['bank%1:21:00::', 0.17178241689202434],\n",
       "  ['bank%1:17:00::', 0.16445856801187883],\n",
       "  ['bank%1:14:01::', 0.1604181942758879]],\n",
       " [['U', 1.0]]]"
      ]
     },
     "metadata": {},
     "output_type": "display_data"
    }
   ],
   "source": [
    "print(\"SupWSD output:\")\n",
    "display(sent_to_wn_senses(texts[idx]))"
   ]
  },
  {
   "cell_type": "code",
   "execution_count": 55,
   "metadata": {},
   "outputs": [
    {
     "name": "stdout",
     "output_type": "stream",
     "text": [
      "TRIPS one-to-one map (raw):\n"
     ]
    },
    {
     "data": {
      "text/plain": [
       "[[['UNK1', 1.0]],\n",
       " [[ont::find, 0.12037732058162075],\n",
       "  [ont::becoming-aware, 0.09142627949891703],\n",
       "  [ont::determine, 0.07779746517971231],\n",
       "  [ont::create, 0.07672314939454411],\n",
       "  [ont::find, 0.07108483775915939],\n",
       "  [ont::declare-performative, 0.06835660088154114],\n",
       "  [ont::find, 0.06603439878983358],\n",
       "  [ont::change, 0.06570897762257964],\n",
       "  [ont::acquire, 0.06418351052483179],\n",
       "  [ont::change, 0.06369674256682739],\n",
       "  [ont::retrieve, 0.06234595027365043],\n",
       "  [ont::becoming-aware, 0.061310107246195955],\n",
       "  [ont::determine, 0.058084231241336895],\n",
       "  [ont::determine, 0.05287042843924971]],\n",
       " [[ont::length-unit, 0.5], [ont::measure-unit, 0.5]],\n",
       " [[ont::food, 0.33811578020417415],\n",
       "  [ont::fish, 0.3343519541547918],\n",
       "  [ont::person, 0.32753226564103394]],\n",
       " [['UNK1', 1.0]],\n",
       " [['UNK1', 1.0]],\n",
       " [[ont::organization, 0.12783313690336087],\n",
       "  [ont::organization-abstr, 0.12783313690336087],\n",
       "  [ont::geo-formation, 0.24767454701348718],\n",
       "  [ont::assets, 0.17178241689202434],\n",
       "  [ont::mountain, 0.16445856801187883],\n",
       "  [ont::collection, 0.1604181942758879]],\n",
       " [['UNK1', 1.0]]]"
      ]
     },
     "metadata": {},
     "output_type": "display_data"
    }
   ],
   "source": [
    "print(\"TRIPS one-to-one map (raw):\")\n",
    "display(sent_to_trip_senses(texts[idx], prob=\"raw\"))"
   ]
  },
  {
   "cell_type": "code",
   "execution_count": 57,
   "metadata": {},
   "outputs": [
    {
     "name": "stdout",
     "output_type": "stream",
     "text": [
      "TRIPS one-to-one map (summed up - wn order):\n"
     ]
    },
    {
     "data": {
      "text/plain": [
       "[[('UNK1', 1.0)],\n",
       " [(ont::find, 0.2574965571306137),\n",
       "  (ont::becoming-aware, 0.15273638674511297),\n",
       "  (ont::determine, 0.1887521248602989),\n",
       "  (ont::create, 0.07672314939454411),\n",
       "  (ont::declare-performative, 0.06835660088154114),\n",
       "  (ont::change, 0.12940572018940705),\n",
       "  (ont::acquire, 0.06418351052483179),\n",
       "  (ont::retrieve, 0.06234595027365043)],\n",
       " [(ont::length-unit, 0.5), (ont::measure-unit, 0.5)],\n",
       " [(ont::food, 0.33811578020417415),\n",
       "  (ont::fish, 0.3343519541547918),\n",
       "  (ont::person, 0.32753226564103394)],\n",
       " [('UNK1', 1.0)],\n",
       " [('UNK1', 1.0)],\n",
       " [(ont::organization, 0.12783313690336087),\n",
       "  (ont::organization-abstr, 0.12783313690336087),\n",
       "  (ont::geo-formation, 0.24767454701348718),\n",
       "  (ont::assets, 0.17178241689202434),\n",
       "  (ont::mountain, 0.16445856801187883),\n",
       "  (ont::collection, 0.1604181942758879)],\n",
       " [('UNK1', 1.0)]]"
      ]
     },
     "metadata": {},
     "output_type": "display_data"
    }
   ],
   "source": [
    "print(\"TRIPS one-to-one map (summed up - wn order):\")\n",
    "display(sent_to_trip_senses(texts[idx], prob=\"combine\", order=\"wn_order\", param=\"sum\"))"
   ]
  },
  {
   "cell_type": "code",
   "execution_count": 59,
   "metadata": {},
   "outputs": [
    {
     "name": "stdout",
     "output_type": "stream",
     "text": [
      "TRIPS one-to-one map (summed up - prob ordered):\n"
     ]
    },
    {
     "data": {
      "text/plain": [
       "[[('UNK1', 1.0)],\n",
       " [(ont::find, 0.2574965571306137),\n",
       "  (ont::determine, 0.1887521248602989),\n",
       "  (ont::becoming-aware, 0.15273638674511297),\n",
       "  (ont::change, 0.12940572018940705),\n",
       "  (ont::create, 0.07672314939454411),\n",
       "  (ont::declare-performative, 0.06835660088154114),\n",
       "  (ont::acquire, 0.06418351052483179),\n",
       "  (ont::retrieve, 0.06234595027365043)],\n",
       " [(ont::length-unit, 0.5), (ont::measure-unit, 0.5)],\n",
       " [(ont::food, 0.33811578020417415),\n",
       "  (ont::fish, 0.3343519541547918),\n",
       "  (ont::person, 0.32753226564103394)],\n",
       " [('UNK1', 1.0)],\n",
       " [('UNK1', 1.0)],\n",
       " [(ont::geo-formation, 0.24767454701348718),\n",
       "  (ont::assets, 0.17178241689202434),\n",
       "  (ont::mountain, 0.16445856801187883),\n",
       "  (ont::collection, 0.1604181942758879),\n",
       "  (ont::organization, 0.12783313690336087),\n",
       "  (ont::organization-abstr, 0.12783313690336087)],\n",
       " [('UNK1', 1.0)]]"
      ]
     },
     "metadata": {},
     "output_type": "display_data"
    }
   ],
   "source": [
    "print(\"TRIPS one-to-one map (summed up - prob ordered):\")\n",
    "display(sent_to_trip_senses(texts[idx], prob=\"combine\", order=\"prob\", param=\"sum\"))"
   ]
  },
  {
   "cell_type": "code",
   "execution_count": 63,
   "metadata": {},
   "outputs": [
    {
     "name": "stdout",
     "output_type": "stream",
     "text": [
      "TRIPS one-to-one map (maxed up - prob ordered):\n"
     ]
    },
    {
     "data": {
      "text/plain": [
       "[[('UNK1', 1.0)],\n",
       " [(ont::find, 0.12037732058162075),\n",
       "  (ont::becoming-aware, 0.09142627949891703),\n",
       "  (ont::determine, 0.07779746517971231),\n",
       "  (ont::create, 0.07672314939454411),\n",
       "  (ont::declare-performative, 0.06835660088154114),\n",
       "  (ont::change, 0.06570897762257964),\n",
       "  (ont::acquire, 0.06418351052483179),\n",
       "  (ont::retrieve, 0.06234595027365043)],\n",
       " [(ont::length-unit, 0.5), (ont::measure-unit, 0.5)],\n",
       " [(ont::food, 0.33811578020417415),\n",
       "  (ont::fish, 0.3343519541547918),\n",
       "  (ont::person, 0.32753226564103394)],\n",
       " [('UNK1', 1.0)],\n",
       " [('UNK1', 1.0)],\n",
       " [(ont::geo-formation, 0.24767454701348718),\n",
       "  (ont::assets, 0.17178241689202434),\n",
       "  (ont::mountain, 0.16445856801187883),\n",
       "  (ont::collection, 0.1604181942758879),\n",
       "  (ont::organization, 0.12783313690336087),\n",
       "  (ont::organization-abstr, 0.12783313690336087)],\n",
       " [('UNK1', 1.0)]]"
      ]
     },
     "metadata": {},
     "output_type": "display_data"
    }
   ],
   "source": [
    "print(\"TRIPS one-to-one map (maxed up - prob ordered):\")\n",
    "display(sent_to_trip_senses(texts[idx], prob=\"combine\", order=\"prob\", param=\"max\"))"
   ]
  },
  {
   "cell_type": "markdown",
   "metadata": {},
   "source": [
    "## Sentence 6"
   ]
  },
  {
   "cell_type": "code",
   "execution_count": null,
   "metadata": {},
   "outputs": [],
   "source": [
    "idx = 5\n",
    "print(texts[idx])"
   ]
  },
  {
   "cell_type": "code",
   "execution_count": null,
   "metadata": {},
   "outputs": [],
   "source": [
    "print(\"SupWSD output:\")\n",
    "display(sent_to_wn_senses(texts[idx]))"
   ]
  },
  {
   "cell_type": "code",
   "execution_count": null,
   "metadata": {},
   "outputs": [],
   "source": [
    "print(\"TRIPS one-to-one map (raw):\")\n",
    "display(sent_to_trip_senses(texts[idx], prob=\"raw\"))"
   ]
  },
  {
   "cell_type": "code",
   "execution_count": null,
   "metadata": {},
   "outputs": [],
   "source": [
    "print(\"TRIPS one-to-one map (summed up - wn order):\")\n",
    "display(sent_to_trip_senses(texts[idx], prob=\"combine\", order=\"wn_order\", param=\"sum\"))"
   ]
  },
  {
   "cell_type": "code",
   "execution_count": null,
   "metadata": {},
   "outputs": [],
   "source": [
    "print(\"TRIPS one-to-one map (summed up - prob ordered):\")\n",
    "display(sent_to_trip_senses(texts[idx], prob=\"combine\", order=\"prob\", param=\"sum\"))"
   ]
  },
  {
   "cell_type": "code",
   "execution_count": null,
   "metadata": {},
   "outputs": [],
   "source": [
    "print(\"TRIPS one-to-one map (maxed up - prob ordered):\")\n",
    "display(sent_to_trip_senses(texts[idx], prob=\"combine\", order=\"prob\", param=\"max\"))"
   ]
  },
  {
   "cell_type": "markdown",
   "metadata": {},
   "source": [
    "## Sentence 7"
   ]
  },
  {
   "cell_type": "code",
   "execution_count": null,
   "metadata": {},
   "outputs": [],
   "source": [
    "idx = 6\n",
    "print(texts[idx])"
   ]
  },
  {
   "cell_type": "code",
   "execution_count": null,
   "metadata": {},
   "outputs": [],
   "source": [
    "print(\"SupWSD output:\")\n",
    "display(sent_to_wn_senses(texts[idx]))"
   ]
  },
  {
   "cell_type": "code",
   "execution_count": null,
   "metadata": {},
   "outputs": [],
   "source": [
    "print(\"TRIPS one-to-one map (raw):\")\n",
    "display(sent_to_trip_senses(texts[idx], prob=\"raw\"))"
   ]
  },
  {
   "cell_type": "code",
   "execution_count": null,
   "metadata": {},
   "outputs": [],
   "source": [
    "print(\"TRIPS one-to-one map (summed up - wn order):\")\n",
    "display(sent_to_trip_senses(texts[idx], prob=\"combine\", order=\"wn_order\", param=\"sum\"))"
   ]
  },
  {
   "cell_type": "code",
   "execution_count": null,
   "metadata": {},
   "outputs": [],
   "source": [
    "print(\"TRIPS one-to-one map (summed up - prob ordered):\")\n",
    "display(sent_to_trip_senses(texts[idx], prob=\"combine\", order=\"prob\", param=\"sum\"))"
   ]
  },
  {
   "cell_type": "code",
   "execution_count": null,
   "metadata": {},
   "outputs": [],
   "source": [
    "print(\"TRIPS one-to-one map (maxed up - prob ordered):\")\n",
    "display(sent_to_trip_senses(texts[idx], prob=\"combine\", order=\"prob\", param=\"max\"))"
   ]
  },
  {
   "cell_type": "markdown",
   "metadata": {},
   "source": [
    "## Sentence 8"
   ]
  },
  {
   "cell_type": "code",
   "execution_count": null,
   "metadata": {},
   "outputs": [],
   "source": [
    "idx = 7\n",
    "print(texts[idx])"
   ]
  },
  {
   "cell_type": "code",
   "execution_count": null,
   "metadata": {},
   "outputs": [],
   "source": [
    "print(\"SupWSD output:\")\n",
    "display(sent_to_wn_senses(texts[idx]))"
   ]
  },
  {
   "cell_type": "code",
   "execution_count": null,
   "metadata": {},
   "outputs": [],
   "source": [
    "print(\"TRIPS one-to-one map (raw):\")\n",
    "display(sent_to_trip_senses(texts[idx], prob=\"raw\"))"
   ]
  },
  {
   "cell_type": "code",
   "execution_count": null,
   "metadata": {},
   "outputs": [],
   "source": [
    "print(\"TRIPS one-to-one map (summed up - wn order):\")\n",
    "display(sent_to_trip_senses(texts[idx], prob=\"combine\", order=\"wn_order\", param=\"sum\"))"
   ]
  },
  {
   "cell_type": "code",
   "execution_count": null,
   "metadata": {},
   "outputs": [],
   "source": [
    "print(\"TRIPS one-to-one map (summed up - prob ordered):\")\n",
    "display(sent_to_trip_senses(texts[idx], prob=\"combine\", order=\"prob\", param=\"sum\"))"
   ]
  },
  {
   "cell_type": "code",
   "execution_count": null,
   "metadata": {},
   "outputs": [],
   "source": [
    "print(\"TRIPS one-to-one map (maxed up - prob ordered):\")\n",
    "display(sent_to_trip_senses(texts[idx], prob=\"combine\", order=\"prob\", param=\"max\"))"
   ]
  },
  {
   "cell_type": "markdown",
   "metadata": {},
   "source": [
    "## Rough example check"
   ]
  },
  {
   "cell_type": "code",
   "execution_count": null,
   "metadata": {},
   "outputs": [],
   "source": [
    "texts = [\"I found a fish at the bank\"]"
   ]
  },
  {
   "cell_type": "code",
   "execution_count": null,
   "metadata": {},
   "outputs": [],
   "source": [
    "idx = -1\n",
    "print(texts[idx])"
   ]
  },
  {
   "cell_type": "code",
   "execution_count": null,
   "metadata": {},
   "outputs": [],
   "source": [
    "print(\"SupWSD output:\")\n",
    "display(sent_to_wn_senses(texts[idx]))"
   ]
  },
  {
   "cell_type": "code",
   "execution_count": null,
   "metadata": {},
   "outputs": [],
   "source": [
    "print(\"TRIPS one-to-one map (raw):\")\n",
    "display(sent_to_trip_senses(texts[idx], prob=\"raw\"))"
   ]
  },
  {
   "cell_type": "code",
   "execution_count": null,
   "metadata": {},
   "outputs": [],
   "source": [
    "print(\"TRIPS one-to-one map (summed up - wn order):\")\n",
    "display(sent_to_trip_senses(texts[idx], prob=\"combine\", order=\"wn_order\", param=\"sum\"))"
   ]
  },
  {
   "cell_type": "code",
   "execution_count": null,
   "metadata": {},
   "outputs": [],
   "source": [
    "print(\"TRIPS one-to-one map (summed up - prob ordered):\")\n",
    "display(sent_to_trip_senses(texts[idx], prob=\"combine\", order=\"prob\", param=\"sum\"))"
   ]
  },
  {
   "cell_type": "code",
   "execution_count": null,
   "metadata": {},
   "outputs": [],
   "source": [
    "print(\"TRIPS one-to-one map (maxed up - prob ordered):\")\n",
    "display(sent_to_trip_senses(texts[idx], prob=\"combine\", order=\"prob\", param=\"max\"))"
   ]
  },
  {
   "cell_type": "code",
   "execution_count": null,
   "metadata": {},
   "outputs": [],
   "source": []
  }
 ],
 "metadata": {
  "kernelspec": {
   "display_name": "Python 3",
   "language": "python",
   "name": "python3"
  },
  "language_info": {
   "codemirror_mode": {
    "name": "ipython",
    "version": 3
   },
   "file_extension": ".py",
   "mimetype": "text/x-python",
   "name": "python",
   "nbconvert_exporter": "python",
   "pygments_lexer": "ipython3",
   "version": "3.6.5"
  }
 },
 "nbformat": 4,
 "nbformat_minor": 2
}
