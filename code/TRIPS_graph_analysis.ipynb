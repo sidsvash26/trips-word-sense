{
 "cells": [
  {
   "cell_type": "code",
   "execution_count": 1,
   "metadata": {},
   "outputs": [],
   "source": [
    "import nltk\n",
    "from nltk.wsd import lesk\n",
    "#from supwsd.wsd import SupWSD\n",
    "from collections import defaultdict\n",
    "import sys\n",
    "sys.path.append(\"../\")\n",
    "from itertools import product\n",
    "from collections import defaultdict\n",
    "import json\n",
    "import pytrips"
   ]
  },
  {
   "cell_type": "code",
   "execution_count": 2,
   "metadata": {},
   "outputs": [
    {
     "name": "stderr",
     "output_type": "stream",
     "text": [
      "no synset found for distinct%5:00:00::\n",
      "no synset found for distinct%5:00:00::\n",
      "no synset found for absolute%3:00:00:inalienable:00\n",
      "no synset found for absolute%3:00:00:inalienable:00\n",
      "no synset found for be%2:42:012::\n",
      "no synset found for be%2:42:012::\n",
      "no synset found for favourite%3:00:00:popular:00\n",
      "no synset found for favourite%3:00:00:loved:00\n",
      "no synset found for favourite%3:00:00:popular:00\n",
      "no synset found for favourite%3:00:00:loved:00\n",
      "no synset found for flavor%2:35:00::\n",
      "no synset found for flavor%2:35:00::\n",
      "no synset found for ideal%3:00:00:perfect:00\n",
      "no synset found for ideal%3:00:00:perfect:00\n",
      "no synset found for immoral%3:00:00:wrong:01\n",
      "no synset found for immoral%3:00:00:wrong:01\n",
      "no synset found for another%3:00:00::\n",
      "no synset found for another%3:00:00::\n",
      "no synset found for nauseous%3:00:00:ill:01\n",
      "no synset found for nauseated%3:00:00:ill:01\n",
      "no synset found for queasy%3:00:00:ill:01\n",
      "no synset found for sickish%3:00:00:ill:01\n",
      "no synset found for nauseous%3:00:00:ill:01\n",
      "no synset found for nauseated%3:00:00:ill:01\n",
      "no synset found for queasy%3:00:00:ill:01\n",
      "no synset found for sickish%3:00:00:ill:01\n",
      "no synset found for corresponding%5:00:00::\n",
      "no synset found for corresponding%5:00:00::\n",
      "no synset found for technology%1:06:00::\n",
      "no synset found for technology%1:06:00::\n"
     ]
    }
   ],
   "source": [
    "from pytrips.ontology import load\n",
    "ont = load()"
   ]
  },
  {
   "cell_type": "code",
   "execution_count": 3,
   "metadata": {},
   "outputs": [],
   "source": [
    "from IPython.display import clear_output, Image, display"
   ]
  },
  {
   "cell_type": "code",
   "execution_count": 3,
   "metadata": {},
   "outputs": [],
   "source": [
    "# def load_data(fname):\n",
    "#     return json.load(open(fname))\n",
    "\n",
    "# ## Load lex and ontology from json files\n",
    "# ont_data = load_data(\"../data/ontology.json\")\n",
    "# lex_data = load_data(\"../data/lexicon.json\")\n",
    "\n",
    "# #Store the ontology in a dictionary with nodes as keys\n",
    "# ont_dict = {}\n",
    "# for item in ont_data:\n",
    "#     ont_dict[item['name']] = item\n",
    "    \n",
    "# #Load TRIPS-types\n",
    "# ont = load()"
   ]
  },
  {
   "cell_type": "code",
   "execution_count": 6,
   "metadata": {},
   "outputs": [
    {
     "data": {
      "text/plain": [
       "['DETERMINE', 'BECOMING-AWARE', 'SCRUTINY']"
      ]
     },
     "execution_count": 6,
     "metadata": {},
     "output_type": "execute_result"
    }
   ],
   "source": [
    "senses = ['determine', 'becoming-aware', 'scrutiny']\n",
    "senses = [x.upper() for x in senses]\n",
    "senses"
   ]
  },
  {
   "cell_type": "code",
   "execution_count": 7,
   "metadata": {
    "scrolled": true
   },
   "outputs": [
    {
     "data": {
      "text/plain": [
       "[ont::determine,\n",
       " ont::cogitation,\n",
       " ont::change-awareness,\n",
       " ont::event-of-awareness,\n",
       " ont::event-of-change,\n",
       " ont::situation-root,\n",
       " ont::referential-sem,\n",
       " ont::any-sem,\n",
       " ont::root]"
      ]
     },
     "metadata": {},
     "output_type": "display_data"
    },
    {
     "data": {
      "text/plain": [
       "[ont::becoming-aware,\n",
       " ont::acquire-belief,\n",
       " ont::cogitation,\n",
       " ont::change-awareness,\n",
       " ont::event-of-awareness,\n",
       " ont::event-of-change,\n",
       " ont::situation-root,\n",
       " ont::referential-sem,\n",
       " ont::any-sem,\n",
       " ont::root]"
      ]
     },
     "metadata": {},
     "output_type": "display_data"
    },
    {
     "data": {
      "text/plain": [
       "[ont::scrutiny,\n",
       " ont::cogitation,\n",
       " ont::change-awareness,\n",
       " ont::event-of-awareness,\n",
       " ont::event-of-change,\n",
       " ont::situation-root,\n",
       " ont::referential-sem,\n",
       " ont::any-sem,\n",
       " ont::root]"
      ]
     },
     "metadata": {},
     "output_type": "display_data"
    }
   ],
   "source": [
    "for sense in senses:\n",
    "    display(ont[sense].path_to_root())"
   ]
  },
  {
   "cell_type": "code",
   "execution_count": 8,
   "metadata": {},
   "outputs": [
    {
     "data": {
      "text/plain": [
       "[ont::learn,\n",
       " ont::predict,\n",
       " ont::scrutiny,\n",
       " ont::acquire-belief,\n",
       " ont::determine,\n",
       " ont::pay-attention]"
      ]
     },
     "execution_count": 8,
     "metadata": {},
     "output_type": "execute_result"
    }
   ],
   "source": [
    "ont['cogitation'].children"
   ]
  },
  {
   "cell_type": "code",
   "execution_count": 20,
   "metadata": {},
   "outputs": [],
   "source": [
    "# def add_scores(senses):\n",
    "#     '''\n",
    "#     Input: A list of trips-ontology types (strings)\n",
    "    \n",
    "#     Output: 1. add sense-score to ont TRIPS-types starting bottom-up (no output)\n",
    "    \n",
    "#             2. a set of nodes being considered for the word senses\n",
    "#     '''\n",
    "#     sense_list = []\n",
    "    \n",
    "#     for sense in senses:\n",
    "#         path_to_root = ont[sense].path_to_root()\n",
    "#         for trip_type in path_to_root:\n",
    "#             if trip_type not in sense_list:\n",
    "#                 sense_list.append(trip_type)\n",
    "#             if trip_type.sense_score:\n",
    "#                 trip_type.sense_score += 1\n",
    "#             else:\n",
    "#                 trip_type.sense_score = 1\n",
    "                \n",
    "#     return sense_list\n",
    "\n",
    "# def reset_scores():\n",
    "#     '''\n",
    "#     Reset all sense scores in the ontology\n",
    "#     '''\n",
    "#     for key in ont_dict:\n",
    "#         ont[key].reset_score()\n",
    "       \n",
    "#     return None\n",
    "\n",
    "def sense_closure(senses):\n",
    "    '''\n",
    "    Input: A list of trips-ontology types (strings)\n",
    "            \n",
    "    Output: A list of trips-ontology types (TRIPS-type)\n",
    "    \n",
    "            For each trips-ont type in the input, we build the tree going up to the\n",
    "            root of TRIPS-ontology and add every ontology appearing in the way to our\n",
    "            final output list\n",
    "    \n",
    "    '''\n",
    "    sense_list = []\n",
    "    \n",
    "    for sense in senses:\n",
    "        path_to_root = ont[sense].path_to_root()\n",
    "        for trip_type in path_to_root:\n",
    "            if trip_type not in sense_list:\n",
    "                sense_list.append(trip_type)\n",
    "    \n",
    "    return sense_list\n",
    "                \n",
    "def break_in_branch(children, senses_considered ):\n",
    "    '''\n",
    "    Input: 1. children: a list of TRIPS-types - children of a particular node\n",
    "            2. senses_considered: a list of TRIPS-types - all trips-types\n",
    "                                    being considered for current word-sense\n",
    "    \n",
    "    Output: Boolean\n",
    "            if more than 1 child is present in senses_considered\n",
    "    '''\n",
    "    count=0\n",
    "    for child in children:\n",
    "        if count>1:\n",
    "            return True\n",
    "        if child in senses_considered:\n",
    "            count+=1\n",
    "    if count==1:\n",
    "        return False\n",
    "    if count==0:\n",
    "        print(\"No sense present in the children\")\n",
    "    \n",
    "def top_disam_nodes(senses_considered):\n",
    "    '''\n",
    "    Input: A list of trips-types being considered for disambiguating \n",
    "            word-senses\n",
    "            \n",
    "    Output: A list of highest disambiguating trips-type\n",
    "    '''\n",
    "    #init_score = ont['root'].sense_score\n",
    "    current_node = ont['root']\n",
    "    \n",
    "    ans = []\n",
    "    \n",
    "    while True:\n",
    "        current_children = current_node.children\n",
    "        #print(current_children)\n",
    "        if break_in_branch(current_children, senses_considered):\n",
    "            for child in current_children:\n",
    "                if child in senses_considered:\n",
    "                    ans.append(child)\n",
    "            return ans\n",
    "        else:\n",
    "            for child in current_children:\n",
    "                if child in senses_considered:\n",
    "                    current_node = child"
   ]
  },
  {
   "cell_type": "code",
   "execution_count": 21,
   "metadata": {},
   "outputs": [
    {
     "data": {
      "text/plain": [
       "['DETERMINE', 'BECOMING-AWARE', 'SCRUTINY']"
      ]
     },
     "execution_count": 21,
     "metadata": {},
     "output_type": "execute_result"
    }
   ],
   "source": [
    "senses"
   ]
  },
  {
   "cell_type": "code",
   "execution_count": 22,
   "metadata": {},
   "outputs": [
    {
     "data": {
      "text/plain": [
       "[ont::determine,\n",
       " ont::cogitation,\n",
       " ont::change-awareness,\n",
       " ont::event-of-awareness,\n",
       " ont::event-of-change,\n",
       " ont::situation-root,\n",
       " ont::referential-sem,\n",
       " ont::any-sem,\n",
       " ont::root,\n",
       " ont::becoming-aware,\n",
       " ont::acquire-belief,\n",
       " ont::scrutiny]"
      ]
     },
     "execution_count": 22,
     "metadata": {},
     "output_type": "execute_result"
    }
   ],
   "source": [
    "senses_considered = sense_closure(senses)\n",
    "senses_considered"
   ]
  },
  {
   "cell_type": "code",
   "execution_count": 23,
   "metadata": {},
   "outputs": [
    {
     "data": {
      "text/plain": [
       "[ont::scrutiny, ont::acquire-belief, ont::determine]"
      ]
     },
     "execution_count": 23,
     "metadata": {},
     "output_type": "execute_result"
    }
   ],
   "source": [
    "top_disam_nodes(senses_considered)"
   ]
  },
  {
   "cell_type": "code",
   "execution_count": 24,
   "metadata": {},
   "outputs": [
    {
     "data": {
      "text/plain": [
       "'I hear bass sounds'"
      ]
     },
     "execution_count": 24,
     "metadata": {},
     "output_type": "execute_result"
    }
   ],
   "source": [
    "\"I hear bass sounds\""
   ]
  },
  {
   "cell_type": "markdown",
   "metadata": {},
   "source": [
    "### Rough"
   ]
  },
  {
   "cell_type": "code",
   "execution_count": 6,
   "metadata": {},
   "outputs": [
    {
     "data": {
      "text/plain": [
       "'The car hit the bus.'"
      ]
     },
     "execution_count": 6,
     "metadata": {},
     "output_type": "execute_result"
    }
   ],
   "source": [
    "\"The car hit the bus.\""
   ]
  },
  {
   "cell_type": "code",
   "execution_count": 26,
   "metadata": {},
   "outputs": [],
   "source": [
    "trips_probs = [('ont::touch', 0.11150409427676958),\n",
    "  ('ont::change', 0.08906610379073356),\n",
    "  ('ont::arrive', 0.0874618767894344),\n",
    "  ('ont::evoke-injury', 0.08635276717242853),\n",
    "  ('ont::hitting', 0.0859967736282921),\n",
    "  ('ont::affect-experiencer', 0.08546717884883379),\n",
    "  ('ont::attack', 0.08452608782703594),\n",
    "  ('ont::acquire', 0.08259924765722312),\n",
    "  ('ont::collide', 0.061849488043740436),\n",
    "  ('ont::complete', 0.0422583443948868)]"
   ]
  },
  {
   "cell_type": "code",
   "execution_count": 27,
   "metadata": {},
   "outputs": [],
   "source": [
    "trips_probs = [('ont::geo-formation', 0.25479920680573653),\n",
    "  ('ont::assets', 0.1705654240774585),\n",
    "  ('ont::mountain', 0.16348259882408828),\n",
    "  ('ont::collection', 0.16013912161918406),\n",
    "  ('ont::organization-abstr', 0.12550682433676627),\n",
    "  ('ont::organization', 0.12550682433676627)]"
   ]
  },
  {
   "cell_type": "code",
   "execution_count": 28,
   "metadata": {},
   "outputs": [
    {
     "name": "stdout",
     "output_type": "stream",
     "text": [
      "['geo-formation', 'assets', 'mountain', 'collection', 'organization-abstr', 'organization']\n"
     ]
    }
   ],
   "source": [
    "trips_senses = [x[5:] for x,y in trips_probs]\n",
    "print(trips_senses)"
   ]
  },
  {
   "cell_type": "code",
   "execution_count": 31,
   "metadata": {},
   "outputs": [
    {
     "name": "stdout",
     "output_type": "stream",
     "text": [
      "[ont::geo-formation, ont::geo-object, ont::phys-object, ont::referential-sem, ont::any-sem, ont::root, ont::assets, ont::function-object, ont::tangible-abstract-object, ont::abstract-object, ont::mountain, ont::collection, ont::group-object, ont::organization-abstr, ont::social-group-abstr, ont::group-object-abstr, ont::abstract-object-nontemporal, ont::organization, ont::social-group]\n"
     ]
    }
   ],
   "source": [
    "senses_considered = sense_closure(trips_senses)\n",
    "print(senses_considered)"
   ]
  },
  {
   "cell_type": "code",
   "execution_count": 32,
   "metadata": {},
   "outputs": [
    {
     "data": {
      "text/plain": [
       "[ont::group-object, ont::geo-object]"
      ]
     },
     "execution_count": 32,
     "metadata": {},
     "output_type": "execute_result"
    }
   ],
   "source": [
    "top_disam_nodes(senses_considered)"
   ]
  },
  {
   "cell_type": "code",
   "execution_count": 40,
   "metadata": {},
   "outputs": [
    {
     "data": {
      "text/plain": [
       "[ont::organization-abstr,\n",
       " ont::social-group-abstr,\n",
       " ont::group-object-abstr,\n",
       " ont::abstract-object-nontemporal,\n",
       " ont::abstract-object,\n",
       " ont::referential-sem,\n",
       " ont::any-sem,\n",
       " ont::root]"
      ]
     },
     "execution_count": 40,
     "metadata": {},
     "output_type": "execute_result"
    }
   ],
   "source": [
    "ont['organization-abstr'].path_to_root()"
   ]
  },
  {
   "cell_type": "code",
   "execution_count": null,
   "metadata": {},
   "outputs": [],
   "source": []
  }
 ],
 "metadata": {
  "kernelspec": {
   "display_name": "Python 3",
   "language": "python",
   "name": "python3"
  },
  "language_info": {
   "codemirror_mode": {
    "name": "ipython",
    "version": 3
   },
   "file_extension": ".py",
   "mimetype": "text/x-python",
   "name": "python",
   "nbconvert_exporter": "python",
   "pygments_lexer": "ipython3",
   "version": "3.7.1"
  }
 },
 "nbformat": 4,
 "nbformat_minor": 2
}
