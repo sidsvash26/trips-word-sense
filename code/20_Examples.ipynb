{
 "cells": [
  {
   "cell_type": "markdown",
   "metadata": {},
   "source": [
    "## Example Run"
   ]
  },
  {
   "cell_type": "code",
   "execution_count": 1,
   "metadata": {},
   "outputs": [],
   "source": [
    "from trips_senses import *\n",
    "from IPython.core.display import display"
   ]
  },
  {
   "cell_type": "code",
   "execution_count": 2,
   "metadata": {},
   "outputs": [],
   "source": [
    "texts = [\"I hear bass sounds.\",\n",
    "        \"They liked grilled bass.\",\n",
    "        \"I found a boat at the bank.\", \n",
    "         \"I found a dollar at the bank.\",\n",
    "         \"I found a fish at the bank.\",\n",
    "         \"The car hit the bus.\",\n",
    "         \"That song was his first hit.\",\n",
    "        \"The bat ate the fruit.\",\n",
    "         \"Bats sleep in the afternoon.\",\n",
    "         \"The bat was sleeping on a tree.\",\n",
    "         \"The bat slept in the afternoon.\",\n",
    "        \"Sachin hit the ball with the bat.\",\n",
    "        \"The engineer killed the program.\",\n",
    "        \"The suspect was found guilty of killing the man.\",\n",
    "         \"These new shoes are killing me.\",\n",
    "        \"Sachin scored 3 runs in that inning.\",\n",
    "        \"Jon broke the record for the 10 mile run.\",\n",
    "        \"Music talent runs in the family.\",\n",
    "        \"The movie runs 5 hours.\",\n",
    "        \"My code ran for three hours on the Mac.\"]"
   ]
  },
  {
   "cell_type": "markdown",
   "metadata": {},
   "source": [
    "### WORD to be disambiugated: BASS"
   ]
  },
  {
   "cell_type": "markdown",
   "metadata": {},
   "source": [
    "#### Sentence 1"
   ]
  },
  {
   "cell_type": "code",
   "execution_count": 3,
   "metadata": {},
   "outputs": [
    {
     "name": "stdout",
     "output_type": "stream",
     "text": [
      "I hear bass sounds.\n"
     ]
    }
   ],
   "source": [
    "idx = 0\n",
    "print(texts[idx])"
   ]
  },
  {
   "cell_type": "code",
   "execution_count": 4,
   "metadata": {},
   "outputs": [
    {
     "name": "stdout",
     "output_type": "stream",
     "text": [
      "TRIPS probability distribution : (max prob is taken if multiple probs found)\n"
     ]
    },
    {
     "data": {
      "text/plain": [
       "[[('UNK1', 1.0)],\n",
       " [(ont::becoming-aware, 0.3792998462354924),\n",
       "  (ont::determine, 0.2896940390781511),\n",
       "  (ont::scrutiny, 0.1346700102415046)],\n",
       " [(ont::music, 0.5057398111985619), (ont::pitch, 0.49426018880143807)],\n",
       " [(ont::perceivable-sound-property, 0.22984242049728498),\n",
       "  (ont::audio, 0.15186940922023884),\n",
       "  (ont::linguistic-object, 0.14454436721070307)],\n",
       " [('UNK1', 1.0)]]"
      ]
     },
     "metadata": {},
     "output_type": "display_data"
    }
   ],
   "source": [
    "# print(\"SupWSD output:\")\n",
    "# display(sent_to_wn_senses(texts[idx]))\n",
    "\n",
    "# print(\"TRIPS one-to-one map (raw):\")\n",
    "# display(sent_to_trip_senses(texts[idx], prob=\"raw\"))\n",
    "\n",
    "print(\"TRIPS probability distribution : (max prob is taken if multiple probs found)\")\n",
    "display(sent_to_trip_senses(texts[idx], prob=\"combine\", order=\"prob\", param=\"max\"))"
   ]
  },
  {
   "cell_type": "markdown",
   "metadata": {},
   "source": [
    "**Correct**: ont::music <br>\n",
    "**Predicted**: ont::music"
   ]
  },
  {
   "cell_type": "markdown",
   "metadata": {},
   "source": [
    "#### Sentence 2"
   ]
  },
  {
   "cell_type": "code",
   "execution_count": 5,
   "metadata": {},
   "outputs": [
    {
     "name": "stdout",
     "output_type": "stream",
     "text": [
      "They liked grilled bass.\n"
     ]
    }
   ],
   "source": [
    "idx = 1\n",
    "print(texts[idx])"
   ]
  },
  {
   "cell_type": "code",
   "execution_count": 6,
   "metadata": {},
   "outputs": [
    {
     "name": "stdout",
     "output_type": "stream",
     "text": [
      "TRIPS probability distribution : (max prob is taken if multiple probs found)\n"
     ]
    },
    {
     "data": {
      "text/plain": [
       "[[('UNK1', 1.0)],\n",
       " [(ont::experiencer-emotion, 0.3155740161892696),\n",
       "  (ont::appreciate, 0.20309684254289262),\n",
       "  (ont::want, 0.16403783830631283),\n",
       "  (ont::categorization, 0.08236516830722104),\n",
       "  (ont::belief-ascription, 0.08236516830722104)],\n",
       " [('UNK1', 1.0)],\n",
       " [(ont::pitch, 0.5026724098167304), (ont::music, 0.49732759018326955)],\n",
       " [('UNK1', 1.0)]]"
      ]
     },
     "metadata": {},
     "output_type": "display_data"
    }
   ],
   "source": [
    "# print(\"SupWSD output:\")\n",
    "# display(sent_to_wn_senses(texts[idx]))\n",
    "\n",
    "# print(\"TRIPS one-to-one map (raw):\")\n",
    "# display(sent_to_trip_senses(texts[idx], prob=\"raw\"))\n",
    "\n",
    "print(\"TRIPS probability distribution : (max prob is taken if multiple probs found)\")\n",
    "display(sent_to_trip_senses(texts[idx], prob=\"combine\", order=\"prob\", param=\"max\"))"
   ]
  },
  {
   "cell_type": "markdown",
   "metadata": {},
   "source": [
    "**Correct**: ont::nonhuman-animal <br>\n",
    "**Predicted**: ont::pitch"
   ]
  },
  {
   "cell_type": "markdown",
   "metadata": {},
   "source": [
    "### WORD to be disambiugated: BANK"
   ]
  },
  {
   "cell_type": "markdown",
   "metadata": {},
   "source": [
    "#### Sentence 3"
   ]
  },
  {
   "cell_type": "code",
   "execution_count": 7,
   "metadata": {},
   "outputs": [
    {
     "name": "stdout",
     "output_type": "stream",
     "text": [
      "I found a boat at the bank.\n"
     ]
    }
   ],
   "source": [
    "idx = 2\n",
    "print(texts[idx])"
   ]
  },
  {
   "cell_type": "code",
   "execution_count": 8,
   "metadata": {
    "scrolled": false
   },
   "outputs": [
    {
     "name": "stdout",
     "output_type": "stream",
     "text": [
      "TRIPS probability distribution : (max prob is taken if multiple probs found)\n"
     ]
    },
    {
     "data": {
      "text/plain": [
       "[[('UNK1', 1.0)],\n",
       " [(ont::find, 0.11245358444171903),\n",
       "  (ont::becoming-aware, 0.09690496349411738),\n",
       "  (ont::create, 0.07990775813608615),\n",
       "  (ont::determine, 0.07813654956048953),\n",
       "  (ont::change, 0.0686572644455198),\n",
       "  (ont::declare-performative, 0.06684088829847223),\n",
       "  (ont::acquire, 0.06404349644115634),\n",
       "  (ont::retrieve, 0.06246407272024665)],\n",
       " [(ont::length-unit, 0.5), (ont::measure-unit, 0.5)],\n",
       " [(ont::vehicle, 1.0)],\n",
       " [('UNK1', 1.0)],\n",
       " [('UNK1', 1.0)],\n",
       " [(ont::geo-formation, 0.25479920680573653),\n",
       "  (ont::assets, 0.1705654240774585),\n",
       "  (ont::mountain, 0.16348259882408828),\n",
       "  (ont::collection, 0.16013912161918406),\n",
       "  (ont::organization-abstr, 0.12550682433676627),\n",
       "  (ont::organization, 0.12550682433676627)],\n",
       " [('UNK1', 1.0)]]"
      ]
     },
     "metadata": {},
     "output_type": "display_data"
    }
   ],
   "source": [
    "print(\"TRIPS probability distribution : (max prob is taken if multiple probs found)\")\n",
    "display(sent_to_trip_senses(texts[idx], prob=\"combine\", order=\"prob\", param=\"max\"))"
   ]
  },
  {
   "cell_type": "markdown",
   "metadata": {},
   "source": [
    "**Correct**: ont::geo-formation <br>\n",
    "**Predicted**: ont::geo-formation"
   ]
  },
  {
   "cell_type": "markdown",
   "metadata": {},
   "source": [
    "#### Sentence 4"
   ]
  },
  {
   "cell_type": "code",
   "execution_count": 9,
   "metadata": {
    "scrolled": true
   },
   "outputs": [
    {
     "name": "stdout",
     "output_type": "stream",
     "text": [
      "I found a dollar at the bank.\n"
     ]
    }
   ],
   "source": [
    "idx = 3\n",
    "print(texts[idx])"
   ]
  },
  {
   "cell_type": "code",
   "execution_count": 10,
   "metadata": {
    "scrolled": false
   },
   "outputs": [
    {
     "name": "stdout",
     "output_type": "stream",
     "text": [
      "TRIPS probability distribution : (max prob is taken if multiple probs found)\n"
     ]
    },
    {
     "data": {
      "text/plain": [
       "[[('UNK1', 1.0)],\n",
       " [(ont::find, 0.11252629596132782),\n",
       "  (ont::becoming-aware, 0.093793569390116),\n",
       "  (ont::create, 0.07711291422019557),\n",
       "  (ont::determine, 0.07498846684609106),\n",
       "  (ont::change, 0.07099293452790684),\n",
       "  (ont::declare-performative, 0.06683910270634695),\n",
       "  (ont::acquire, 0.06425181613787354),\n",
       "  (ont::retrieve, 0.062809870729844)],\n",
       " [(ont::length-unit, 0.5), (ont::measure-unit, 0.5)],\n",
       " [(ont::money-unit, 0.5356839843108542)],\n",
       " [('UNK1', 1.0)],\n",
       " [('UNK1', 1.0)],\n",
       " [(ont::geo-formation, 0.24357443996067188),\n",
       "  (ont::assets, 0.17131974792185284),\n",
       "  (ont::mountain, 0.1630285466633088),\n",
       "  (ont::collection, 0.1595507775805302),\n",
       "  (ont::organization-abstr, 0.1312632439368182),\n",
       "  (ont::organization, 0.1312632439368182)],\n",
       " [('UNK1', 1.0)]]"
      ]
     },
     "metadata": {},
     "output_type": "display_data"
    }
   ],
   "source": [
    "print(\"TRIPS probability distribution : (max prob is taken if multiple probs found)\")\n",
    "display(sent_to_trip_senses(texts[idx], prob=\"combine\", order=\"prob\", param=\"max\"))"
   ]
  },
  {
   "cell_type": "markdown",
   "metadata": {},
   "source": [
    "**Correct**: ont::organization <br>\n",
    "**Predicted**: ont::geo-formation"
   ]
  },
  {
   "cell_type": "markdown",
   "metadata": {},
   "source": [
    "#### Sentence 5"
   ]
  },
  {
   "cell_type": "code",
   "execution_count": 11,
   "metadata": {},
   "outputs": [
    {
     "name": "stdout",
     "output_type": "stream",
     "text": [
      "I found a fish at the bank.\n"
     ]
    }
   ],
   "source": [
    "idx = 4\n",
    "print(texts[idx])"
   ]
  },
  {
   "cell_type": "code",
   "execution_count": 12,
   "metadata": {
    "scrolled": false
   },
   "outputs": [
    {
     "name": "stdout",
     "output_type": "stream",
     "text": [
      "TRIPS probability distribution : (max prob is taken if multiple probs found)\n"
     ]
    },
    {
     "data": {
      "text/plain": [
       "[[('UNK1', 1.0)],\n",
       " [(ont::find, 0.12037732058162075),\n",
       "  (ont::becoming-aware, 0.09142627949891703),\n",
       "  (ont::determine, 0.07779746517971231),\n",
       "  (ont::create, 0.07672314939454411),\n",
       "  (ont::declare-performative, 0.06835660088154114),\n",
       "  (ont::change, 0.06570897762257964),\n",
       "  (ont::acquire, 0.06418351052483179),\n",
       "  (ont::retrieve, 0.06234595027365043)],\n",
       " [(ont::length-unit, 0.5), (ont::measure-unit, 0.5)],\n",
       " [(ont::food, 0.33811578020417415),\n",
       "  (ont::fish, 0.3343519541547918),\n",
       "  (ont::person, 0.32753226564103394)],\n",
       " [('UNK1', 1.0)],\n",
       " [('UNK1', 1.0)],\n",
       " [(ont::geo-formation, 0.24767454701348718),\n",
       "  (ont::assets, 0.17178241689202434),\n",
       "  (ont::mountain, 0.16445856801187883),\n",
       "  (ont::collection, 0.1604181942758879),\n",
       "  (ont::organization-abstr, 0.12783313690336087),\n",
       "  (ont::organization, 0.12783313690336087)],\n",
       " [('UNK1', 1.0)]]"
      ]
     },
     "metadata": {},
     "output_type": "display_data"
    }
   ],
   "source": [
    "print(\"TRIPS probability distribution : (max prob is taken if multiple probs found)\")\n",
    "display(sent_to_trip_senses(texts[idx], prob=\"combine\", order=\"prob\", param=\"max\"))"
   ]
  },
  {
   "cell_type": "markdown",
   "metadata": {},
   "source": [
    "**Correct**: ont::geo-formation <br>\n",
    "**Predicted**: ont::geo-formation"
   ]
  },
  {
   "cell_type": "markdown",
   "metadata": {},
   "source": [
    "### WORD to be disambiugated: HIT"
   ]
  },
  {
   "cell_type": "markdown",
   "metadata": {},
   "source": [
    "#### Sentence 6"
   ]
  },
  {
   "cell_type": "code",
   "execution_count": 13,
   "metadata": {},
   "outputs": [
    {
     "name": "stdout",
     "output_type": "stream",
     "text": [
      "The car hit the bus.\n"
     ]
    }
   ],
   "source": [
    "idx = 5\n",
    "print(texts[idx])"
   ]
  },
  {
   "cell_type": "code",
   "execution_count": 14,
   "metadata": {
    "scrolled": true
   },
   "outputs": [
    {
     "name": "stdout",
     "output_type": "stream",
     "text": [
      "TRIPS probability distribution : (max prob is taken if multiple probs found)\n"
     ]
    },
    {
     "data": {
      "text/plain": [
       "[[('UNK1', 1.0)],\n",
       " [(ont::land-vehicle, 0.5368289746713947),\n",
       "  (ont::cell-compartment, 0.2269390090597744)],\n",
       " [(ont::touch, 0.11150409427676958),\n",
       "  (ont::change, 0.08906610379073356),\n",
       "  (ont::arrive, 0.0874618767894344),\n",
       "  (ont::evoke-injury, 0.08635276717242853),\n",
       "  (ont::hitting, 0.0859967736282921),\n",
       "  (ont::affect-experiencer, 0.08546717884883379),\n",
       "  (ont::attack, 0.08452608782703594),\n",
       "  (ont::acquire, 0.08259924765722312),\n",
       "  (ont::collide, 0.061849488043740436),\n",
       "  (ont::complete, 0.0422583443948868)],\n",
       " [('UNK1', 1.0)],\n",
       " [(ont::vehicle, 1.0)],\n",
       " [('UNK1', 1.0)]]"
      ]
     },
     "metadata": {},
     "output_type": "display_data"
    }
   ],
   "source": [
    "print(\"TRIPS probability distribution : (max prob is taken if multiple probs found)\")\n",
    "display(sent_to_trip_senses(texts[idx], prob=\"combine\", order=\"prob\", param=\"max\"))\n",
    "\n"
   ]
  },
  {
   "cell_type": "markdown",
   "metadata": {},
   "source": [
    "**Correct**: ont::collide <br>\n",
    "**Predicted**: ont::touch"
   ]
  },
  {
   "cell_type": "markdown",
   "metadata": {},
   "source": [
    "#### Sentence 7"
   ]
  },
  {
   "cell_type": "code",
   "execution_count": 15,
   "metadata": {},
   "outputs": [
    {
     "name": "stdout",
     "output_type": "stream",
     "text": [
      "That song was his first hit.\n"
     ]
    }
   ],
   "source": [
    "idx = 6\n",
    "print(texts[idx])"
   ]
  },
  {
   "cell_type": "code",
   "execution_count": 16,
   "metadata": {
    "scrolled": false
   },
   "outputs": [
    {
     "name": "stdout",
     "output_type": "stream",
     "text": [
      "TRIPS probability distribution : (max prob is taken if multiple probs found)\n"
     ]
    },
    {
     "data": {
      "text/plain": [
       "[[('UNK1', 1.0)],\n",
       " [(ont::music, 0.44831363324647094),\n",
       "  (ont::nonverbal-say, 0.27906310543105306),\n",
       "  (ont::activity, 0.27262326132247594)],\n",
       " [(ont::be, 0.1469998436653258),\n",
       "  (ont::have-property, 0.14417130251578855),\n",
       "  (ont::represent, 0.08131333570330487),\n",
       "  (ont::exists, 0.07991804374606462),\n",
       "  (ont::costs, 0.0753222471065545),\n",
       "  (ont::take-time, 0.07261492499605796)],\n",
       " [('UNK1', 1.0)],\n",
       " [(ont::first-val, 0.35850828917266037), ('UNK2', 0.16766768379186964)],\n",
       " [(ont::activity-event, 0.40325606150204935), (ont::touch, 0.306776167012829)],\n",
       " [('UNK1', 1.0)]]"
      ]
     },
     "metadata": {},
     "output_type": "display_data"
    }
   ],
   "source": [
    "print(\"TRIPS probability distribution : (max prob is taken if multiple probs found)\")\n",
    "display(sent_to_trip_senses(texts[idx], prob=\"combine\", order=\"prob\", param=\"max\"))"
   ]
  },
  {
   "cell_type": "markdown",
   "metadata": {},
   "source": [
    "**Correct**: ont::activity-event <br>\n",
    "**Predicted**: ont::activity-event"
   ]
  },
  {
   "cell_type": "markdown",
   "metadata": {},
   "source": [
    "### WORD to be disambiugated: BAT"
   ]
  },
  {
   "cell_type": "markdown",
   "metadata": {},
   "source": [
    "#### Sentence 8"
   ]
  },
  {
   "cell_type": "code",
   "execution_count": 17,
   "metadata": {},
   "outputs": [
    {
     "name": "stdout",
     "output_type": "stream",
     "text": [
      "The bat ate the fruit.\n"
     ]
    }
   ],
   "source": [
    "idx = 7\n",
    "print(texts[idx])"
   ]
  },
  {
   "cell_type": "code",
   "execution_count": 18,
   "metadata": {
    "scrolled": true
   },
   "outputs": [
    {
     "name": "stdout",
     "output_type": "stream",
     "text": [
      "TRIPS probability distribution : (max prob is taken if multiple probs found)\n"
     ]
    },
    {
     "data": {
      "text/plain": [
       "[[('UNK1', 1.0)],\n",
       " [(ont::action-defined-by-game, 0.5000690775672137),\n",
       "  (ont::mammal, 0.49993092243278614)],\n",
       " [(ont::consume, 0.35449436184497773)],\n",
       " [('UNK1', 1.0)],\n",
       " [(ont::plant-part, 0.39379334270330063),\n",
       "  (ont::manufactured-object, 0.31075240618818695),\n",
       "  (ont::occurring, 0.2954542511085125)],\n",
       " [('UNK1', 1.0)]]"
      ]
     },
     "metadata": {},
     "output_type": "display_data"
    }
   ],
   "source": [
    "print(\"TRIPS probability distribution : (max prob is taken if multiple probs found)\")\n",
    "display(sent_to_trip_senses(texts[idx], prob=\"combine\", order=\"prob\", param=\"max\"))"
   ]
  },
  {
   "cell_type": "markdown",
   "metadata": {},
   "source": [
    "**Correct**: ont::mammal <br>\n",
    "**Predicted**: ont::action-defined-by-game,"
   ]
  },
  {
   "cell_type": "markdown",
   "metadata": {},
   "source": [
    "#### Sentence 9"
   ]
  },
  {
   "cell_type": "code",
   "execution_count": 19,
   "metadata": {},
   "outputs": [
    {
     "name": "stdout",
     "output_type": "stream",
     "text": [
      "Bats sleep in the afternoon.\n"
     ]
    }
   ],
   "source": [
    "idx = 8\n",
    "print(texts[idx])"
   ]
  },
  {
   "cell_type": "code",
   "execution_count": 20,
   "metadata": {
    "scrolled": true
   },
   "outputs": [
    {
     "name": "stdout",
     "output_type": "stream",
     "text": [
      "TRIPS probability distribution : (max prob is taken if multiple probs found)\n"
     ]
    },
    {
     "data": {
      "text/plain": [
       "[[(ont::mammal, 0.5025490820457088),\n",
       "  (ont::action-defined-by-game, 0.4974509179542912)],\n",
       " [(ont::status, 1.0)],\n",
       " [('UNK2', 1.0)],\n",
       " [('UNK1', 1.0)],\n",
       " [(ont::day-stage, 0.5902282350704642), (ont::content, 0.4097717649295358)],\n",
       " [('UNK1', 1.0)]]"
      ]
     },
     "metadata": {},
     "output_type": "display_data"
    }
   ],
   "source": [
    "print(\"TRIPS probability distribution : (max prob is taken if multiple probs found)\")\n",
    "display(sent_to_trip_senses(texts[idx], prob=\"combine\", order=\"prob\", param=\"max\"))"
   ]
  },
  {
   "cell_type": "markdown",
   "metadata": {},
   "source": [
    "**Correct**: ont::mammal <br>\n",
    "**Predicted**: ont::mammal,"
   ]
  },
  {
   "cell_type": "markdown",
   "metadata": {},
   "source": [
    "#### Sentence 10"
   ]
  },
  {
   "cell_type": "code",
   "execution_count": 21,
   "metadata": {},
   "outputs": [
    {
     "name": "stdout",
     "output_type": "stream",
     "text": [
      "The bat was sleeping on a tree.\n"
     ]
    }
   ],
   "source": [
    "idx = 9\n",
    "print(texts[idx])"
   ]
  },
  {
   "cell_type": "code",
   "execution_count": 22,
   "metadata": {
    "scrolled": true
   },
   "outputs": [
    {
     "name": "stdout",
     "output_type": "stream",
     "text": [
      "TRIPS probability distribution : (max prob is taken if multiple probs found)\n"
     ]
    },
    {
     "data": {
      "text/plain": [
       "[[('UNK1', 1.0)],\n",
       " [(ont::mammal, 0.5012019055841174),\n",
       "  (ont::action-defined-by-game, 0.4987980944158826)],\n",
       " [(ont::have-property, 0.153432175317218),\n",
       "  (ont::be, 0.08833384389063302),\n",
       "  (ont::exists, 0.08278112852482603),\n",
       "  (ont::costs, 0.07993282486151723),\n",
       "  (ont::take-time, 0.0768928357280372),\n",
       "  (ont::represent, 0.06299880649505771)],\n",
       " [(ont::bodily-process, 1.0)],\n",
       " [('UNK2', 0.3792849521397992)],\n",
       " [(ont::length-unit, 0.5), (ont::measure-unit, 0.5)],\n",
       " [(ont::plant, 1.0)],\n",
       " [('UNK1', 1.0)]]"
      ]
     },
     "metadata": {},
     "output_type": "display_data"
    }
   ],
   "source": [
    "print(\"TRIPS probability distribution : (max prob is taken if multiple probs found)\")\n",
    "display(sent_to_trip_senses(texts[idx], prob=\"combine\", order=\"prob\", param=\"max\"))"
   ]
  },
  {
   "cell_type": "markdown",
   "metadata": {},
   "source": [
    "**Correct**: ont::mammal <br>\n",
    "**Predicted**: ont::mammal,"
   ]
  },
  {
   "cell_type": "markdown",
   "metadata": {},
   "source": [
    "#### Sentence 11"
   ]
  },
  {
   "cell_type": "code",
   "execution_count": 23,
   "metadata": {},
   "outputs": [
    {
     "name": "stdout",
     "output_type": "stream",
     "text": [
      "The bat slept in the afternoon.\n"
     ]
    }
   ],
   "source": [
    "idx = 10\n",
    "print(texts[idx])"
   ]
  },
  {
   "cell_type": "code",
   "execution_count": 24,
   "metadata": {
    "scrolled": true
   },
   "outputs": [
    {
     "name": "stdout",
     "output_type": "stream",
     "text": [
      "TRIPS probability distribution : (max prob is taken if multiple probs found)\n"
     ]
    },
    {
     "data": {
      "text/plain": [
       "[[('UNK1', 1.0)],\n",
       " [(ont::action-defined-by-game, 0.5000690775672137),\n",
       "  (ont::mammal, 0.49993092243278614)],\n",
       " [(ont::bodily-process, 1.0)],\n",
       " [('UNK1', 1.0)],\n",
       " [(ont::day-stage, 0.5815634653810868), (ont::content, 0.41843653461891317)],\n",
       " [('UNK1', 1.0)]]"
      ]
     },
     "metadata": {},
     "output_type": "display_data"
    }
   ],
   "source": [
    "print(\"TRIPS probability distribution : (max prob is taken if multiple probs found)\")\n",
    "display(sent_to_trip_senses(texts[idx], prob=\"combine\", order=\"prob\", param=\"max\"))"
   ]
  },
  {
   "cell_type": "markdown",
   "metadata": {},
   "source": [
    "**Correct**: ont::mammal <br>\n",
    "**Predicted**: ont::action-defined-by-game,"
   ]
  },
  {
   "cell_type": "markdown",
   "metadata": {},
   "source": [
    "#### Sentence 12"
   ]
  },
  {
   "cell_type": "code",
   "execution_count": 25,
   "metadata": {},
   "outputs": [
    {
     "name": "stdout",
     "output_type": "stream",
     "text": [
      "Sachin hit the ball with the bat.\n"
     ]
    }
   ],
   "source": [
    "idx = 11\n",
    "print(texts[idx])"
   ]
  },
  {
   "cell_type": "code",
   "execution_count": 26,
   "metadata": {
    "scrolled": false
   },
   "outputs": [
    {
     "name": "stdout",
     "output_type": "stream",
     "text": [
      "TRIPS probability distribution : (max prob is taken if multiple probs found)\n"
     ]
    },
    {
     "data": {
      "text/plain": [
       "[[('UNK1', 1.0)],\n",
       " [(ont::touch, 0.123431481135553),\n",
       "  (ont::hitting, 0.11545343775235896),\n",
       "  (ont::arrive, 0.09272771770473467),\n",
       "  (ont::evoke-injury, 0.08603080874768965),\n",
       "  (ont::attack, 0.08318433203441691),\n",
       "  (ont::change, 0.0816810415097208),\n",
       "  (ont::acquire, 0.08122497861058027),\n",
       "  (ont::affect-experiencer, 0.07961640125830635),\n",
       "  (ont::collide, 0.04827441499230697),\n",
       "  (ont::complete, 0.04141138334523513)],\n",
       " [('UNK1', 1.0)],\n",
       " [(ont::equipment, 0.2857765890634852),\n",
       "  (ont::domain, 0.14884308035556637),\n",
       "  (ont::weapon, 0.14184025205065),\n",
       "  (ont::manufactured-object, 0.14103545319793198),\n",
       "  (ont::body-part, 0.13888970837702305),\n",
       "  (ont::social-group, 0.07180745847767167),\n",
       "  (ont::social-group-abstr, 0.07180745847767167)],\n",
       " [('UNK1', 1.0)],\n",
       " [('UNK1', 1.0)],\n",
       " [(ont::action-defined-by-game, 0.5014023349119671),\n",
       "  (ont::mammal, 0.4985976650880329)],\n",
       " [('UNK1', 1.0)]]"
      ]
     },
     "metadata": {},
     "output_type": "display_data"
    }
   ],
   "source": [
    "print(\"TRIPS probability distribution : (max prob is taken if multiple probs found)\")\n",
    "display(sent_to_trip_senses(texts[idx], prob=\"combine\", order=\"prob\", param=\"max\"))"
   ]
  },
  {
   "cell_type": "markdown",
   "metadata": {},
   "source": [
    "**Correct**: ont::manufactured-object <br>\n",
    "**Predicted**: ont::action-defined-by-game,"
   ]
  },
  {
   "cell_type": "markdown",
   "metadata": {},
   "source": [
    "### WORD to be disambiugated: KILL"
   ]
  },
  {
   "cell_type": "markdown",
   "metadata": {},
   "source": [
    "#### Sentence 13"
   ]
  },
  {
   "cell_type": "code",
   "execution_count": 27,
   "metadata": {},
   "outputs": [
    {
     "name": "stdout",
     "output_type": "stream",
     "text": [
      "The engineer killed the program.\n"
     ]
    }
   ],
   "source": [
    "idx = 12\n",
    "print(texts[idx])"
   ]
  },
  {
   "cell_type": "code",
   "execution_count": 28,
   "metadata": {
    "scrolled": false
   },
   "outputs": [
    {
     "name": "stdout",
     "output_type": "stream",
     "text": [
      "TRIPS probability distribution : (max prob is taken if multiple probs found)\n"
     ]
    },
    {
     "data": {
      "text/plain": [
       "[[('UNK1', 1.0)],\n",
       " [(ont::person, 1.0)],\n",
       " [(ont::kill, 0.26608563761080356),\n",
       "  (ont::stop, 0.22281657756428833),\n",
       "  (ont::refute, 0.1731412346488218),\n",
       "  (ont::cause-come-from, 0.16857335204852822)],\n",
       " [('UNK1', 1.0)],\n",
       " [(ont::planning, 0.22997370317867172),\n",
       "  (ont::method, 0.21194476119578357),\n",
       "  (ont::information, 0.15728697030487637),\n",
       "  (ont::computer-program, 0.13514318005660114),\n",
       "  (ont::event-defined-by-activity, 0.13319399702289206),\n",
       "  (ont::official-document, 0.13245738824117514)],\n",
       " [('UNK1', 1.0)]]"
      ]
     },
     "metadata": {},
     "output_type": "display_data"
    }
   ],
   "source": [
    "print(\"TRIPS probability distribution : (max prob is taken if multiple probs found)\")\n",
    "display(sent_to_trip_senses(texts[idx], prob=\"combine\", order=\"prob\", param=\"max\"))"
   ]
  },
  {
   "cell_type": "markdown",
   "metadata": {},
   "source": [
    "**Correct**: ont::stop <br>\n",
    "**Predicted**: ont::kill,"
   ]
  },
  {
   "cell_type": "markdown",
   "metadata": {},
   "source": [
    "#### Sentence 14"
   ]
  },
  {
   "cell_type": "code",
   "execution_count": 29,
   "metadata": {},
   "outputs": [
    {
     "name": "stdout",
     "output_type": "stream",
     "text": [
      "The suspect was found guilty of killing the man.\n"
     ]
    }
   ],
   "source": [
    "idx = 13\n",
    "print(texts[idx])"
   ]
  },
  {
   "cell_type": "code",
   "execution_count": 30,
   "metadata": {
    "scrolled": false
   },
   "outputs": [
    {
     "name": "stdout",
     "output_type": "stream",
     "text": [
      "TRIPS probability distribution : (max prob is taken if multiple probs found)\n"
     ]
    },
    {
     "data": {
      "text/plain": [
       "[[('UNK1', 1.0)],\n",
       " [(ont::person, 1.0)],\n",
       " [(ont::have-property, 0.24783179998915195),\n",
       "  (ont::be, 0.08437557597318658),\n",
       "  (ont::take-time, 0.0792603699798861),\n",
       "  (ont::costs, 0.07825576393069979),\n",
       "  (ont::exists, 0.07804432907720678),\n",
       "  (ont::represent, 0.06860219794337467)],\n",
       " [(ont::declare-performative, 0.1529288385243455),\n",
       "  (ont::becoming-aware, 0.09361056001655421),\n",
       "  (ont::find, 0.07243163750314296),\n",
       "  (ont::acquire, 0.06960563182433087),\n",
       "  (ont::retrieve, 0.06729671072216406),\n",
       "  (ont::change, 0.06722742672947275),\n",
       "  (ont::determine, 0.06708039923465417),\n",
       "  (ont::create, 0.06607400022852661)],\n",
       " [('UNK2', 0.5509549375101377)],\n",
       " [('UNK1', 1.0)],\n",
       " [(ont::kill, 0.2610929902600729),\n",
       "  (ont::stop, 0.23046435002365828),\n",
       "  (ont::cause-come-from, 0.17666143918937835),\n",
       "  (ont::refute, 0.1746347152977468)],\n",
       " [('UNK1', 1.0)],\n",
       " [(ont::male-person, 0.2118200608070778),\n",
       "  (ont::person, 0.20127431501821044),\n",
       "  (ont::mammal, 0.12501934887838048),\n",
       "  (ont::assistant, 0.11008039298188031)],\n",
       " [('UNK1', 1.0)]]"
      ]
     },
     "metadata": {},
     "output_type": "display_data"
    }
   ],
   "source": [
    "print(\"TRIPS probability distribution : (max prob is taken if multiple probs found)\")\n",
    "display(sent_to_trip_senses(texts[idx], prob=\"combine\", order=\"prob\", param=\"max\"))"
   ]
  },
  {
   "cell_type": "markdown",
   "metadata": {},
   "source": [
    "**Correct**: ont::kill <br>\n",
    "**Predicted**: ont::kill,"
   ]
  },
  {
   "cell_type": "markdown",
   "metadata": {},
   "source": [
    "#### Sentence 15"
   ]
  },
  {
   "cell_type": "code",
   "execution_count": 31,
   "metadata": {},
   "outputs": [
    {
     "name": "stdout",
     "output_type": "stream",
     "text": [
      "These new shoes are killing me.\n"
     ]
    }
   ],
   "source": [
    "idx = 14\n",
    "print(texts[idx])"
   ]
  },
  {
   "cell_type": "code",
   "execution_count": 32,
   "metadata": {
    "scrolled": false
   },
   "outputs": [
    {
     "name": "stdout",
     "output_type": "stream",
     "text": [
      "TRIPS probability distribution : (max prob is taken if multiple probs found)\n"
     ]
    },
    {
     "data": {
      "text/plain": [
       "[[('UNK1', 1.0)],\n",
       " [(ont::fresh-val, 0.3404873031960277),\n",
       "  (ont::novelty-val, 0.15254446855286005),\n",
       "  ('UNK2', 0.13900598531880584)],\n",
       " [(ont::covering, 1.0)],\n",
       " [(ont::have-property, 0.11450231524784871),\n",
       "  (ont::be, 0.10525826375211204),\n",
       "  (ont::exists, 0.08646285547400877),\n",
       "  (ont::take-time, 0.08081929003578263),\n",
       "  (ont::costs, 0.07996067138947592),\n",
       "  (ont::represent, 0.06913116524919646)],\n",
       " [(ont::kill, 0.2782243611234427),\n",
       "  (ont::stop, 0.2038481727342458),\n",
       "  (ont::refute, 0.17469058061070675),\n",
       "  (ont::cause-come-from, 0.17292825946703644)],\n",
       " [('UNK1', 1.0)],\n",
       " [('UNK1', 1.0)]]"
      ]
     },
     "metadata": {},
     "output_type": "display_data"
    }
   ],
   "source": [
    "print(\"TRIPS probability distribution : (max prob is taken if multiple probs found)\")\n",
    "display(sent_to_trip_senses(texts[idx], prob=\"combine\", order=\"prob\", param=\"max\"))"
   ]
  },
  {
   "cell_type": "markdown",
   "metadata": {},
   "source": [
    "**Correct**: (unknown)<br>  \n",
    "**Predicted**: ont::kill,"
   ]
  },
  {
   "cell_type": "markdown",
   "metadata": {},
   "source": [
    "### WORD to be disambiugated: RUN"
   ]
  },
  {
   "cell_type": "markdown",
   "metadata": {},
   "source": [
    "#### Sentence 16"
   ]
  },
  {
   "cell_type": "code",
   "execution_count": 33,
   "metadata": {},
   "outputs": [
    {
     "name": "stdout",
     "output_type": "stream",
     "text": [
      "Sachin scored 3 runs in that inning.\n"
     ]
    }
   ],
   "source": [
    "idx = 15\n",
    "print(texts[idx])"
   ]
  },
  {
   "cell_type": "code",
   "execution_count": 34,
   "metadata": {
    "scrolled": false
   },
   "outputs": [
    {
     "name": "stdout",
     "output_type": "stream",
     "text": [
      "TRIPS probability distribution : (max prob is taken if multiple probs found)\n"
     ]
    },
    {
     "data": {
      "text/plain": [
       "[[('UNK1', 1.0)],\n",
       " [(ont::acquire, 0.37971927205537176),\n",
       "  (ont::separation, 0.3427915817397145),\n",
       "  (ont::retain, 0.2774891462049137)],\n",
       " [(ont::measure-scale, 0.3333333333333333),\n",
       "  (ont::quantity, 0.3333333333333333),\n",
       "  (ont::quantity-abstr, 0.3333333333333333)],\n",
       " [(ont::activity-event, 0.1695151143063909),\n",
       "  (ont::try, 0.1477821205671119),\n",
       "  (ont::planning, 0.13649841472219568),\n",
       "  (ont::trip, 0.13529209387608268),\n",
       "  (ont::competition, 0.1339157889585295),\n",
       "  (ont::change, 0.13343686059232965),\n",
       "  (ont::sequence, 0.07177980348867982),\n",
       "  (ont::sequence-abstr, 0.07177980348867982)],\n",
       " [('UNK2', 1.0)],\n",
       " [(ont::part, 1.0)],\n",
       " [('UNK1', 1.0)]]"
      ]
     },
     "metadata": {},
     "output_type": "display_data"
    }
   ],
   "source": [
    "print(\"TRIPS probability distribution : (max prob is taken if multiple probs found)\")\n",
    "display(sent_to_trip_senses(texts[idx], prob=\"combine\", order=\"prob\", param=\"max\"))"
   ]
  },
  {
   "cell_type": "markdown",
   "metadata": {},
   "source": [
    "**Correct**: (unknown)<br>  \n",
    "**Predicted**: ont::activity-event"
   ]
  },
  {
   "cell_type": "markdown",
   "metadata": {},
   "source": [
    "#### Sentence 17"
   ]
  },
  {
   "cell_type": "code",
   "execution_count": 35,
   "metadata": {},
   "outputs": [
    {
     "name": "stdout",
     "output_type": "stream",
     "text": [
      "Jon broke the record for the 10 mile run.\n"
     ]
    }
   ],
   "source": [
    "idx = 16\n",
    "print(texts[idx])"
   ]
  },
  {
   "cell_type": "code",
   "execution_count": 36,
   "metadata": {
    "scrolled": false
   },
   "outputs": [
    {
     "name": "stdout",
     "output_type": "stream",
     "text": [
      "TRIPS probability distribution : (max prob is taken if multiple probs found)\n"
     ]
    },
    {
     "data": {
      "text/plain": [
       "[[('UNK1', 1.0)],\n",
       " [(ont::stop, 0.053802595693238975),\n",
       "  (ont::damage, 0.04413785211656588),\n",
       "  (ont::break-object, 0.0426378693651658),\n",
       "  (ont::overcome, 0.04255824678547393),\n",
       "  (ont::destroy, 0.041462903400673136),\n",
       "  (ont::transgress, 0.0413552438412622),\n",
       "  (ont::evoke-compliance, 0.03996115241166618),\n",
       "  (ont::depart, 0.03974483169529039),\n",
       "  (ont::reveal, 0.03950602887613752),\n",
       "  (ont::disperse, 0.03856612317284331),\n",
       "  (ont::nonverbal-expression, 0.03848197643320237),\n",
       "  (ont::change, 0.038368003859375374),\n",
       "  (ont::collapse, 0.03825841199154063),\n",
       "  (ont::separation, 0.03796294026611041),\n",
       "  (ont::evoke-injury, 0.037888174682801215),\n",
       "  (ont::pause, 0.037492891312872874),\n",
       "  (ont::render-ineffective, 0.03728802191580567),\n",
       "  (ont::occurring, 0.03664471691819772),\n",
       "  (ont::hindering, 0.02028719864599455),\n",
       "  (ont::prevent, 0.02028719864599455)],\n",
       " [('UNK1', 1.0)],\n",
       " [(ont::activity-event, 0.16391855559797996),\n",
       "  (ont::information, 0.12250531376296792),\n",
       "  (ont::device, 0.11185460125862748),\n",
       "  (ont::document, 0.10790989139612601),\n",
       "  (ont::information-function-object, 0.10381720362896563),\n",
       "  (ont::measure-scale, 0.03939700604616848),\n",
       "  (ont::quantity, 0.03939700604616848),\n",
       "  (ont::quantity-abstr, 0.03939700604616848)],\n",
       " [('UNK1', 1.0)],\n",
       " [('UNK1', 1.0)],\n",
       " [(ont::measure-scale, 0.3333333333333333),\n",
       "  (ont::quantity, 0.3333333333333333),\n",
       "  (ont::quantity-abstr, 0.3333333333333333)],\n",
       " [(ont::length-unit, 0.5298874739033633)],\n",
       " [(ont::change, 0.16276192849459475),\n",
       "  (ont::try, 0.15817433251295943),\n",
       "  (ont::trip, 0.1528556900891418),\n",
       "  (ont::competition, 0.1488371011342284),\n",
       "  (ont::activity-event, 0.1266105289828421),\n",
       "  (ont::planning, 0.12648527195181172),\n",
       "  (ont::sequence, 0.062137573417210955),\n",
       "  (ont::sequence-abstr, 0.062137573417210955)],\n",
       " [('UNK1', 1.0)]]"
      ]
     },
     "metadata": {},
     "output_type": "display_data"
    }
   ],
   "source": [
    "print(\"TRIPS probability distribution : (max prob is taken if multiple probs found)\")\n",
    "display(sent_to_trip_senses(texts[idx], prob=\"combine\", order=\"prob\", param=\"max\"))"
   ]
  },
  {
   "cell_type": "markdown",
   "metadata": {},
   "source": [
    "**Correct**: ont::competition, ont::activity-event<br>  \n",
    "**Predicted**: ont::change"
   ]
  },
  {
   "cell_type": "markdown",
   "metadata": {},
   "source": [
    "#### Sentence 19"
   ]
  },
  {
   "cell_type": "code",
   "execution_count": 37,
   "metadata": {},
   "outputs": [
    {
     "name": "stdout",
     "output_type": "stream",
     "text": [
      "The movie runs 5 hours.\n"
     ]
    }
   ],
   "source": [
    "idx = 18\n",
    "print(texts[idx])"
   ]
  },
  {
   "cell_type": "code",
   "execution_count": 38,
   "metadata": {
    "scrolled": false
   },
   "outputs": [
    {
     "name": "stdout",
     "output_type": "stream",
     "text": [
      "TRIPS probability distribution : (max prob is taken if multiple probs found)\n"
     ]
    },
    {
     "data": {
      "text/plain": [
       "[[('UNK1', 1.0)],\n",
       " [(ont::manufactured-object, 0.5), (ont::event-defined-by-activity, 0.5)],\n",
       " [(ont::fluidic-motion, 0.03693111065128126),\n",
       "  (ont::execute, 0.03471039641586156),\n",
       "  (ont::encodes-message, 0.0342398097339894),\n",
       "  (ont::depart, 0.03391606839725136),\n",
       "  (ont::be-inclined, 0.03317443151303789),\n",
       "  (ont::have-property, 0.032837939929693964),\n",
       "  (ont::move, 0.03249416829965342),\n",
       "  (ont::tell, 0.032470744388718026),\n",
       "  (ont::disperse, 0.032373815703610906),\n",
       "  (ont::nature-change, 0.0323697330017901),\n",
       "  (ont::commerce-sell, 0.03234083213700388),\n",
       "  (ont::compete, 0.032258063538409355),\n",
       "  (ont::function, 0.03213927797958762),\n",
       "  (ont::ride, 0.031733704465119604),\n",
       "  (ont::provoke, 0.0309684770796384),\n",
       "  (ont::pass, 0.030847553748318064),\n",
       "  (ont::appear, 0.029764775262631046),\n",
       "  (ont::span, 0.028395687985964473),\n",
       "  (ont::move-rapidly, 0.02778197380568154),\n",
       "  (ont::guiding, 0.023532883451115642),\n",
       "  (ont::control-manage, 0.023532883451115642),\n",
       "  (ont::send, 0.015979837812201626),\n",
       "  (ont::sendcopy, 0.015979837812201626),\n",
       "  (ont::acquire, 0.01596905530444393),\n",
       "  (ont::complete, 0.01596905530444393),\n",
       "  (ont::become, 0.014815051990008918),\n",
       "  (ont::cause-effect, 0.014815051990008918)],\n",
       " [(ont::measure-scale, 0.3333333333333333),\n",
       "  (ont::quantity, 0.3333333333333333),\n",
       "  (ont::quantity-abstr, 0.3333333333333333)],\n",
       " [(ont::time-unit, 0.528232352685906),\n",
       "  (ont::time-interval, 0.23700212534843243),\n",
       "  (ont::distance-scale, 0.23476552196566167)],\n",
       " [('UNK1', 1.0)]]"
      ]
     },
     "metadata": {},
     "output_type": "display_data"
    }
   ],
   "source": [
    "print(\"TRIPS probability distribution : (max prob is taken if multiple probs found)\")\n",
    "display(sent_to_trip_senses(texts[idx], prob=\"combine\", order=\"prob\", param=\"max\"))"
   ]
  },
  {
   "cell_type": "markdown",
   "metadata": {},
   "source": [
    "**Correct**: ont::span <br>  \n",
    "**Predicted**: ont::fluidic-motion"
   ]
  },
  {
   "cell_type": "markdown",
   "metadata": {},
   "source": [
    "#### Sentence 20"
   ]
  },
  {
   "cell_type": "code",
   "execution_count": 39,
   "metadata": {},
   "outputs": [
    {
     "name": "stdout",
     "output_type": "stream",
     "text": [
      "My code ran for three hours on the Mac.\n"
     ]
    }
   ],
   "source": [
    "idx = 19\n",
    "print(texts[idx])"
   ]
  },
  {
   "cell_type": "code",
   "execution_count": 40,
   "metadata": {
    "scrolled": false
   },
   "outputs": [
    {
     "name": "stdout",
     "output_type": "stream",
     "text": [
      "TRIPS probability distribution : (max prob is taken if multiple probs found)\n"
     ]
    },
    {
     "data": {
      "text/plain": [
       "[[('UNK1', 1.0)],\n",
       " [(ont::info-medium, 0.5166080270612995)],\n",
       " [(ont::move-rapidly, 0.04814573075599009),\n",
       "  (ont::compete, 0.04005435002036278),\n",
       "  (ont::have-property, 0.03645332061294153),\n",
       "  (ont::encodes-message, 0.034322480104461706),\n",
       "  (ont::fluidic-motion, 0.03288180545467279),\n",
       "  (ont::execute, 0.03266344988967687),\n",
       "  (ont::tell, 0.03251698104091181),\n",
       "  (ont::ride, 0.032284830616170136),\n",
       "  (ont::pass, 0.03197264097745891),\n",
       "  (ont::be-inclined, 0.03188186261183761),\n",
       "  (ont::commerce-sell, 0.03186111727589379),\n",
       "  (ont::depart, 0.03166135454150385),\n",
       "  (ont::disperse, 0.03160338212539863),\n",
       "  (ont::move, 0.03136017824094797),\n",
       "  (ont::nature-change, 0.030995497339054205),\n",
       "  (ont::provoke, 0.030761502503609567),\n",
       "  (ont::span, 0.03055150268223293),\n",
       "  (ont::function, 0.030211233933810734),\n",
       "  (ont::appear, 0.02979853427727535),\n",
       "  (ont::acquire, 0.015888518416629263),\n",
       "  (ont::complete, 0.015888518416629263),\n",
       "  (ont::send, 0.015798974724663045),\n",
       "  (ont::sendcopy, 0.015798974724663045),\n",
       "  (ont::become, 0.014757589764053813),\n",
       "  (ont::cause-effect, 0.014757589764053813),\n",
       "  (ont::guiding, 0.013442694988575667),\n",
       "  (ont::control-manage, 0.013442694988575667)],\n",
       " [('UNK1', 1.0)],\n",
       " [(ont::measure-scale, 0.3333333333333333),\n",
       "  (ont::quantity, 0.3333333333333333),\n",
       "  (ont::quantity-abstr, 0.3333333333333333)],\n",
       " [(ont::time-unit, 0.5652780482639411),\n",
       "  (ont::distance-scale, 0.23218552651410207),\n",
       "  (ont::time-interval, 0.20253642522195686)],\n",
       " [('UNK2', 0.38138332296409305)],\n",
       " [('UNK1', 1.0)],\n",
       " [('UNK1', 1.0)],\n",
       " [('UNK1', 1.0)]]"
      ]
     },
     "metadata": {},
     "output_type": "display_data"
    }
   ],
   "source": [
    "print(\"TRIPS probability distribution : (max prob is taken if multiple probs found)\")\n",
    "display(sent_to_trip_senses(texts[idx], prob=\"combine\", order=\"prob\", param=\"max\"))"
   ]
  },
  {
   "cell_type": "markdown",
   "metadata": {},
   "source": [
    "**Correct**: ont::execute <br>  \n",
    "**Predicted**: ont::move-rapidly"
   ]
  }
 ],
 "metadata": {
  "kernelspec": {
   "display_name": "Python 3",
   "language": "python",
   "name": "python3"
  },
  "language_info": {
   "codemirror_mode": {
    "name": "ipython",
    "version": 3
   },
   "file_extension": ".py",
   "mimetype": "text/x-python",
   "name": "python",
   "nbconvert_exporter": "python",
   "pygments_lexer": "ipython3",
   "version": "3.6.5"
  }
 },
 "nbformat": 4,
 "nbformat_minor": 2
}
