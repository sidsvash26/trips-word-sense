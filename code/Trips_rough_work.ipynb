{
 "cells": [
  {
   "cell_type": "code",
   "execution_count": 1,
   "metadata": {},
   "outputs": [],
   "source": [
    "from genesis.tools import lextagger as LT\n",
    "from genesis.tools.trips import ontology as ont"
   ]
  },
  {
   "cell_type": "code",
   "execution_count": 2,
   "metadata": {},
   "outputs": [],
   "source": [
    "sent = \"I like oranges and apples\"\n",
    "sent = \"I went to the cat\""
   ]
  },
  {
   "cell_type": "code",
   "execution_count": 12,
   "metadata": {},
   "outputs": [
    {
     "name": "stdout",
     "output_type": "stream",
     "text": [
      "<class 'spacy.tokens.doc.Doc'>\n",
      "I went to the cat\n"
     ]
    }
   ],
   "source": [
    "syntax_parsed = LT.nlp(sent)\n",
    "print(type(syntax_parsed))\n",
    "print(syntax_parsed)"
   ]
  },
  {
   "cell_type": "code",
   "execution_count": 13,
   "metadata": {},
   "outputs": [
    {
     "name": "stdout",
     "output_type": "stream",
     "text": [
      "I PRON nsubj {'pos': 'pron', 'prontype': 'prs'}\n",
      "went VERB ROOT {'pos': 'verb', 'verbform': 'fin', 'tense': 'past'}\n",
      "to ADP prep {'pos': 'adp'}\n",
      "the DET det {'pos': 'det'}\n",
      "cat NOUN pobj {'pos': 'noun', 'number': 'sing'}\n"
     ]
    }
   ],
   "source": [
    "for token in syntax_parsed:\n",
    "    print(token, token.pos_, token.dep_, LT.deep_syntax(token))"
   ]
  },
  {
   "cell_type": "code",
   "execution_count": 14,
   "metadata": {},
   "outputs": [],
   "source": [
    "# lookup like independently\n",
    "lexicon_like, ontology_like = LT.lookup_all(syntax_parsed[1])"
   ]
  },
  {
   "cell_type": "code",
   "execution_count": 15,
   "metadata": {},
   "outputs": [
    {
     "data": {
      "text/plain": [
       "[lex:went.past.become[become],\n",
       " lex:went.past.execute[act],\n",
       " lex:went.past.move[go],\n",
       " lex:went.past.occurring[befall],\n",
       " lex:went.past.should-be-at[belong],\n",
       " lex:went.past.startoff-begin-commence-start[begin],\n",
       " lex:went.past.undergo-action[go]]"
      ]
     },
     "execution_count": 15,
     "metadata": {},
     "output_type": "execute_result"
    }
   ],
   "source": [
    "lexicon_like"
   ]
  },
  {
   "cell_type": "code",
   "execution_count": 16,
   "metadata": {},
   "outputs": [
    {
     "data": {
      "text/plain": [
       "[(1.0, lex:went.past.move[go].travel),\n",
       " (1.0, lex:went.past.become[become].become),\n",
       " (1.0, lex:went.past.cause-effect[cause].get),\n",
       " (1.0, lex:went.past.span[extend].extend),\n",
       " (1.0, lex:went.past.occurring[befall].happen),\n",
       " (1.0, lex:went.past.disappear[disappear].disappear),\n",
       " (1.0, lex:went.past.have-property[be].be),\n",
       " (1.0, lex:went.past.make-sound[noise].sound),\n",
       " (1.0, lex:went.past.function[function].function),\n",
       " (1.0, lex:went.past.stop[abort].end),\n",
       " (1.0, lex:went.past.live[live].survive),\n",
       " (1.0, lex:went.past.die[abort].die),\n",
       " (1.0, lex:went.past.should-be-at[belong].belong),\n",
       " (1.0, lex:went.past.startoff-begin-commence-start[begin].start),\n",
       " (1.0, lex:went.past.object-compare[balance].match),\n",
       " (1.0, lex:went.past.fit[fit].fit),\n",
       " (1.0, lex:went.past.physical-scrutiny[canvass].search),\n",
       " (1.0, lex:went.past.select[check].choose),\n",
       " (1.0, lex:went.past.render-ineffective[break].break),\n",
       " (0.8333333333333334, lex:went.past.activity-ongoing[continue].proceed),\n",
       " (0.7692307692307693, lex:went.past.act-behave[act].act),\n",
       " (0.7692307692307693, lex:went.past.execute[act].act),\n",
       " (0.7142857142857143, lex:went.past.provoke[arouse].move)]"
      ]
     },
     "execution_count": 16,
     "metadata": {},
     "output_type": "execute_result"
    }
   ],
   "source": [
    "ontology_like"
   ]
  },
  {
   "cell_type": "code",
   "execution_count": 8,
   "metadata": {},
   "outputs": [
    {
     "name": "stdout",
     "output_type": "stream",
     "text": [
      "like.12s123pbase.want[covet]\n"
     ]
    }
   ],
   "source": [
    "# lets take the second returned entry from the lexicon lookup\n",
    "wlike = lexicon_like[1]\n",
    "print(wlike)"
   ]
  },
  {
   "cell_type": "code",
   "execution_count": 9,
   "metadata": {},
   "outputs": [
    {
     "name": "stdout",
     "output_type": "stream",
     "text": [
      "1.0\n",
      "like.12s123pbase.want[covet].desire\n"
     ]
    }
   ],
   "source": [
    "# or the first ontology lookup\n",
    "score, wlike = ontology_like[0]\n",
    "print(score)\n",
    "print(wlike)"
   ]
  },
  {
   "cell_type": "code",
   "execution_count": 10,
   "metadata": {},
   "outputs": [
    {
     "name": "stdout",
     "output_type": "stream",
     "text": [
      "want\n"
     ]
    }
   ],
   "source": [
    "print(wlike.wclass.onttype)\n"
   ]
  },
  {
   "cell_type": "code",
   "execution_count": 16,
   "metadata": {},
   "outputs": [
    {
     "data": {
      "text/plain": [
       "['LexItem',\n",
       " 'WNLexItem',\n",
       " '__builtins__',\n",
       " '__cached__',\n",
       " '__doc__',\n",
       " '__file__',\n",
       " '__loader__',\n",
       " '__name__',\n",
       " '__package__',\n",
       " '__spec__',\n",
       " 'deep_syntax',\n",
       " 'get_pos',\n",
       " 'guess_cat',\n",
       " 'lexicon',\n",
       " 'lookup_all',\n",
       " 'lookup_token_from_lexicon',\n",
       " 'lookup_token_from_wordnet',\n",
       " 'nlp',\n",
       " 'normalize_spacy_to_trips',\n",
       " 'ontology',\n",
       " 'stopwords',\n",
       " 'sw_en',\n",
       " 'transform']"
      ]
     },
     "execution_count": 16,
     "metadata": {},
     "output_type": "execute_result"
    }
   ],
   "source": [
    "dir(LT)"
   ]
  },
  {
   "cell_type": "code",
   "execution_count": 18,
   "metadata": {},
   "outputs": [
    {
     "data": {
      "text/plain": [
       "['__class__',\n",
       " '__delattr__',\n",
       " '__dict__',\n",
       " '__dir__',\n",
       " '__doc__',\n",
       " '__eq__',\n",
       " '__format__',\n",
       " '__ge__',\n",
       " '__getattribute__',\n",
       " '__gt__',\n",
       " '__hash__',\n",
       " '__init__',\n",
       " '__init_subclass__',\n",
       " '__le__',\n",
       " '__lt__',\n",
       " '__module__',\n",
       " '__ne__',\n",
       " '__new__',\n",
       " '__reduce__',\n",
       " '__reduce_ex__',\n",
       " '__repr__',\n",
       " '__setattr__',\n",
       " '__sizeof__',\n",
       " '__str__',\n",
       " '__subclasshook__',\n",
       " '__weakref__',\n",
       " '_max_depth',\n",
       " 'data',\n",
       " 'get',\n",
       " 'get_node',\n",
       " 'get_word',\n",
       " 'get_wordnet',\n",
       " 'indexed',\n",
       " 'lookup',\n",
       " 'max_depth',\n",
       " 'root',\n",
       " 'synset_map',\n",
       " 'word_map',\n",
       " 'wupsim']"
      ]
     },
     "execution_count": 18,
     "metadata": {},
     "output_type": "execute_result"
    }
   ],
   "source": [
    "dir(ont)"
   ]
  },
  {
   "cell_type": "code",
   "execution_count": 3,
   "metadata": {},
   "outputs": [
    {
     "data": {
      "text/plain": [
       "[ont::fruit,\n",
       " ont::orange,\n",
       " ont::fruit,\n",
       " ont::color-scale,\n",
       " ont::plant,\n",
       " ont::material,\n",
       " ont::body-of-water,\n",
       " ont::orange]"
      ]
     },
     "execution_count": 3,
     "metadata": {},
     "output_type": "execute_result"
    }
   ],
   "source": [
    "ont.lookup(\"orange\")"
   ]
  },
  {
   "cell_type": "code",
   "execution_count": 26,
   "metadata": {},
   "outputs": [
    {
     "data": {
      "text/plain": [
       "ont::fruit"
      ]
     },
     "execution_count": 26,
     "metadata": {},
     "output_type": "execute_result"
    }
   ],
   "source": [
    "ont.lookup(\"orange\")[0]"
   ]
  },
  {
   "cell_type": "code",
   "execution_count": 6,
   "metadata": {},
   "outputs": [
    {
     "data": {
      "text/plain": [
       "{ont::manufactured-object}"
      ]
     },
     "execution_count": 6,
     "metadata": {},
     "output_type": "execute_result"
    }
   ],
   "source": [
    "ont.get_wordnet('art%1:06:00::')"
   ]
  },
  {
   "cell_type": "code",
   "execution_count": null,
   "metadata": {},
   "outputs": [],
   "source": []
  }
 ],
 "metadata": {
  "kernelspec": {
   "display_name": "Python 3",
   "language": "python",
   "name": "python3"
  },
  "language_info": {
   "codemirror_mode": {
    "name": "ipython",
    "version": 3
   },
   "file_extension": ".py",
   "mimetype": "text/x-python",
   "name": "python",
   "nbconvert_exporter": "python",
   "pygments_lexer": "ipython3",
   "version": "3.6.5"
  }
 },
 "nbformat": 4,
 "nbformat_minor": 2
}
