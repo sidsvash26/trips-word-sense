{
 "cells": [
  {
   "cell_type": "markdown",
   "metadata": {},
   "source": [
    "## Example Run"
   ]
  },
  {
   "cell_type": "code",
   "execution_count": 1,
   "metadata": {},
   "outputs": [],
   "source": [
    "from trips_senses import *"
   ]
  },
  {
   "cell_type": "code",
   "execution_count": 2,
   "metadata": {},
   "outputs": [
    {
     "data": {
      "text/plain": [
       "[[('UNK1', 1.0)],\n",
       " [(ont::male-child, 0.3474100594890457),\n",
       "  (ont::male-person, 0.3065939239809195),\n",
       "  (ont::person, 0.22047217362476396),\n",
       "  (ont::family-relation, 0.1255238429052709)],\n",
       " [('UNK2', 1.0)],\n",
       " [(ont::complete, 0.29550573857230855),\n",
       "  (ont::activity-event, 0.2096664088510141),\n",
       "  (ont::consume, 0.163800030207202),\n",
       "  (ont::cover, 0.15667557380998098),\n",
       "  (ont::end-at-loc, 0.08717612427974719),\n",
       "  (ont::stop, 0.08717612427974719)],\n",
       " [('UNK1', 1.0)],\n",
       " [(ont::activity, 1.0)]]"
      ]
     },
     "execution_count": 2,
     "metadata": {},
     "output_type": "execute_result"
    }
   ],
   "source": [
    "text = \"The boy just finished the project\"\n",
    "sent_to_trip_senses(text)"
   ]
  },
  {
   "cell_type": "code",
   "execution_count": 3,
   "metadata": {},
   "outputs": [
    {
     "data": {
      "text/plain": [
       "[[['U', 1.0]],\n",
       " [['boy%1:18:00::', 0.3474100594890457],\n",
       "  ['boy%1:18:03::', 0.2510476858105418],\n",
       "  ['boy%1:18:02::', 0.21164559326142643],\n",
       "  ['boy%1:18:01::', 0.18989666143898612]],\n",
       " [['just%4:02:00::', 0.23873602879846234],\n",
       "  ['just%4:02:01::', 0.2196243652216016],\n",
       "  ['just%4:02:03::', 0.18884813216954882],\n",
       "  ['just%4:02:04::', 0.1871909558886444],\n",
       "  ['just%4:02:05::', 0.16560051792174277]],\n",
       " [['finish%2:30:02::', 0.29550573857230855],\n",
       "  ['finish%2:30:01::', 0.2096664088510141],\n",
       "  ['finish%2:42:00::', 0.17435224855949438],\n",
       "  ['finish%2:34:00::', 0.163800030207202],\n",
       "  ['finish%2:35:00::', 0.15667557380998098]],\n",
       " [['U', 1.0]],\n",
       " [['project%1:04:00::', 0.5550795679817301],\n",
       "  ['project%1:09:00::', 0.44492043201826986]]]"
      ]
     },
     "execution_count": 3,
     "metadata": {},
     "output_type": "execute_result"
    }
   ],
   "source": [
    "sent_to_wn_senses(text)"
   ]
  },
  {
   "cell_type": "code",
   "execution_count": null,
   "metadata": {},
   "outputs": [],
   "source": []
  }
 ],
 "metadata": {
  "kernelspec": {
   "display_name": "Python 3",
   "language": "python",
   "name": "python3"
  },
  "language_info": {
   "codemirror_mode": {
    "name": "ipython",
    "version": 3
   },
   "file_extension": ".py",
   "mimetype": "text/x-python",
   "name": "python",
   "nbconvert_exporter": "python",
   "pygments_lexer": "ipython3",
   "version": "3.6.5"
  }
 },
 "nbformat": 4,
 "nbformat_minor": 2
}
